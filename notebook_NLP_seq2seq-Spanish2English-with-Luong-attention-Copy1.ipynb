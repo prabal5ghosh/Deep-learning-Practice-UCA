{
 "cells": [
  {
   "cell_type": "markdown",
   "id": "78508b33",
   "metadata": {
    "ExecuteTime": {
     "end_time": "2022-09-22T13:37:04.063861Z",
     "start_time": "2022-09-22T13:37:04.055329Z"
    }
   },
   "source": [
    "# Sequence to Sequence (seq2seq) variable length and Attention\n",
    "\n",
    "The most popular sequence-to-sequence task is translation: usually, from one natural language to another. In the last couple of years, commercial systems became surprisingly good at machine translation - check out, for example, Google Translate, Yandex Translate, DeepL Translator, Bing Microsoft Translator.\n",
    "\n",
    "More information on the lecture and [here](https://lena-voita.github.io/nlp_course/seq2seq_and_attention.html) (basics+attention part)"
   ]
  },
  {
   "cell_type": "code",
   "execution_count": 1,
   "id": "d0de8cd7",
   "metadata": {
    "ExecuteTime": {
     "end_time": "2023-01-26T17:17:34.909908Z",
     "start_time": "2023-01-26T17:17:33.831458Z"
    }
   },
   "outputs": [],
   "source": [
    "import unicodedata\n",
    "import re\n",
    "import numpy as np\n",
    "import pandas as pd\n",
    "import os\n",
    "import io\n",
    "import time"
   ]
  },
  {
   "cell_type": "code",
   "execution_count": 2,
   "id": "71870716",
   "metadata": {
    "ExecuteTime": {
     "end_time": "2023-01-26T17:17:37.366411Z",
     "start_time": "2023-01-26T17:17:36.131204Z"
    }
   },
   "outputs": [],
   "source": [
    "import matplotlib.pyplot as plt\n",
    "import matplotlib.ticker as ticker"
   ]
  },
  {
   "cell_type": "code",
   "execution_count": 3,
   "id": "df7ae156",
   "metadata": {
    "ExecuteTime": {
     "end_time": "2023-01-26T17:17:42.537097Z",
     "start_time": "2023-01-26T17:17:37.370117Z"
    }
   },
   "outputs": [],
   "source": [
    "import tensorflow as tf\n",
    "\n",
    "from tensorflow.keras.models import Model\n",
    "from tensorflow.keras import optimizers\n",
    "from tensorflow.keras import layers\n",
    "from tensorflow.keras.callbacks import EarlyStopping\n",
    "from tensorflow.keras.utils import plot_model"
   ]
  },
  {
   "cell_type": "markdown",
   "id": "ae82589a",
   "metadata": {},
   "source": [
    "## Data\n",
    "\n",
    "The data is available here: http://www.manythings.org/anki/. They consist of a set of pairs in the following format:\n",
    "\n",
    "  `May I borrow this book?`  `¿Puedo tomar prestado este libro?`\n",
    "\n",
    "There are a variety of languages available, English-Spanish data will be used.\n",
    "\n",
    "The processing of the data will consist of the following steps:\n",
    "\n",
    "1. Removal of special characters\n",
    "1. adding a start or end token to each sentence.\n",
    "1. Creating the vectorizer for each of the two languages"
   ]
  },
  {
   "cell_type": "code",
   "execution_count": 4,
   "id": "3480543e",
   "metadata": {
    "ExecuteTime": {
     "end_time": "2023-01-26T17:18:26.593257Z",
     "start_time": "2023-01-26T17:18:26.418041Z"
    }
   },
   "outputs": [],
   "source": [
    "# Data download\n",
    "def download_nmt(corpus=\"spa-eng\"):\n",
    "    path_to_zip = tf.keras.utils.get_file(corpus+\".zip\",\n",
    "                                          origin=\"http://storage.googleapis.com/download.tensorflow.org/data/\"+corpus+\".zip\",\n",
    "                                          extract=True)\n",
    "    path_to_file = os.path.dirname(path_to_zip)+\"/spa-eng/spa.txt\"\n",
    "    return path_to_file\n",
    "\n",
    "file_path = download_nmt()"
   ]
  },
  {
   "cell_type": "code",
   "execution_count": 5,
   "id": "aafee2bd",
   "metadata": {
    "ExecuteTime": {
     "end_time": "2023-01-26T17:18:31.264620Z",
     "start_time": "2023-01-26T17:18:31.257606Z"
    }
   },
   "outputs": [],
   "source": [
    "# Process the data\n",
    "def step1(sent):\n",
    "    # sent = on sentence in a language\n",
    "    def unicode_to_ascii(s):\n",
    "        return ''.join(c for c in unicodedata.normalize('NFD', s) if unicodedata.category(c) != 'Mn')\n",
    "\n",
    "    sent = unicode_to_ascii(sent.lower().strip())\n",
    "\n",
    "    # creating a space between a word and the punctuation following it\n",
    "    # eg: \"he is a boy.\" => \"he is a boy .\"\n",
    "    # Reference:- https://stackoverflow.com/questions/3645931/python-padding-punctuation-with-white-spaces-keeping-punctuation\n",
    "    sent = re.sub(r\"([?.!,¿])\", r\" \\1 \", sent)\n",
    "    sent = re.sub(r'[\" \"]+', \" \", sent)\n",
    "\n",
    "    # replacing everything with space except (a-z, A-Z, \".\", \"?\", \"!\", \",\")\n",
    "    sent = re.sub(r\"[^a-zA-Z?.!,¿]+\", \" \", sent)\n",
    "\n",
    "    return '<start> ' + sent.strip() + ' <end>' # Suppress extra space"
   ]
  },
  {
   "cell_type": "code",
   "execution_count": 6,
   "id": "14709205",
   "metadata": {
    "ExecuteTime": {
     "end_time": "2023-01-26T17:18:33.295792Z",
     "start_time": "2023-01-26T17:18:33.095822Z"
    }
   },
   "outputs": [
    {
     "data": {
      "text/plain": [
       "('<start> salga de aqui ! <end>', '<start> go away ! <end>')"
      ]
     },
     "execution_count": 6,
     "metadata": {},
     "output_type": "execute_result"
    }
   ],
   "source": [
    "# Loading data\n",
    "def read_data(path, num_examples, split=0.2):\n",
    "    # path : path to spa-eng.txt file\n",
    "    # num_examples : Limit the total number of training example for faster training (set num_examples = len(lines) to use full data)\n",
    "    lines = io.open(path, encoding='UTF-8').read().strip().split('\\n')\n",
    "    english_sentences, spanish_sentences= zip(*[[step1(sent) for sent in l.split('\\t')]  for l in lines[:int((1+split)*num_examples)]])\n",
    "\n",
    "    return np.array(spanish_sentences), np.array(english_sentences)\n",
    "\n",
    "num_examples = 700 # of which 100 for testing\n",
    "\n",
    "spanish_sentences, english_sentences = read_data(file_path, num_examples, split=0.0)\n",
    "test_spanish_sentences = spanish_sentences[num_examples-100:]\n",
    "test_english_sentences = english_sentences[num_examples-100:]\n",
    "spanish_sentences = spanish_sentences[:num_examples-100]\n",
    "english_sentences = english_sentences[:num_examples-100]\n",
    "spanish_sentences[100], english_sentences[100]"
   ]
  },
  {
   "cell_type": "code",
   "execution_count": 7,
   "id": "e6710f03",
   "metadata": {
    "ExecuteTime": {
     "end_time": "2023-01-26T17:18:34.523968Z",
     "start_time": "2023-01-26T17:18:34.514163Z"
    }
   },
   "outputs": [],
   "source": [
    "# Search vocabulary and max_length for each language\n",
    "def voc(lang):\n",
    "    # a list of sentences in the same language\n",
    "    lengths = [len(txt.split()) for txt in lang]\n",
    "    vocab = set([w for txt in lang for w in txt.split()])  \n",
    "\n",
    "    return max(lengths), list(vocab), len(vocab)+2 # for padding and OOV\n",
    "\n",
    "max_length_spanish, vocab_spanish, vocab_size_spanish = voc(spanish_sentences)\n",
    "max_length_english, vocab_english, vocab_size_english = voc(english_sentences)"
   ]
  },
  {
   "cell_type": "code",
   "execution_count": 8,
   "id": "6507d38c",
   "metadata": {
    "ExecuteTime": {
     "end_time": "2023-01-26T17:18:35.805497Z",
     "start_time": "2023-01-26T17:18:35.787503Z"
    }
   },
   "outputs": [
    {
     "data": {
      "text/html": [
       "<div>\n",
       "<style scoped>\n",
       "    .dataframe tbody tr th:only-of-type {\n",
       "        vertical-align: middle;\n",
       "    }\n",
       "\n",
       "    .dataframe tbody tr th {\n",
       "        vertical-align: top;\n",
       "    }\n",
       "\n",
       "    .dataframe thead th {\n",
       "        text-align: right;\n",
       "    }\n",
       "</style>\n",
       "<table border=\"1\" class=\"dataframe\">\n",
       "  <thead>\n",
       "    <tr style=\"text-align: right;\">\n",
       "      <th></th>\n",
       "      <th>lang</th>\n",
       "      <th>max_length</th>\n",
       "      <th>vocab_size</th>\n",
       "    </tr>\n",
       "  </thead>\n",
       "  <tbody>\n",
       "    <tr>\n",
       "      <th>0</th>\n",
       "      <td>english</td>\n",
       "      <td>7</td>\n",
       "      <td>279</td>\n",
       "    </tr>\n",
       "    <tr>\n",
       "      <th>1</th>\n",
       "      <td>spanish</td>\n",
       "      <td>8</td>\n",
       "      <td>548</td>\n",
       "    </tr>\n",
       "  </tbody>\n",
       "</table>\n",
       "</div>"
      ],
      "text/plain": [
       "      lang  max_length  vocab_size\n",
       "0  english           7         279\n",
       "1  spanish           8         548"
      ]
     },
     "execution_count": 8,
     "metadata": {},
     "output_type": "execute_result"
    }
   ],
   "source": [
    "pd.DataFrame({\"lang\":[\"english\", \"spanish\"],\n",
    "              \"max_length\":[max_length_english, max_length_spanish],\n",
    "              \"vocab_size\": [vocab_size_english, vocab_size_spanish]}).head()"
   ]
  },
  {
   "cell_type": "code",
   "execution_count": 9,
   "id": "7cd5098a",
   "metadata": {
    "ExecuteTime": {
     "end_time": "2023-01-26T17:18:41.848113Z",
     "start_time": "2023-01-26T17:18:41.790093Z"
    }
   },
   "outputs": [],
   "source": [
    "# Build vectorizer layer\n",
    "english_vectorizer = layers.TextVectorization(standardize=None, output_mode='int',\n",
    "                                              vocabulary=vocab_english,\n",
    "                                              name=\"English_vect\")\n",
    "# On peut connaitre le vocabulaire par english_vectorizer.get_vocabulary()\n",
    "\n",
    "# Do the same for spanish\n",
    "spanish_vectorizer = layers.TextVectorization(standardize=None, output_mode='int',\n",
    "                                              vocabulary=vocab_spanish,\n",
    "                                              name=\"Spanish_vect\")"
   ]
  },
  {
   "cell_type": "code",
   "execution_count": 10,
   "id": "f94d9977",
   "metadata": {
    "ExecuteTime": {
     "end_time": "2023-01-26T17:18:42.920562Z",
     "start_time": "2023-01-26T17:18:42.916171Z"
    }
   },
   "outputs": [],
   "source": [
    "BATCH_SIZE = 32\n",
    "embedding_dim = 50\n",
    "latent_dim = 64\n",
    "dropout=0.3"
   ]
  },
  {
   "cell_type": "markdown",
   "id": "3d57e539",
   "metadata": {
    "ExecuteTime": {
     "end_time": "2022-09-25T15:45:09.728517Z",
     "start_time": "2022-09-25T15:45:09.728489Z"
    }
   },
   "source": [
    "## Training model"
   ]
  },
  {
   "cell_type": "code",
   "execution_count": 11,
   "id": "de7dfe84",
   "metadata": {
    "ExecuteTime": {
     "end_time": "2023-01-26T17:19:02.901943Z",
     "start_time": "2023-01-26T17:19:02.891732Z"
    }
   },
   "outputs": [],
   "source": [
    "attention_func = 'MLP' # others possibility: 'dot', 'bilinear', 'MLP'"
   ]
  },
  {
   "cell_type": "code",
   "execution_count": 12,
   "id": "cac81860",
   "metadata": {
    "ExecuteTime": {
     "end_time": "2023-01-26T17:19:08.446139Z",
     "start_time": "2023-01-26T17:19:08.074180Z"
    }
   },
   "outputs": [
    {
     "name": "stdout",
     "output_type": "stream",
     "text": [
      "(None, None, 64)\n"
     ]
    }
   ],
   "source": [
    "\"\"\" Encoder part \"\"\"\n",
    "encoder_inputs = layers.Input(shape=(1,), dtype=tf.string, name=\"spanish\")\n",
    "encoder_vectorizer = spanish_vectorizer(encoder_inputs)\n",
    "encoder_embedding = layers.Embedding(vocab_size_spanish, embedding_dim, \n",
    "                                     name=\"spanish_embedding\")(encoder_vectorizer)\n",
    "encoder_outputs, encoder_state_h, encoder_state_c = layers.LSTM(latent_dim, return_sequences=True, return_state=True,\n",
    "                           dropout=dropout, recurrent_dropout=dropout, name=\"encoder\")(encoder_embedding)\n",
    "\n",
    "# We discard `encoder_outputs` and only keep the states. \n",
    "encoder_states = [encoder_state_h, encoder_state_c]\n",
    "\n",
    "print(encoder_outputs.shape)"
   ]
  },
  {
   "cell_type": "code",
   "execution_count": 13,
   "id": "8a966059",
   "metadata": {
    "ExecuteTime": {
     "end_time": "2023-01-26T17:19:14.740437Z",
     "start_time": "2023-01-26T17:19:14.463892Z"
    }
   },
   "outputs": [
    {
     "name": "stdout",
     "output_type": "stream",
     "text": [
      "(None, None, 64)\n"
     ]
    }
   ],
   "source": [
    "\"\"\" Decoder part \"\"\"\n",
    "# Set up the decoder, using `encoder_states` as initial state. \n",
    "decoder_inputs = layers.Input(shape=(None,), dtype=tf.int32, name=\"english_teacher\")\n",
    "decoder_embedding = layers.Embedding(vocab_size_english, embedding_dim,\n",
    "                                     name=\"english_embedding\")(decoder_inputs)\n",
    "decoder_outputs, decoder_state_h, decoder_state_c = layers.LSTM(latent_dim, return_sequences=True, return_state=True,\n",
    "                                                                dropout=dropout, recurrent_dropout=dropout, name=\"Decoder\")(decoder_embedding, initial_state=encoder_states)\n",
    "\n",
    "print(decoder_outputs.shape)"
   ]
  },
  {
   "cell_type": "markdown",
   "id": "fdc14c6a",
   "metadata": {},
   "source": [
    " ![General computation scheme](https://lena-voita.github.io/resources/lectures/seq2seq/attention/computation_scheme-min.png)"
   ]
  },
  {
   "cell_type": "code",
   "execution_count": 14,
   "id": "f58816ac",
   "metadata": {
    "ExecuteTime": {
     "end_time": "2023-01-26T17:19:38.718475Z",
     "start_time": "2023-01-26T17:19:38.515519Z"
    }
   },
   "outputs": [
    {
     "name": "stdout",
     "output_type": "stream",
     "text": [
      "MLP\n",
      "(None, None, None)\n"
     ]
    }
   ],
   "source": [
    "\"\"\" Attentional part \"\"\"\n",
    "# We use all encoder ouput\n",
    "\n",
    "if attention_func=='dot':\n",
    "    # Scoring funtion Dot\n",
    "    print(\"dot\")\n",
    "    attention = layers.dot([decoder_outputs, encoder_outputs], axes=[2,2], name=\"Attention_score\")\n",
    "elif attention_func=='bilinear':\n",
    "    # Scoring function Bilinear\n",
    "    print(\"bilinear\")\n",
    "    attention = layers.Dense(latent_dim, activation=\"linear\", name=\"dense_bilinear\")(encoder_outputs)\n",
    "    attention = layers.dot([decoder_outputs, attention], axes=[2,2], name=\"Attention_score\")\n",
    "elif attention_func==\"MLP\":\n",
    "    # Scoring function MLP - need to know encoder_max_len / decoder_max_len\n",
    "    print(\"MLP\")\n",
    "    attention_encoder = layers.Dense(latent_dim, activation=\"tanh\", name=\"dense_encoder\")(encoder_outputs)\n",
    "    attention_decoder = layers.Dense(latent_dim, activation=\"tanh\", name=\"dense_decoder\")(decoder_outputs)\n",
    "    attention = layers.dot([attention_decoder, attention_encoder], axes=[2,2], name=\"Attention_score\")\n",
    "\n",
    "if attention_func is not None:\n",
    "    attention = layers.Activation('softmax', name=\"Attention_weight\")(attention)\n",
    "    print(attention.shape)"
   ]
  },
  {
   "cell_type": "code",
   "execution_count": 15,
   "id": "6d0ba539",
   "metadata": {
    "ExecuteTime": {
     "end_time": "2023-01-26T17:19:40.095690Z",
     "start_time": "2023-01-26T17:19:40.078648Z"
    }
   },
   "outputs": [
    {
     "name": "stdout",
     "output_type": "stream",
     "text": [
      "(None, None, 64)\n"
     ]
    }
   ],
   "source": [
    "\"\"\" Context vector \"\"\"\n",
    "if attention_func is not None:\n",
    "    context = layers.dot([attention, encoder_outputs], axes=[2,1], name=\"Attention_output\")\n",
    "    print(context.shape)"
   ]
  },
  {
   "cell_type": "code",
   "execution_count": 16,
   "id": "d88fc633",
   "metadata": {
    "ExecuteTime": {
     "end_time": "2023-01-26T17:19:41.471114Z",
     "start_time": "2023-01-26T17:19:41.450748Z"
    }
   },
   "outputs": [
    {
     "name": "stdout",
     "output_type": "stream",
     "text": [
      "with attention\n",
      "(None, None, 128)\n"
     ]
    }
   ],
   "source": [
    "\"\"\" Combine attention with decoder ouput \"\"\"\n",
    "if attention_func is None:\n",
    "    print(\"without attention\")\n",
    "    decoder_combined_context = decoder_outputs\n",
    "else:\n",
    "    print(\"with attention\")\n",
    "    decoder_combined_context = layers.concatenate([context, decoder_outputs], name=\"Luong_Attention\")\n",
    "print(decoder_combined_context.shape)"
   ]
  },
  {
   "cell_type": "code",
   "execution_count": 17,
   "id": "24e883d0",
   "metadata": {
    "ExecuteTime": {
     "end_time": "2023-01-26T17:19:44.697040Z",
     "start_time": "2023-01-26T17:19:44.646692Z"
    }
   },
   "outputs": [
    {
     "name": "stdout",
     "output_type": "stream",
     "text": [
      "(None, None, 64)\n"
     ]
    }
   ],
   "source": [
    "\"\"\" Ouput of the model \"\"\"\n",
    "ouputs = layers.Dense(vocab_size_english, activation='softmax', name=\"Output\")(decoder_combined_context)\n",
    "print(decoder_outputs.shape)"
   ]
  },
  {
   "cell_type": "code",
   "execution_count": 18,
   "id": "57d63e80",
   "metadata": {},
   "outputs": [],
   "source": [
    "model = Model([encoder_inputs, decoder_inputs], ouputs)"
   ]
  },
  {
   "cell_type": "code",
   "execution_count": 19,
   "id": "6d884e03",
   "metadata": {
    "ExecuteTime": {
     "end_time": "2023-01-26T17:37:02.910369Z",
     "start_time": "2023-01-26T17:37:02.712209Z"
    },
    "scrolled": true
   },
   "outputs": [
    {
     "name": "stdout",
     "output_type": "stream",
     "text": [
      "Model: \"model\"\n",
      "__________________________________________________________________________________________________\n",
      " Layer (type)                   Output Shape         Param #     Connected to                     \n",
      "==================================================================================================\n",
      " spanish (InputLayer)           [(None, 1)]          0           []                               \n",
      "                                                                                                  \n",
      " Spanish_vect (TextVectorizatio  (None, None)        0           ['spanish[0][0]']                \n",
      " n)                                                                                               \n",
      "                                                                                                  \n",
      " english_teacher (InputLayer)   [(None, None)]       0           []                               \n",
      "                                                                                                  \n",
      " spanish_embedding (Embedding)  (None, None, 50)     27400       ['Spanish_vect[0][0]']           \n",
      "                                                                                                  \n",
      " english_embedding (Embedding)  (None, None, 50)     13950       ['english_teacher[0][0]']        \n",
      "                                                                                                  \n",
      " encoder (LSTM)                 [(None, None, 64),   29440       ['spanish_embedding[0][0]']      \n",
      "                                 (None, 64),                                                      \n",
      "                                 (None, 64)]                                                      \n",
      "                                                                                                  \n",
      " Decoder (LSTM)                 [(None, None, 64),   29440       ['english_embedding[0][0]',      \n",
      "                                 (None, 64),                      'encoder[0][1]',                \n",
      "                                 (None, 64)]                      'encoder[0][2]']                \n",
      "                                                                                                  \n",
      " dense_decoder (Dense)          (None, None, 64)     4160        ['Decoder[0][0]']                \n",
      "                                                                                                  \n",
      " dense_encoder (Dense)          (None, None, 64)     4160        ['encoder[0][0]']                \n",
      "                                                                                                  \n",
      " Attention_score (Dot)          (None, None, None)   0           ['dense_decoder[0][0]',          \n",
      "                                                                  'dense_encoder[0][0]']          \n",
      "                                                                                                  \n",
      " Attention_weight (Activation)  (None, None, None)   0           ['Attention_score[0][0]']        \n",
      "                                                                                                  \n",
      " Attention_output (Dot)         (None, None, 64)     0           ['Attention_weight[0][0]',       \n",
      "                                                                  'encoder[0][0]']                \n",
      "                                                                                                  \n",
      " Luong_Attention (Concatenate)  (None, None, 128)    0           ['Attention_output[0][0]',       \n",
      "                                                                  'Decoder[0][0]']                \n",
      "                                                                                                  \n",
      " Output (Dense)                 (None, None, 279)    35991       ['Luong_Attention[0][0]']        \n",
      "                                                                                                  \n",
      "==================================================================================================\n",
      "Total params: 144,541\n",
      "Trainable params: 144,541\n",
      "Non-trainable params: 0\n",
      "__________________________________________________________________________________________________\n"
     ]
    }
   ],
   "source": [
    "model.summary()"
   ]
  },
  {
   "cell_type": "code",
   "execution_count": 20,
   "id": "1dd638f0",
   "metadata": {
    "ExecuteTime": {
     "end_time": "2023-01-26T17:36:54.002991Z",
     "start_time": "2023-01-26T17:36:53.282603Z"
    }
   },
   "outputs": [
    {
     "data": {
      "text/plain": [
       "' The model '"
      ]
     },
     "execution_count": 20,
     "metadata": {},
     "output_type": "execute_result"
    }
   ],
   "source": [
    "\"\"\" The model \"\"\"\n",
    "# Define the model that will turn\n",
    "# `encoder_input_data` & `decoder_input_data` into `decoder_target_data`\n",
    "# model = Model([encoder_inputs, decoder_inputs], ouputs)\n",
    "\n",
    "# plot_model(model, show_shapes=True)"
   ]
  },
  {
   "cell_type": "code",
   "execution_count": 21,
   "id": "75cf518e",
   "metadata": {},
   "outputs": [
    {
     "name": "stdout",
     "output_type": "stream",
     "text": [
      "You must install pydot (`pip install pydot`) and install graphviz (see instructions at https://graphviz.gitlab.io/download/) for plot_model to work.\n"
     ]
    }
   ],
   "source": [
    "from tensorflow.keras.utils import plot_model \n",
    "plot_model(model, show_shapes=True,\n",
    "    show_dtype=True,\n",
    "    #show_layer_names=True,\n",
    "    #rankdir=\"TB\",\n",
    "    #expand_nested=True,\n",
    "    dpi=64,\n",
    "    #layer_range=True,\n",
    "    show_layer_activations=True,\n",
    ")"
   ]
  },
  {
   "cell_type": "code",
   "execution_count": null,
   "id": "4235f06e",
   "metadata": {},
   "outputs": [],
   "source": []
  },
  {
   "cell_type": "code",
   "execution_count": 22,
   "id": "6597ef08",
   "metadata": {
    "ExecuteTime": {
     "end_time": "2023-01-26T17:19:58.437467Z",
     "start_time": "2023-01-26T17:19:58.385678Z"
    }
   },
   "outputs": [
    {
     "data": {
      "text/plain": [
       "(600, 7)"
      ]
     },
     "execution_count": 22,
     "metadata": {},
     "output_type": "execute_result"
    }
   ],
   "source": [
    "# Prepare training data with teacher forcing\n",
    "# decoder_input_data is a 2D array of shape (None, None) containing a tokenization of the English sentences.\n",
    "# decoder_target_data is the same as decoder_input_data but offset by one timestep. decoder_target_data[:, t] will be the same as decoder_input_data[:, t-1].\n",
    "\n",
    "english_teacher_enc = english_vectorizer(english_sentences).numpy() # Teacher\n",
    "english_target_enc = np.zeros_like(english_teacher_enc)\n",
    "english_target_enc[:,:-1] = english_teacher_enc[:,1:] # To predict\n",
    "english_target_enc.shape"
   ]
  },
  {
   "cell_type": "code",
   "execution_count": 23,
   "id": "8b6ff9c2",
   "metadata": {
    "ExecuteTime": {
     "end_time": "2023-01-26T17:20:03.216269Z",
     "start_time": "2023-01-26T17:20:03.187188Z"
    }
   },
   "outputs": [],
   "source": [
    "#model.compile(loss='sparse_categorical_crossentropy', optimizer=\"adam\", metrics=['accuracy'])\n",
    "model.compile(loss='sparse_categorical_crossentropy', optimizer='rmsprop', metrics=['accuracy'])"
   ]
  },
  {
   "cell_type": "markdown",
   "id": "44a99095",
   "metadata": {
    "ExecuteTime": {
     "end_time": "2022-09-27T20:56:40.588508Z",
     "start_time": "2022-09-27T20:56:40.576904Z"
    }
   },
   "source": [
    "<font color=red>\n",
    "We voluntarily choose to stop on loss in order to have overfitting: too little data to train (or too long training time if we take more data).\n",
    "\n",
    "Obviously in real life... this is not something to do.\n",
    "\n",
    "Nevertheless, we keep a validation set to see the overtraining\n",
    "</font>"
   ]
  },
  {
   "cell_type": "code",
   "execution_count": 24,
   "id": "8b9f6887",
   "metadata": {
    "ExecuteTime": {
     "end_time": "2023-01-26T17:23:02.027567Z",
     "start_time": "2023-01-26T17:20:20.197516Z"
    }
   },
   "outputs": [
    {
     "name": "stdout",
     "output_type": "stream",
     "text": [
      "Epoch 1/50\n",
      "17/17 [==============================] - 14s 98ms/step - loss: 4.4813 - accuracy: 0.3786 - val_loss: 3.1835 - val_accuracy: 0.2857\n",
      "Epoch 2/50\n",
      "17/17 [==============================] - 0s 19ms/step - loss: 2.5416 - accuracy: 0.4032 - val_loss: 2.9368 - val_accuracy: 0.2857\n",
      "Epoch 3/50\n",
      "17/17 [==============================] - 0s 19ms/step - loss: 2.3324 - accuracy: 0.4220 - val_loss: 2.8609 - val_accuracy: 0.2905\n",
      "Epoch 4/50\n",
      "17/17 [==============================] - 0s 19ms/step - loss: 2.2208 - accuracy: 0.4741 - val_loss: 2.8542 - val_accuracy: 0.2929\n",
      "Epoch 5/50\n",
      "17/17 [==============================] - 0s 19ms/step - loss: 2.1138 - accuracy: 0.5238 - val_loss: 2.6113 - val_accuracy: 0.4762\n",
      "Epoch 6/50\n",
      "17/17 [==============================] - 0s 19ms/step - loss: 2.0542 - accuracy: 0.5653 - val_loss: 2.6960 - val_accuracy: 0.4381\n",
      "Epoch 7/50\n",
      "17/17 [==============================] - 0s 19ms/step - loss: 1.9527 - accuracy: 0.6177 - val_loss: 2.9521 - val_accuracy: 0.4381\n",
      "Epoch 8/50\n",
      "17/17 [==============================] - 0s 19ms/step - loss: 1.8895 - accuracy: 0.6238 - val_loss: 2.8360 - val_accuracy: 0.4381\n",
      "Epoch 9/50\n",
      "17/17 [==============================] - 0s 19ms/step - loss: 1.8128 - accuracy: 0.6558 - val_loss: 2.2687 - val_accuracy: 0.6976\n",
      "Epoch 10/50\n",
      "17/17 [==============================] - 0s 19ms/step - loss: 1.7636 - accuracy: 0.6735 - val_loss: 2.4077 - val_accuracy: 0.6690\n",
      "Epoch 11/50\n",
      "17/17 [==============================] - 0s 19ms/step - loss: 1.7030 - accuracy: 0.6817 - val_loss: 2.2289 - val_accuracy: 0.7095\n",
      "Epoch 12/50\n",
      "17/17 [==============================] - 0s 19ms/step - loss: 1.6600 - accuracy: 0.6868 - val_loss: 2.6425 - val_accuracy: 0.7000\n",
      "Epoch 13/50\n",
      "17/17 [==============================] - 0s 20ms/step - loss: 1.6209 - accuracy: 0.6870 - val_loss: 2.2875 - val_accuracy: 0.7000\n",
      "Epoch 14/50\n",
      "17/17 [==============================] - 0s 20ms/step - loss: 1.5833 - accuracy: 0.6897 - val_loss: 2.3138 - val_accuracy: 0.7024\n",
      "Epoch 15/50\n",
      "17/17 [==============================] - 0s 19ms/step - loss: 1.5580 - accuracy: 0.6899 - val_loss: 2.5242 - val_accuracy: 0.7452\n",
      "Epoch 16/50\n",
      "17/17 [==============================] - 0s 19ms/step - loss: 1.5367 - accuracy: 0.6942 - val_loss: 2.2113 - val_accuracy: 0.7548\n",
      "Epoch 17/50\n",
      "17/17 [==============================] - 0s 19ms/step - loss: 1.4984 - accuracy: 0.6955 - val_loss: 2.2047 - val_accuracy: 0.7571\n",
      "Epoch 18/50\n",
      "17/17 [==============================] - 0s 19ms/step - loss: 1.4872 - accuracy: 0.6989 - val_loss: 2.3302 - val_accuracy: 0.7571\n",
      "Epoch 19/50\n",
      "17/17 [==============================] - 0s 19ms/step - loss: 1.4554 - accuracy: 0.6995 - val_loss: 2.5064 - val_accuracy: 0.7571\n",
      "Epoch 20/50\n",
      "17/17 [==============================] - 0s 19ms/step - loss: 1.4515 - accuracy: 0.7045 - val_loss: 2.2515 - val_accuracy: 0.7595\n",
      "Epoch 21/50\n",
      "17/17 [==============================] - 0s 19ms/step - loss: 1.4198 - accuracy: 0.7108 - val_loss: 2.2697 - val_accuracy: 0.7595\n",
      "Epoch 22/50\n",
      "17/17 [==============================] - 0s 19ms/step - loss: 1.4034 - accuracy: 0.7103 - val_loss: 2.2470 - val_accuracy: 0.7595\n",
      "Epoch 23/50\n",
      "17/17 [==============================] - 0s 19ms/step - loss: 1.3810 - accuracy: 0.7140 - val_loss: 2.3061 - val_accuracy: 0.7595\n",
      "Epoch 24/50\n",
      "17/17 [==============================] - 0s 19ms/step - loss: 1.3608 - accuracy: 0.7193 - val_loss: 2.2362 - val_accuracy: 0.7595\n",
      "Epoch 25/50\n",
      "17/17 [==============================] - 0s 20ms/step - loss: 1.3270 - accuracy: 0.7225 - val_loss: 2.2478 - val_accuracy: 0.7595\n",
      "Epoch 26/50\n",
      "17/17 [==============================] - 0s 19ms/step - loss: 1.3081 - accuracy: 0.7272 - val_loss: 2.2448 - val_accuracy: 0.7595\n",
      "Epoch 27/50\n",
      "17/17 [==============================] - 0s 19ms/step - loss: 1.2925 - accuracy: 0.7307 - val_loss: 2.2072 - val_accuracy: 0.7595\n",
      "Epoch 28/50\n",
      "17/17 [==============================] - 0s 19ms/step - loss: 1.2678 - accuracy: 0.7365 - val_loss: 2.1744 - val_accuracy: 0.7500\n",
      "Epoch 29/50\n",
      "17/17 [==============================] - 0s 19ms/step - loss: 1.2483 - accuracy: 0.7384 - val_loss: 2.1938 - val_accuracy: 0.7238\n",
      "Epoch 30/50\n",
      "17/17 [==============================] - 0s 19ms/step - loss: 1.2233 - accuracy: 0.7460 - val_loss: 2.2052 - val_accuracy: 0.7333\n",
      "Epoch 31/50\n",
      "17/17 [==============================] - 0s 19ms/step - loss: 1.2098 - accuracy: 0.7444 - val_loss: 2.1658 - val_accuracy: 0.7333\n",
      "Epoch 32/50\n",
      "17/17 [==============================] - 0s 20ms/step - loss: 1.1845 - accuracy: 0.7487 - val_loss: 2.2228 - val_accuracy: 0.7333\n",
      "Epoch 33/50\n",
      "17/17 [==============================] - 0s 20ms/step - loss: 1.1702 - accuracy: 0.7495 - val_loss: 2.2012 - val_accuracy: 0.7238\n",
      "Epoch 34/50\n",
      "17/17 [==============================] - 0s 19ms/step - loss: 1.1495 - accuracy: 0.7526 - val_loss: 2.2097 - val_accuracy: 0.7238\n",
      "Epoch 35/50\n",
      "17/17 [==============================] - 0s 19ms/step - loss: 1.1290 - accuracy: 0.7558 - val_loss: 2.3404 - val_accuracy: 0.7238\n",
      "Epoch 36/50\n",
      "17/17 [==============================] - 0s 19ms/step - loss: 1.1106 - accuracy: 0.7595 - val_loss: 2.2374 - val_accuracy: 0.7262\n",
      "Epoch 37/50\n",
      "17/17 [==============================] - 0s 19ms/step - loss: 1.0852 - accuracy: 0.7619 - val_loss: 2.2179 - val_accuracy: 0.7238\n",
      "Epoch 38/50\n",
      "17/17 [==============================] - 0s 20ms/step - loss: 1.0690 - accuracy: 0.7669 - val_loss: 2.2654 - val_accuracy: 0.7238\n",
      "Epoch 39/50\n",
      "17/17 [==============================] - 0s 21ms/step - loss: 1.0501 - accuracy: 0.7672 - val_loss: 2.2606 - val_accuracy: 0.7238\n",
      "Epoch 40/50\n",
      "17/17 [==============================] - 0s 20ms/step - loss: 1.0319 - accuracy: 0.7712 - val_loss: 2.2346 - val_accuracy: 0.7262\n",
      "Epoch 41/50\n",
      "17/17 [==============================] - 0s 21ms/step - loss: 1.0164 - accuracy: 0.7762 - val_loss: 2.2460 - val_accuracy: 0.7238\n",
      "Epoch 42/50\n",
      "17/17 [==============================] - 0s 20ms/step - loss: 0.9941 - accuracy: 0.7749 - val_loss: 2.2557 - val_accuracy: 0.7238\n",
      "Epoch 43/50\n",
      "17/17 [==============================] - 0s 20ms/step - loss: 0.9793 - accuracy: 0.7791 - val_loss: 2.2625 - val_accuracy: 0.7238\n",
      "Epoch 44/50\n",
      "17/17 [==============================] - 0s 20ms/step - loss: 0.9676 - accuracy: 0.7823 - val_loss: 2.3174 - val_accuracy: 0.7238\n",
      "Epoch 45/50\n",
      "17/17 [==============================] - 0s 19ms/step - loss: 0.9464 - accuracy: 0.7823 - val_loss: 2.3255 - val_accuracy: 0.7238\n",
      "Epoch 46/50\n",
      "17/17 [==============================] - 0s 19ms/step - loss: 0.9361 - accuracy: 0.7804 - val_loss: 2.3015 - val_accuracy: 0.7310\n",
      "Epoch 47/50\n",
      "17/17 [==============================] - 0s 20ms/step - loss: 0.9260 - accuracy: 0.7881 - val_loss: 2.3502 - val_accuracy: 0.7238\n",
      "Epoch 48/50\n",
      "17/17 [==============================] - 0s 19ms/step - loss: 0.9065 - accuracy: 0.7894 - val_loss: 2.2991 - val_accuracy: 0.7381\n",
      "Epoch 49/50\n",
      "17/17 [==============================] - 0s 19ms/step - loss: 0.8899 - accuracy: 0.7921 - val_loss: 2.3121 - val_accuracy: 0.7381\n",
      "Epoch 50/50\n",
      "17/17 [==============================] - 0s 20ms/step - loss: 0.8834 - accuracy: 0.7947 - val_loss: 2.3438 - val_accuracy: 0.7310\n"
     ]
    }
   ],
   "source": [
    "# Configure the model and start training\n",
    "# Stop training with early stopping with patience of 20\n",
    "callbacks_list = [EarlyStopping(monitor='loss', mode='min', min_delta=0.000001,\n",
    "                                patience=5, restore_best_weights=True, verbose=1,\n",
    "                                )]\n",
    "history = model.fit([spanish_sentences, english_teacher_enc], english_target_enc,\n",
    "                    validation_split=0.1,\n",
    "                    epochs=50, batch_size=BATCH_SIZE,\n",
    "                    callbacks=callbacks_list,\n",
    "                    verbose=1)"
   ]
  },
  {
   "cell_type": "code",
   "execution_count": 25,
   "id": "f750fa7a",
   "metadata": {
    "ExecuteTime": {
     "end_time": "2023-01-26T17:23:21.827809Z",
     "start_time": "2023-01-26T17:23:02.033696Z"
    }
   },
   "outputs": [
    {
     "name": "stdout",
     "output_type": "stream",
     "text": [
      "INFO:tensorflow:Assets written to: seq2seq-attention-variable\\assets\n"
     ]
    }
   ],
   "source": [
    "model.save('seq2seq-attention-variable')"
   ]
  },
  {
   "cell_type": "code",
   "execution_count": 26,
   "id": "59feece5",
   "metadata": {
    "ExecuteTime": {
     "end_time": "2023-01-26T17:23:22.328438Z",
     "start_time": "2023-01-26T17:23:21.830971Z"
    },
    "scrolled": true
   },
   "outputs": [
    {
     "data": {
      "text/plain": [
       "(0.8834226727485657, 0.7947089672088623)"
      ]
     },
     "execution_count": 26,
     "metadata": {},
     "output_type": "execute_result"
    },
    {
     "data": {
      "image/png": "[encoded data removed]",
      "text/plain": [
       "<Figure size 1296x360 with 2 Axes>"
      ]
     },
     "metadata": {
      "needs_background": "light"
     },
     "output_type": "display_data"
    }
   ],
   "source": [
    "# Babysit the model\n",
    "fig, (ax1, ax2) = plt.subplots(nrows=1, ncols=2, figsize=(18, 5))\n",
    "\n",
    "pd.DataFrame({'val_loss':history.history['val_loss'],\n",
    "              'loss':history.history['loss'],\n",
    "             }).plot(ax=ax1)\n",
    "pd.DataFrame({'val_accuracy':history.history['val_accuracy'],\n",
    "              'accuracy':history.history['accuracy']\n",
    "             }).plot(ax=ax2)\n",
    "\n",
    "min(history.history['loss']), max(history.history['accuracy'])"
   ]
  },
  {
   "cell_type": "code",
   "execution_count": 27,
   "id": "3697386d",
   "metadata": {
    "ExecuteTime": {
     "end_time": "2023-01-26T17:27:16.110444Z",
     "start_time": "2023-01-26T17:27:16.095778Z"
    }
   },
   "outputs": [
    {
     "data": {
      "text/plain": [
       "'MLP'"
      ]
     },
     "execution_count": 27,
     "metadata": {},
     "output_type": "execute_result"
    }
   ],
   "source": [
    "attention_func"
   ]
  },
  {
   "cell_type": "markdown",
   "id": "1145ea97",
   "metadata": {},
   "source": [
    "* no attention : (0.170416459441185, 0.9534391760826111)\n",
    "* dot : (0.19616758823394775, 0.9447090029716492)\n",
    "* bilinear : (0.266628623008728, 0.9269841313362122)\n",
    "* MLP : (0.12090284377336502, 0.9666666388511658)"
   ]
  },
  {
   "cell_type": "markdown",
   "id": "cff3d499",
   "metadata": {},
   "source": [
    "## Inference\n",
    "\n"
   ]
  },
  {
   "cell_type": "code",
   "execution_count": 28,
   "id": "55fe5f28",
   "metadata": {
    "ExecuteTime": {
     "end_time": "2023-01-26T17:27:21.705705Z",
     "start_time": "2023-01-26T17:27:21.689971Z"
    }
   },
   "outputs": [],
   "source": [
    "# Pour décoder, il faut transformer un entier en mot.\n",
    "token2word = {token:word for token, word in enumerate(english_vectorizer.get_vocabulary())}\n",
    "word2token = {v:k for k, v in token2word.items()}\n",
    "\n",
    "def decode_english_sentence(lang):\n",
    "    return \" \".join([token2word[t] for t in lang]).strip()"
   ]
  },
  {
   "cell_type": "code",
   "execution_count": 29,
   "id": "526513a3",
   "metadata": {
    "ExecuteTime": {
     "end_time": "2023-01-26T17:27:22.291924Z",
     "start_time": "2023-01-26T17:27:22.281634Z"
    }
   },
   "outputs": [],
   "source": [
    "i2w = {token:word for token, word in enumerate(spanish_vectorizer.get_vocabulary())}\n",
    "#wi = {v:k for k, v in i2w.items()}"
   ]
  },
  {
   "cell_type": "code",
   "execution_count": 30,
   "id": "2193c268",
   "metadata": {
    "ExecuteTime": {
     "end_time": "2023-01-26T17:27:22.944857Z",
     "start_time": "2023-01-26T17:27:22.937345Z"
    },
    "code_folding": []
   },
   "outputs": [],
   "source": [
    "\n",
    "def translate(spanish_sent, preprocessing=False):\n",
    "    # Encode the input as state vectors.\n",
    "    if not preprocessing:\n",
    "        spanish_sent = step1(spanish_sent)\n",
    "    \n",
    "    # Sampling loop for decoding one sentence.\n",
    "    stop_condition = False\n",
    "    steps = 0\n",
    "    \n",
    "    # Build teacher for first step i.e. populate the first word of target sequence with \"<start>\".\n",
    "    target_seq = np.zeros(((1, max_length_english)))\n",
    "    target_seq[0, steps] = word2token[\"<start>\"]\n",
    "    \n",
    "    while not stop_condition:        \n",
    "        # Predict\n",
    "        predicted_tokens = model.predict([np.array(spanish_sent, ndmin=2), target_seq], verbose=0)\n",
    "        predicted_tokens = np.argmax(predicted_tokens, axis=2)\n",
    "        \n",
    "        # Sample a token\n",
    "        sampled_token_index = predicted_tokens[0, steps]\n",
    "        \n",
    "        # Update the target sequence.\n",
    "        steps += 1\n",
    "        target_seq[0, steps] = sampled_token_index\n",
    "        \n",
    "        # Exit condition: either hit max length\n",
    "        # or find stop character.\n",
    "        if sampled_token_index==word2token['<end>'] or steps==max_length_english-1:\n",
    "            stop_condition = True\n",
    "    return decode_english_sentence(target_seq[0])"
   ]
  },
  {
   "cell_type": "code",
   "execution_count": 31,
   "id": "5403562f",
   "metadata": {
    "ExecuteTime": {
     "end_time": "2023-01-26T17:31:18.906320Z",
     "start_time": "2023-01-26T17:27:23.643401Z"
    }
   },
   "outputs": [
    {
     "name": "stderr",
     "output_type": "stream",
     "text": [
      "600it [03:24,  2.94it/s]\n"
     ]
    }
   ],
   "source": [
    "# Permet de rechercher les phrases correctes.\n",
    "from tqdm import tqdm\n",
    "\n",
    "correct = []\n",
    "incorrect = []\n",
    "for i, (spanish_sent, english_sent) in tqdm(enumerate(zip(spanish_sentences, english_sentences))):\n",
    "    decoded_sentence = translate(spanish_sent)\n",
    "    decoded = english_vectorizer(decoded_sentence).numpy()\n",
    "    original = english_vectorizer(english_sent).numpy()\n",
    "    if len(decoded)==len(original) and sum(decoded==original)==len(original):\n",
    "        correct += [i]\n",
    "    else:\n",
    "        incorrect += [i]"
   ]
  },
  {
   "cell_type": "code",
   "execution_count": 32,
   "id": "849a15f2",
   "metadata": {
    "ExecuteTime": {
     "end_time": "2023-01-26T17:31:18.941526Z",
     "start_time": "2023-01-26T17:31:18.922432Z"
    }
   },
   "outputs": [
    {
     "data": {
      "text/plain": [
       "(26, 4.333333333333334)"
      ]
     },
     "execution_count": 32,
     "metadata": {},
     "output_type": "execute_result"
    }
   ],
   "source": [
    "len(correct), len(correct)/len(spanish_sentences)*100"
   ]
  },
  {
   "cell_type": "markdown",
   "id": "127ef248",
   "metadata": {},
   "source": [
    "On train set:\n",
    "* with variable length (208, 34.66)\n",
    "* with MLP attention and variable length (218, 36.333333333333336)"
   ]
  },
  {
   "cell_type": "code",
   "execution_count": 33,
   "id": "45e10f8f",
   "metadata": {
    "ExecuteTime": {
     "end_time": "2023-01-26T17:31:23.275993Z",
     "start_time": "2023-01-26T17:31:18.951181Z"
    }
   },
   "outputs": [
    {
     "name": "stdout",
     "output_type": "stream",
     "text": [
      "==================================================\n",
      "<start> ¿ quien ha ganado ? <end> --> <start> who won ? <end>\n",
      "<start> who won ? <end> ??? <start> who won ? <end>\n",
      "==================================================\n",
      "<start> ey , chavales . <end> --> <start> hi , guys . <end>\n",
      "<start> hi , guys . <end> ??? <start> hi , guys . <end>\n",
      "==================================================\n",
      "<start> ¿ que pasa , troncos ? <end> --> <start> hi , guys . <end>\n",
      "<start> hi , guys . <end> ??? <start> hi , guys . <end>\n",
      "==================================================\n",
      "<start> ¿ que tal os va ? <end> --> <start> hi , guys . <end>\n",
      "<start> hi , guys . <end> ??? <start> hi , guys . <end>\n",
      "==================================================\n",
      "<start> hola por aqui . <end> --> <start> hi , guys . <end>\n",
      "<start> hi , guys . <end> ??? <start> hi , guys . <end>\n",
      "==================================================\n",
      "<start> ¿ que tan profundo ? <end> --> <start> how deep ? <end>\n",
      "<start> how deep ? <end> ??? <start> how deep ? <end>\n",
      "==================================================\n",
      "<start> ¿ como de profundo ? <end> --> <start> how deep ? <end>\n",
      "<start> how deep ? <end> ??? <start> how deep ? <end>\n",
      "==================================================\n",
      "<start> estoy lleno . <end> --> <start> i m full . <end>\n",
      "<start> i m full . <end> ??? <start> i m full . <end>\n",
      "==================================================\n",
      "<start> estoy llena . <end> --> <start> i m full . <end>\n",
      "<start> i m full . <end> ??? <start> i m full . <end>\n",
      "==================================================\n",
      "<start> ya me llene . <end> --> <start> i m full . <end>\n",
      "<start> i m full . <end> ??? <start> i m full . <end>\n"
     ]
    }
   ],
   "source": [
    "# Décode les phrases correctes sélectionnées\n",
    "for spanish_sent, english_sent in zip(spanish_sentences[correct[-10:]], english_sentences[correct[-10:]]):\n",
    "    print(\"=\"*50)\n",
    "    print(spanish_sent, \"-->\", english_sent)\n",
    "    decoded_sentence = translate(spanish_sent)\n",
    "    print(english_sent, \"???\", decoded_sentence)"
   ]
  },
  {
   "cell_type": "code",
   "execution_count": 34,
   "id": "7614f834",
   "metadata": {
    "ExecuteTime": {
     "end_time": "2023-01-26T17:31:27.762848Z",
     "start_time": "2023-01-26T17:31:23.282708Z"
    }
   },
   "outputs": [
    {
     "name": "stdout",
     "output_type": "stream",
     "text": [
      "==================================================\n",
      "<start> estoy quebrado . <end> --> <start> i m broke . <end>\n",
      "<start> i m broke . <end> ??? <start> i m full . <end>\n",
      "==================================================\n",
      "<start> estoy sin blanca . <end> --> <start> i m broke . <end>\n",
      "<start> i m broke . <end> ??? <start> i m full . <end>\n",
      "==================================================\n",
      "<start> no tengo blanca . <end> --> <start> i m broke . <end>\n",
      "<start> i m broke . <end> ??? <start> go on . <end>\n",
      "==================================================\n",
      "<start> estoy loco . <end> --> <start> i m crazy . <end>\n",
      "<start> i m crazy . <end> ??? <start> i m full . <end>\n",
      "==================================================\n",
      "<start> estoy borracho . <end> --> <start> i m drunk . <end>\n",
      "<start> i m drunk . <end> ??? <start> i m full . <end>\n",
      "==================================================\n",
      "<start> estoy tomada . <end> --> <start> i m drunk . <end>\n",
      "<start> i m drunk . <end> ??? <start> i m full . <end>\n",
      "==================================================\n",
      "<start> estoy prendida . <end> --> <start> i m drunk . <end>\n",
      "<start> i m drunk . <end> ??? <start> i m full . <end>\n",
      "==================================================\n",
      "<start> me estoy muriendo . <end> --> <start> i m dying . <end>\n",
      "<start> i m dying . <end> ??? <start> i m full . <end>\n",
      "==================================================\n",
      "<start> soy el primero . <end> --> <start> i m first . <end>\n",
      "<start> i m first . <end> ??? <start> i m full . <end>\n",
      "==================================================\n",
      "<start> voy el primero . <end> --> <start> i m first . <end>\n",
      "<start> i m first . <end> ??? <start> he s ? <end>\n"
     ]
    }
   ],
   "source": [
    "# Décode les phrases incorrectes sélectionnées\n",
    "for spanish_sent, english_sent in zip(spanish_sentences[incorrect[-10:]], english_sentences[incorrect[-10:]]):\n",
    "    print(\"=\"*50)\n",
    "    print(spanish_sent, \"-->\", english_sent)\n",
    "    decoded_sentence = translate(spanish_sent)\n",
    "    print(english_sent, \"???\", decoded_sentence)"
   ]
  },
  {
   "cell_type": "markdown",
   "id": "60bd2168",
   "metadata": {},
   "source": [
    "##  Performance on never before seen data\n",
    "\n",
    "<font color='red'>\n",
    "    <bold>Warning:</bold> remember that we have overfitted the model and that we are only working on train data... and not test data.\n",
    "</font>"
   ]
  },
  {
   "cell_type": "code",
   "execution_count": 35,
   "id": "e013021c",
   "metadata": {
    "ExecuteTime": {
     "end_time": "2023-01-26T17:32:10.210646Z",
     "start_time": "2023-01-26T17:31:27.766827Z"
    }
   },
   "outputs": [
    {
     "name": "stderr",
     "output_type": "stream",
     "text": [
      "100it [00:33,  3.01it/s]\n"
     ]
    },
    {
     "data": {
      "text/plain": [
       "(0, 0.0)"
      ]
     },
     "execution_count": 35,
     "metadata": {},
     "output_type": "execute_result"
    }
   ],
   "source": [
    "# Permet de rechercher les phrases correctes.\n",
    "from tqdm import tqdm\n",
    "\n",
    "test_correct = []\n",
    "for i, (spanish_sent, english_sent) in tqdm(enumerate(zip(test_spanish_sentences, test_english_sentences))):\n",
    "    decoded_sentence = translate(spanish_sent)\n",
    "    decoded = english_vectorizer(decoded_sentence).numpy()\n",
    "    original = english_vectorizer(english_sent).numpy()\n",
    "    if len(decoded)==len(original) and sum(decoded==original)==len(original):\n",
    "        test_correct += [i]\n",
    "len(test_correct), len(test_correct)/len(test_spanish_sentences)*100"
   ]
  },
  {
   "cell_type": "markdown",
   "id": "8ad0431b",
   "metadata": {},
   "source": [
    "## Plotting attention matrix "
   ]
  },
  {
   "cell_type": "code",
   "execution_count": 36,
   "id": "7d2ad7eb",
   "metadata": {
    "ExecuteTime": {
     "end_time": "2022-10-19T09:36:35.899853Z",
     "start_time": "2022-10-19T09:36:35.543632Z"
    }
   },
   "outputs": [
    {
     "name": "stdout",
     "output_type": "stream",
     "text": [
      "You must install pydot (`pip install pydot`) and install graphviz (see instructions at https://graphviz.gitlab.io/download/) for plot_model to work.\n"
     ]
    }
   ],
   "source": [
    "\"\"\" The activation matrix is extracted from the previous model. \"\"\"\n",
    "attention_model = Model([encoder_inputs, decoder_inputs], attention)\n",
    "plot_model(attention_model, show_shapes=True)"
   ]
  },
  {
   "cell_type": "code",
   "execution_count": 37,
   "id": "a5b3d87f",
   "metadata": {
    "ExecuteTime": {
     "end_time": "2022-10-19T09:37:29.229830Z",
     "start_time": "2022-10-19T09:37:29.227327Z"
    }
   },
   "outputs": [],
   "source": [
    "\"\"\" Apply model on one sentence \"\"\"\n",
    "id = 74 # 13, 42, 74"
   ]
  },
  {
   "cell_type": "code",
   "execution_count": 38,
   "id": "4393a143",
   "metadata": {
    "ExecuteTime": {
     "end_time": "2022-10-19T10:13:52.372353Z",
     "start_time": "2022-10-19T10:13:52.157800Z"
    }
   },
   "outputs": [
    {
     "name": "stdout",
     "output_type": "stream",
     "text": [
      "1/1 [==============================] - 1s 687ms/step\n",
      "['<start>', 'mantente', 'en', 'calma', '.', '<end>']\n",
      "['<start>', 'be', 'calm', '.', '<end>']\n",
      "[0.9999999  1.         1.         0.99999994 1.        ]\n"
     ]
    },
    {
     "data": {
      "image/png": "[encoded data removed]",
      "text/plain": [
       "<Figure size 216x216 with 2 Axes>"
      ]
     },
     "metadata": {
      "needs_background": "light"
     },
     "output_type": "display_data"
    }
   ],
   "source": [
    "import seaborn as sns\n",
    "\n",
    "attention_matrix = attention_model.predict([spanish_sentences[id:id+1], english_teacher_enc[id:id+1]])[0]\n",
    "\n",
    "x_labels = [spanish_vectorizer.get_vocabulary()[i] for i in spanish_vectorizer(spanish_sentences[id]).numpy() if i!=0]\n",
    "print(x_labels)\n",
    "\n",
    "y_labels = [english_vectorizer.get_vocabulary()[i] for i in english_teacher_enc[id][:] if i!=0]\n",
    "print(y_labels)\n",
    "attention_matrix = attention_matrix[:len(y_labels),:len(x_labels)]\n",
    "\n",
    "print(np.sum(attention_matrix, axis=1))\n",
    "\n",
    "\n",
    "#x_labels.reverse()\n",
    "#y_labels.reverse()\n",
    "\n",
    "# Set up the matplotlib figure\n",
    "f, ax = plt.subplots(figsize=(3, 3))\n",
    "# Generate a custom diverging colormap\n",
    "cmap = sns.diverging_palette(255, 10, as_cmap=True)\n",
    "# Draw the heatmap with the mask and correct aspect ratio\n",
    "sns.heatmap(attention_matrix, vmax=1.0,\n",
    "            xticklabels=x_labels,\n",
    "            yticklabels=y_labels,\n",
    "            cmap=cmap,\n",
    "            center=0,\n",
    "            square=True,\n",
    "            linewidths=.5,\n",
    "            cbar_kws={\"shrink\": .7},\n",
    "           );\n"
   ]
  },
  {
   "cell_type": "markdown",
   "id": "986f8433",
   "metadata": {},
   "source": [
    "Poids respectifs entre c et h pour prédire lors de la dernière couche."
   ]
  },
  {
   "cell_type": "code",
   "execution_count": 39,
   "id": "b4b5e129",
   "metadata": {
    "ExecuteTime": {
     "end_time": "2022-10-19T10:14:23.454324Z",
     "start_time": "2022-10-19T10:14:23.333601Z"
    }
   },
   "outputs": [
    {
     "data": {
      "image/png": "[encoded data removed]",
      "text/plain": [
       "<Figure size 432x288 with 2 Axes>"
      ]
     },
     "metadata": {
      "needs_background": "light"
     },
     "output_type": "display_data"
    }
   ],
   "source": [
    "last_layer = model.layers[-1]\n",
    "weights = last_layer.get_weights()\n",
    "\n",
    "context_weigths = np.sum(weights[0][:64,:], axis=0)\n",
    "hidden_weigths = np.sum(weights[0][64:,:], axis=0)\n",
    "\n",
    "m = np.zeros((len(y_labels), 2))\n",
    "for i, j in enumerate(english_teacher_enc[id][:len(y_labels)]):\n",
    "    # Context from attention // Decoder output\n",
    "    c = abs(context_weigths[j])\n",
    "    h = abs(hidden_weigths[j])\n",
    "    #print(context_weigths[j], hidden_weigths[j])\n",
    "    m[i,:] = [c/(c+h),h/(h+c)]\n",
    "\n",
    "sns.heatmap(m, vmax=1.0,\n",
    "            xticklabels=[\"attention\", \"decoder\"],\n",
    "            yticklabels=y_labels,\n",
    "            cmap=cmap,\n",
    "            center=0,\n",
    "            square=True,\n",
    "            linewidths=.5,\n",
    "            cbar_kws={\"shrink\": .7},\n",
    "           );"
   ]
  },
  {
   "cell_type": "code",
   "execution_count": 40,
   "id": "c6894dfa",
   "metadata": {
    "ExecuteTime": {
     "end_time": "2022-10-19T09:41:48.026628Z",
     "start_time": "2022-10-19T09:41:48.022314Z"
    }
   },
   "outputs": [
    {
     "name": "stdout",
     "output_type": "stream",
     "text": [
      "74 25\n",
      "14 85\n",
      "7 92\n",
      "13 86\n",
      "2 97\n",
      "1 98\n",
      "1 98\n"
     ]
    }
   ],
   "source": [
    "for i in english_teacher_enc[id]:\n",
    "    # Context from attention // Decoder output\n",
    "    c = abs(context_weigths[i])\n",
    "    h = abs(hidden_weigths[i])\n",
    "    #print(context_weigths[i], hidden_weigths[i])\n",
    "    print(int(100*c/(c+h)), int(100*h/(h+c)))\n"
   ]
  },
  {
   "cell_type": "code",
   "execution_count": 24,
   "id": "824c5cd9",
   "metadata": {},
   "outputs": [
    {
     "ename": "TypeError",
     "evalue": "randint() got an unexpected keyword argument 'replace'",
     "output_type": "error",
     "traceback": [
      "\u001b[1;31m---------------------------------------------------------------------------\u001b[0m",
      "\u001b[1;31mTypeError\u001b[0m                                 Traceback (most recent call last)",
      "\u001b[1;32mc:\\python37\\Scripts/ipykernel_5384/2044052708.py\u001b[0m in \u001b[0;36m<module>\u001b[1;34m\u001b[0m\n\u001b[0;32m      8\u001b[0m            \"I had high hopes for this black phone, but it ended up being a total disappointment. It didn't do what it was supposed to and was a waste of time and money.\"]\n\u001b[0;32m      9\u001b[0m \u001b[1;33m\u001b[0m\u001b[0m\n\u001b[1;32m---> 10\u001b[1;33m \u001b[0mnp\u001b[0m\u001b[1;33m.\u001b[0m\u001b[0mrandom\u001b[0m\u001b[1;33m.\u001b[0m\u001b[0mrandint\u001b[0m\u001b[1;33m(\u001b[0m\u001b[1;36m0\u001b[0m\u001b[1;33m,\u001b[0m\u001b[0mlen\u001b[0m\u001b[1;33m(\u001b[0m\u001b[0mreviews\u001b[0m\u001b[1;33m)\u001b[0m\u001b[1;33m,\u001b[0m\u001b[1;36m9\u001b[0m\u001b[1;33m,\u001b[0m\u001b[0mreplace\u001b[0m\u001b[1;33m=\u001b[0m\u001b[1;32mFalse\u001b[0m\u001b[1;33m)\u001b[0m\u001b[1;33m\u001b[0m\u001b[1;33m\u001b[0m\u001b[0m\n\u001b[0m",
      "\u001b[1;32mmtrand.pyx\u001b[0m in \u001b[0;36mnumpy.random.mtrand.RandomState.randint\u001b[1;34m()\u001b[0m\n",
      "\u001b[1;31mTypeError\u001b[0m: randint() got an unexpected keyword argument 'replace'"
     ]
    }
   ],
   "source": [
    "import numpy as np\n",
    "\n",
    "reviews = [\"I absolutely love this phone. It has made my life so much easier!\",   \n",
    "           \"his phone just had a nice color, It didn't work as promised, the apps waere frozen, I coudn't use the phone\",    \n",
    "           \"I can't believe how well this product works! It exceeded my expectations and I would definitely recommend it.\",\"I absolutely love this phone. It has made my life so much easier!\",   \n",
    "           \"his phone just had a nice color, It didn't work as promised, the apps waere frozen, I coudn't use the phone\",    \n",
    "           \"I can't believe how well this product works! It exceeded my expectations and I would definitely recommend it.\",  \n",
    "           \"I had high hopes for this black phone, but it ended up being a total disappointment. It didn't do what it was supposed to and was a waste of time and money.\"]\n",
    "\n",
    "np.random.randint(0,len(reviews),9,replace=False)"
   ]
  }
 ],
 "metadata": {
  "kernelspec": {
   "display_name": "Python 3 (ipykernel)",
   "language": "python",
   "name": "python3"
  },
  "language_info": {
   "codemirror_mode": {
    "name": "ipython",
    "version": 3
   },
   "file_extension": ".py",
   "mimetype": "text/x-python",
   "name": "python",
   "nbconvert_exporter": "python",
   "pygments_lexer": "ipython3",
   "version": "3.11.5"
  },
  "latex_envs": {
   "LaTeX_envs_menu_present": true,
   "autoclose": true,
   "autocomplete": true,
   "bibliofile": "biblio.bib",
   "cite_by": "apalike",
   "current_citInitial": 1,
   "eqLabelWithNumbers": true,
   "eqNumInitial": 1,
   "hotkeys": {
    "equation": "Ctrl-E",
    "itemize": "Ctrl-I"
   },
   "labels_anchors": false,
   "latex_user_defs": false,
   "report_style_numbering": false,
   "user_envs_cfg": false
  },
  "nbTranslate": {
   "displayLangs": [
    "*"
   ],
   "hotkey": "alt-t",
   "langInMainMenu": true,
   "sourceLang": "en",
   "targetLang": "fr",
   "useGoogleTranslate": true
  }
 },
 "nbformat": 4,
 "nbformat_minor": 5
}
