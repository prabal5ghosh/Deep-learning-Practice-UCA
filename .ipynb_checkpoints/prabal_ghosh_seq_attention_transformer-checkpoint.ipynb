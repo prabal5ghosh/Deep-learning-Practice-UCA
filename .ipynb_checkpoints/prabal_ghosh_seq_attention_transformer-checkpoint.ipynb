{
 "cells": [
  {
   "cell_type": "markdown",
   "id": "e958e291-1eba-48be-8b37-6acdbfaa32ec",
   "metadata": {
    "tags": []
   },
   "source": [
    "# PRABAL GHOSH\n",
    "## Deep Learning Lab =  Sequence to Sequence (seq2seq) variable length and Attention and Transformer"
   ]
  },
  {
   "cell_type": "markdown",
   "id": "942a617d-f89b-41a1-8cf4-676db0fbe234",
   "metadata": {},
   "source": [
    "You must submit a notebook with execution traces and perfectly written corresponding to the course on Seq2Seq, Seq2Seq with Attention and Transformer architectures. This notebook will identify at least 5 sections:\n",
    "- Introduction: presentation of the problem and how to proceed\n",
    "- Data pre-processing\n",
    "- Seq2Seq architecture\n",
    "- Seq2Seq architecture with Attention (specify which attention model you used)\n",
    "- Transformer-based architecture\n",
    "- Use of a model from huggingface.co (transfer learning) to address the same problem (optional)\n",
    "- Conclusion: comparison of approaches and personal remarks\n",
    "\n",
    "Submit also a pdf version of your notebook"
   ]
  },
  {
   "cell_type": "markdown",
   "id": "bac0fdb5-35a6-40f6-8df4-755dcdef3097",
   "metadata": {
    "jp-MarkdownHeadingCollapsed": true,
    "tags": []
   },
   "source": [
    "# Some important links for Sequence to Sequence (seq2seq) variable length and Attention and Transformer\n"
   ]
  },
  {
   "cell_type": "markdown",
   "id": "5b5724f2-1cea-4bd4-aca3-524d0de86603",
   "metadata": {
    "tags": []
   },
   "source": [
    "## <font color = green> **Data is dowlnloaded from the following link** </font>  \n",
    "[https://www.manythings.org/anki/](https://www.manythings.org/anki/)(Tab-delimited Bilingual Sentence Pairs)\n",
    "\n",
    "**The following tutorial is followed to understand the Sequence to Sequence**\n",
    "\n",
    "- \"https://lena-voita.github.io/nlp_course/seq2seq_and_attention.html\" (basics+attention part)\n",
    "- \"https://towardsdatascience.com/classic-seq2seq-model-vs-seq2seq-model-with-attention-31527c77b28a\"\n",
    "- \"https://wikidocs.net/178419\"\n",
    "- \"https://www.jeremyjordan.me/attention/\"\n",
    "- \"https://machinelearningmastery.com/a-gentle-introduction-to-positional-encoding-in-transformer-models-part-1/\"\n",
    "- \"https://www.tensorflow.org/text/tutorials/transformer\"\n",
    "- \"https://blog.keras.io/a-ten-minute-introduction-to-sequence-to-sequence-learning-in-keras.html\" (A ten-minute introduction to sequence-to-sequence learning in Keras)\n",
    "\n",
    "**The following youtube videos are good to understand the concepts**\n",
    "- \"https://www.youtube.com/watch?v=XfpMkf4rD6E\"\n",
    "- \"https://www.youtube.com/watch?v=RRP0czWtOeM&list=PLQflnv_s49v-4aH-xFcTykTpcyWSY4Tww&index=5\"\n",
    "- \"https://www.youtube.com/watch?v=7gHqxK1o7MU\""
   ]
  },
  {
   "cell_type": "markdown",
   "id": "2e8f78aa-900a-4454-83cd-c7f9b2ebf0d1",
   "metadata": {},
   "source": []
  },
  {
   "cell_type": "markdown",
   "id": "d9c882e5-2189-44b7-8151-f1dc69af146a",
   "metadata": {
    "tags": []
   },
   "source": [
    "# Normal Sequence to Sequence (seq2seq)"
   ]
  },
  {
   "cell_type": "markdown",
   "id": "f0d92122-968f-4d52-9a02-443cf4e49bcd",
   "metadata": {
    "tags": []
   },
   "source": [
    "## import libraries"
   ]
  },
  {
   "cell_type": "markdown",
   "id": "397a5234-f27f-40d5-b32c-c805ff8def65",
   "metadata": {},
   "source": [
    "<img  src=\"https://www.jeremyjordan.me/content/images/size/w1600/2023/02/path-length-1-2.png\" />\n"
   ]
  },
  {
   "cell_type": "markdown",
   "id": "9e96259a-d397-4723-b289-83d29cd82607",
   "metadata": {
    "tags": []
   },
   "source": [
    "\n",
    "<video controls src=\"https://lena-voita.github.io/resources/lectures/seq2seq/general/seq2seq_training_with_target.mp4\" />  "
   ]
  },
  {
   "cell_type": "markdown",
   "id": "18c83fa4-bc40-47d5-8fce-ee14a0c14ad1",
   "metadata": {},
   "source": [
    "import matplotlib.pyplot as plt\n",
    "import matplotlib.ticker as ticker\n",
    "import numpy as np\n",
    "import pandas as pd"
   ]
  },
  {
   "cell_type": "code",
   "execution_count": 1,
   "id": "9bd92765-05bc-4579-a7ae-b4a3b018d22f",
   "metadata": {
    "tags": []
   },
   "outputs": [],
   "source": [
    "import matplotlib.pyplot as plt\n",
    "import matplotlib.ticker as ticker\n",
    "import numpy as np\n",
    "import pandas as pd\n"
   ]
  },
  {
   "cell_type": "code",
   "execution_count": 2,
   "id": "0e1eea1f-9553-4c0c-a5e0-f2423d99c84a",
   "metadata": {
    "tags": []
   },
   "outputs": [
    {
     "name": "stdout",
     "output_type": "stream",
     "text": [
      "WARNING:tensorflow:From C:\\Users\\praba\\anaconda3\\Lib\\site-packages\\keras\\src\\losses.py:2976: The name tf.losses.sparse_softmax_cross_entropy is deprecated. Please use tf.compat.v1.losses.sparse_softmax_cross_entropy instead.\n",
      "\n"
     ]
    }
   ],
   "source": [
    "import tensorflow as tf \n",
    "import keras"
   ]
  },
  {
   "cell_type": "code",
   "execution_count": 3,
   "id": "711e3d1c-819a-4e39-ae17-e7265bbe112d",
   "metadata": {
    "tags": []
   },
   "outputs": [],
   "source": [
    "import unicodedata\n",
    "import re\n",
    "import os\n",
    "import io\n",
    "import time"
   ]
  },
  {
   "cell_type": "code",
   "execution_count": 4,
   "id": "29a5cf0d-b5d9-4eb3-aea3-9753f34ef221",
   "metadata": {
    "tags": []
   },
   "outputs": [],
   "source": [
    "import tensorflow as tf\n",
    "\n",
    "from tensorflow.keras.models import Model\n",
    "from tensorflow.keras import optimizers\n",
    "from tensorflow.keras import layers\n",
    "from tensorflow.keras.layers import Input, Dense\n",
    "\n",
    "from tensorflow.keras.callbacks import EarlyStopping\n",
    "from tensorflow.keras.utils import plot_model"
   ]
  },
  {
   "cell_type": "markdown",
   "id": "27e98731-37f8-4ec4-b930-3a4ec62fda01",
   "metadata": {
    "tags": []
   },
   "source": [
    "## Data Preprocessing\n",
    "\n",
    "The data is available here: http://www.manythings.org/anki/.\n",
    "They consist of a set of pairs in the following format:\n",
    "\n",
    "  `hi .`  `hola .`\n",
    "\n",
    "There are a variety of languages available, English-Spanish data will be used.\n",
    "\n",
    "The processing of the data will consist of the following steps:\n",
    "\n",
    "1. Removal of special characters\n",
    "1. adding a start or end token to each sentence.\n",
    "1. Creating the vectorizer for each of the two languages"
   ]
  },
  {
   "cell_type": "markdown",
   "id": "1a63659a",
   "metadata": {},
   "source": [
    "**Limit the number of examples is 5000 for faster processing**\n",
    " "
   ]
  },
  {
   "cell_type": "code",
   "execution_count": 42,
   "id": "74d3d29d-b862-4561-88dc-9c2c74ba9b0a",
   "metadata": {
    "tags": []
   },
   "outputs": [
    {
     "name": "stdout",
     "output_type": "stream",
     "text": [
      "0     <start> go . <end>\n",
      "1     <start> go . <end>\n",
      "2     <start> go . <end>\n",
      "3     <start> hi . <end>\n",
      "4    <start> run ! <end>\n",
      "Name: Go., dtype: object\n",
      "0      <start> vete . <end>\n",
      "1      <start> vaya . <end>\n",
      "2    <start> vayase . <end>\n",
      "3      <start> hola . <end>\n",
      "4     <start> corre ! <end>\n",
      "Name: Ve., dtype: object\n"
     ]
    }
   ],
   "source": [
    "import pandas as pd  # Import pandas library for data manipulation\n",
    "import re  # Import re library for regular expressions\n",
    "import unicodedata  # Import unicodedata library for handling Unicode characters\n",
    "\n",
    "# Load dataset from file\n",
    "dataset = 'C:/Users/praba\\Documents/GitHub/deep_learning_uca_2/spa-eng/spa.txt'\n",
    "data = pd.read_table(dataset)  # Read data from file into a DataFrame\n",
    "\n",
    "# Extract source (X) and target (y) sentences from the DataFrame\n",
    "X = data.iloc[:, 0]  # Extract the first column as source sentences\n",
    "y = data.iloc[:, 1]  # Extract the second column as target sentences\n",
    "\n",
    "# Limit the number of examples for faster processing\n",
    "X = X[:5000]  # Limit the number of source sentences to 10000\n",
    "y = y[:5000]  # Limit the number of target sentences to 10000\n",
    "\n",
    "# Define a function to preprocess a sentence\n",
    "def step1(sent):\n",
    "    # Function to preprocess a sentence\n",
    "    def unicode_to_ascii(s):\n",
    "        # Normalize Unicode characters and remove accents\n",
    "        return ''.join(c for c in unicodedata.normalize('NFD', s) if unicodedata.category(c) != 'Mn')\n",
    "\n",
    "    # Convert the sentence to lowercase and remove leading/trailing whitespaces\n",
    "    sent = unicode_to_ascii(sent.lower().strip())\n",
    "\n",
    "    # Add spaces between words and punctuation\n",
    "    sent = re.sub(r\"([?.!,¿])\", r\" \\1 \", sent)\n",
    "    sent = re.sub(r'[\" \"]+', \" \", sent)\n",
    "\n",
    "    # Replace everything except letters, punctuation, and some special characters with spaces\n",
    "    sent = re.sub(r\"[^a-zA-Z?.!,¿]+\", \" \", sent)\n",
    "\n",
    "    # Add <start> and <end> tokens to the sentence\n",
    "    return '<start> ' + sent.strip() + ' <end>'\n",
    "\n",
    "# Apply the preprocessing function to each source and target sentence\n",
    "X_processed = X.apply(step1)  # Preprocess source sentences\n",
    "y_processed = y.apply(step1)  # Preprocess target sentences\n",
    "\n",
    "# Print the first few preprocessed sentences to check\n",
    "print(X_processed.head())\n",
    "print(y_processed.head())\n"
   ]
  },
  {
   "cell_type": "code",
   "execution_count": 85,
   "id": "ed8dcd21",
   "metadata": {},
   "outputs": [],
   "source": [
    "# data.iloc[:, 0]"
   ]
  },
  {
   "cell_type": "code",
   "execution_count": 43,
   "id": "51ea8439-a233-4c8d-a0a8-add026e5bd03",
   "metadata": {
    "tags": []
   },
   "outputs": [
    {
     "data": {
      "text/plain": [
       "((1000,), (1000,))"
      ]
     },
     "execution_count": 43,
     "metadata": {},
     "output_type": "execute_result"
    }
   ],
   "source": [
    "english_sentences = X_processed_array = np.array(X_processed)\n",
    "spanish_sentences = y_processed_array = np.array(y_processed)\n",
    "X_processed_array.shape, y_processed.shape   "
   ]
  },
  {
   "cell_type": "code",
   "execution_count": 44,
   "id": "65573723-d542-4d8d-99e1-4f13c52e8b54",
   "metadata": {
    "tags": []
   },
   "outputs": [],
   "source": [
    "from sklearn.model_selection import train_test_split\n",
    "X_train, X_test, y_train, y_test = train_test_split(\n",
    "    X_processed_array, y_processed_array, test_size=0.33, random_state=42)\n"
   ]
  },
  {
   "cell_type": "code",
   "execution_count": 45,
   "id": "cfa35fc1-3023-4dac-ab45-e69aa7bdda6b",
   "metadata": {
    "tags": []
   },
   "outputs": [
    {
     "data": {
      "text/plain": [
       "'<start> vaya . <end>'"
      ]
     },
     "execution_count": 45,
     "metadata": {},
     "output_type": "execute_result"
    }
   ],
   "source": [
    "y_processed_array[1]"
   ]
  },
  {
   "cell_type": "code",
   "execution_count": 46,
   "id": "356c4f01-193c-406b-9e6e-a85c9d01dcc9",
   "metadata": {
    "tags": []
   },
   "outputs": [],
   "source": [
    "# X_train"
   ]
  },
  {
   "cell_type": "code",
   "execution_count": 47,
   "id": "a5424c9b-dfc8-450e-92b8-84ecd4822148",
   "metadata": {
    "tags": []
   },
   "outputs": [],
   "source": [
    "# y_train"
   ]
  },
  {
   "cell_type": "code",
   "execution_count": 48,
   "id": "8ec71c70-5f98-4298-af68-b855f23d6e6f",
   "metadata": {
    "tags": []
   },
   "outputs": [],
   "source": [
    "# Search vocabulary and max_length for each language\n",
    "def voc(lang):\n",
    "    # a list of sentences in the same language\n",
    "    lengths = [len(txt.split()) for txt in lang]\n",
    "    vocab = set([w for txt in lang for w in txt.split()])  \n",
    "\n",
    "    return max(lengths), list(vocab), len(vocab)+2 # for padding and OOV\n",
    "\n",
    "max_length_spanish, vocab_spanish, vocab_size_spanish = voc(y_processed_array)\n",
    "max_length_english, vocab_english, vocab_size_english = voc(X_processed_array)"
   ]
  },
  {
   "cell_type": "code",
   "execution_count": 49,
   "id": "6f5f2a3d-b509-4a00-abe3-5d3b76717d20",
   "metadata": {
    "tags": []
   },
   "outputs": [
    {
     "data": {
      "text/plain": [
       "(9, 7)"
      ]
     },
     "execution_count": 49,
     "metadata": {},
     "output_type": "execute_result"
    }
   ],
   "source": [
    "max_length_spanish,max_length_english"
   ]
  },
  {
   "cell_type": "code",
   "execution_count": 50,
   "id": "f7ae083c",
   "metadata": {},
   "outputs": [
    {
     "data": {
      "text/plain": [
       "374"
      ]
     },
     "execution_count": 50,
     "metadata": {},
     "output_type": "execute_result"
    }
   ],
   "source": [
    "vocab_size_english"
   ]
  },
  {
   "cell_type": "code",
   "execution_count": 51,
   "id": "cb2ce9a0-51f1-4702-aa4e-00c6a56d442e",
   "metadata": {
    "tags": []
   },
   "outputs": [],
   "source": [
    "# Build vectorizer layer\n",
    "english_vectorizer = layers.TextVectorization(standardize=None, output_mode='int',\n",
    "                                              vocabulary=vocab_english,\n",
    "                                              name=\"English_vect\")\n",
    "# On peut connaitre le vocabulaire par english_vectorizer.get_vocabulary()\n",
    "\n",
    "# Do the same for spanish\n",
    "spanish_vectorizer = layers.TextVectorization(standardize=None, output_mode='int',\n",
    "                                              vocabulary=vocab_spanish,\n",
    "                                              name=\"Spanish_vect\")"
   ]
  },
  {
   "cell_type": "code",
   "execution_count": 52,
   "id": "e8591147-9cb3-4f70-a716-910c18e6566c",
   "metadata": {
    "tags": []
   },
   "outputs": [],
   "source": [
    "BATCH_SIZE = 32\n",
    "embedding_dim = 100\n",
    "latent_dim = 64\n",
    "dropout=0.2\n"
   ]
  },
  {
   "cell_type": "markdown",
   "id": "85ddf046-c940-46fc-9b45-aa09a216a0c2",
   "metadata": {
    "tags": []
   },
   "source": [
    "## basic model"
   ]
  },
  {
   "cell_type": "markdown",
   "id": "2a68b18b-d53b-488d-8417-2102e426b20a",
   "metadata": {},
   "source": [
    "**Encoder part**"
   ]
  },
  {
   "cell_type": "code",
   "execution_count": 53,
   "id": "a59b448e-fb5a-4162-a301-6d1a82b32c14",
   "metadata": {
    "tags": []
   },
   "outputs": [],
   "source": [
    "from keras.models import Model\n",
    "from keras.layers import Input, LSTM, Dense\n",
    "\n",
    "# Define an input sequence and process it.\n",
    "encoder_inputs = Input(shape=(None,),name=\"spanish_input\")\n",
    "# encoder_inputs = Input(shape=(None,),dtype=tf.string, name=\"spanish_input\")\n",
    "\n",
    "# encoder_vectorizer = spanish_vectorizer(encoder_inputs)\n",
    "# layer_embedding = layers.Embedding(vocab_size_spanish, embedding_dim, name=\"sp_embedding\")\n",
    "\n",
    "layer_embedding = layers.Embedding(vocab_size_spanish, embedding_dim, name=\"sp_embedding\")\n",
    "embedding_layer_final = layer_embedding(encoder_inputs)\n",
    "layer_lstm = LSTM(latent_dim, return_sequences=False, return_state=True)\n",
    "# _, enc_state_h, enc_state_c = LSTM(latent_dim,  return_sequences=False,return_state=True,\n",
    "#                                    dropout=dropout, recurrent_dropout=dropout, name=\"encoder\")(embedding_layer_final)\n",
    "\n",
    "enc_state_output, enc_state_h, enc_state_c = layer_lstm(embedding_layer_final)\n",
    "# We discard `encoder_outputs` and only keep the states.\n",
    "encoder_states = [enc_state_h, enc_state_c]\n",
    "\n"
   ]
  },
  {
   "cell_type": "code",
   "execution_count": null,
   "id": "e9150c57",
   "metadata": {},
   "outputs": [],
   "source": []
  },
  {
   "cell_type": "markdown",
   "id": "e78d04d1-134c-48dc-92ff-b0b01aeab542",
   "metadata": {},
   "source": [
    "**Decoder part**"
   ]
  },
  {
   "cell_type": "code",
   "execution_count": 54,
   "id": "a45efe08-54b3-4058-9c21-1d313d68b116",
   "metadata": {
    "tags": []
   },
   "outputs": [],
   "source": [
    "# decoder_inputs = Input(shape=(None,), dtype=tf.int32, name=\"english_teacher\")\n",
    "decoder_inputs = Input(shape=(None,), name=\"english_teacher\")\n",
    "\n",
    "layer_embedding_decoder = layers.Embedding(vocab_size_english, embedding_dim\n",
    "                     ,name=\"english_embedding\")\n",
    "x =layer_embedding_decoder(decoder_inputs)\n",
    "decoder_lstm = layers.LSTM(latent_dim, return_sequences=True, return_state=True,\n",
    "#                            dropout=dropout, recurrent_dropout=dropout, name=\"decoder1\")\n",
    "                          )\n",
    "                           \n",
    "decoder_outputs, _, _ = decoder_lstm(x, initial_state=encoder_states)\n",
    "decoder_dense = layers.Dense(vocab_size_english, activation='softmax')\n",
    "decoder_outputs_final = decoder_dense(decoder_outputs)\n"
   ]
  },
  {
   "cell_type": "code",
   "execution_count": 55,
   "id": "0bc74d6a",
   "metadata": {},
   "outputs": [
    {
     "data": {
      "text/plain": [
       "[(None, None, 64), (None, 64), (None, 64)]"
      ]
     },
     "execution_count": 55,
     "metadata": {},
     "output_type": "execute_result"
    }
   ],
   "source": [
    "decoder_lstm.output_shape\n"
   ]
  },
  {
   "cell_type": "code",
   "execution_count": 56,
   "id": "29e81454-7b06-4237-ba2c-2cce45df9587",
   "metadata": {
    "tags": []
   },
   "outputs": [],
   "source": [
    "# Define the model\n",
    "model1 = Model([encoder_inputs, decoder_inputs], decoder_outputs_final)"
   ]
  },
  {
   "cell_type": "code",
   "execution_count": 57,
   "id": "e2b16487-c92a-4827-b353-f1160ce0fac5",
   "metadata": {
    "tags": []
   },
   "outputs": [
    {
     "name": "stdout",
     "output_type": "stream",
     "text": [
      "Model: \"model_3\"\n",
      "__________________________________________________________________________________________________\n",
      " Layer (type)                Output Shape                 Param #   Connected to                  \n",
      "==================================================================================================\n",
      " spanish_input (InputLayer)  [(None, None)]               0         []                            \n",
      "                                                                                                  \n",
      " english_teacher (InputLaye  [(None, None)]               0         []                            \n",
      " r)                                                                                               \n",
      "                                                                                                  \n",
      " sp_embedding (Embedding)    (None, None, 100)            80800     ['spanish_input[0][0]']       \n",
      "                                                                                                  \n",
      " english_embedding (Embeddi  (None, None, 100)            37400     ['english_teacher[0][0]']     \n",
      " ng)                                                                                              \n",
      "                                                                                                  \n",
      " lstm_4 (LSTM)               [(None, 64),                 42240     ['sp_embedding[0][0]']        \n",
      "                              (None, 64),                                                         \n",
      "                              (None, 64)]                                                         \n",
      "                                                                                                  \n",
      " lstm_5 (LSTM)               [(None, None, 64),           42240     ['english_embedding[0][0]',   \n",
      "                              (None, 64),                            'lstm_4[0][1]',              \n",
      "                              (None, 64)]                            'lstm_4[0][2]']              \n",
      "                                                                                                  \n",
      " dense_2 (Dense)             (None, None, 374)            24310     ['lstm_5[0][0]']              \n",
      "                                                                                                  \n",
      "==================================================================================================\n",
      "Total params: 226990 (886.68 KB)\n",
      "Trainable params: 226990 (886.68 KB)\n",
      "Non-trainable params: 0 (0.00 Byte)\n",
      "__________________________________________________________________________________________________\n"
     ]
    }
   ],
   "source": [
    "model1.summary()"
   ]
  },
  {
   "cell_type": "code",
   "execution_count": 58,
   "id": "e45c5fba",
   "metadata": {},
   "outputs": [],
   "source": [
    "import unicodedata\n",
    "import re\n",
    "import numpy as np\n",
    "import pandas as pd\n",
    "import os\n",
    "import io\n",
    "import time\n",
    "\n",
    "import tensorflow as tf\n",
    "\n",
    "from tensorflow.keras.models import Model\n",
    "from tensorflow.keras import optimizers\n",
    "from tensorflow.keras import layers\n",
    "from tensorflow.keras.callbacks import EarlyStopping\n",
    "from tensorflow.keras.utils import plot_model\n",
    "\n",
    "import matplotlib.pyplot as plt\n",
    "import matplotlib.ticker as ticker"
   ]
  },
  {
   "cell_type": "code",
   "execution_count": 59,
   "id": "44149039-a504-4817-81c1-b922db5f786c",
   "metadata": {
    "tags": []
   },
   "outputs": [],
   "source": [
    "model1.compile(loss='sparse_categorical_crossentropy', optimizer='rmsprop', metrics=['accuracy'])\n"
   ]
  },
  {
   "cell_type": "code",
   "execution_count": 60,
   "id": "9b86560b",
   "metadata": {},
   "outputs": [
    {
     "data": {
      "image/png": "[encoded data removed]",
      "text/plain": [
       "<IPython.core.display.Image object>"
      ]
     },
     "execution_count": 60,
     "metadata": {},
     "output_type": "execute_result"
    }
   ],
   "source": [
    "from tensorflow.keras.utils import plot_model\n",
    "\n",
    "plot_model(model1, to_file='model_plot.png', show_shapes=True, show_layer_names=True)"
   ]
  },
  {
   "cell_type": "code",
   "execution_count": 61,
   "id": "26823733",
   "metadata": {},
   "outputs": [],
   "source": [
    "spanish_embedded_data = spanish_vectorizer(y_processed_array)\n"
   ]
  },
  {
   "cell_type": "code",
   "execution_count": 62,
   "id": "4ff96a94-7e7a-410b-a1dc-9ef3bd14ebe6",
   "metadata": {
    "tags": []
   },
   "outputs": [
    {
     "data": {
      "text/plain": [
       "(1000, 7)"
      ]
     },
     "execution_count": 62,
     "metadata": {},
     "output_type": "execute_result"
    }
   ],
   "source": [
    "# Prepare training data with teacher forcing\n",
    "# decoder_input_data is a 2D array of shape (None, None) containing a tokenization of the English sentences.\n",
    "# decoder_target_data is the same as decoder_input_data but offset by one timestep. decoder_target_data[:, t] will be the same as decoder_input_data[:, t-1].\n",
    "\n",
    "english_teacher_enc = english_vectorizer(X_processed_array) #.numpy() # Teacher\n",
    "english_target_enc = np.zeros_like(english_teacher_enc)\n",
    "english_target_enc[:,:-1] = english_teacher_enc[:,1:] # To predict\n",
    "english_target_enc.shape"
   ]
  },
  {
   "cell_type": "code",
   "execution_count": 63,
   "id": "6d6d0e71-4fcb-4eae-8ffb-1ad7b713e695",
   "metadata": {},
   "outputs": [],
   "source": [
    "# english_teacher_enc"
   ]
  },
  {
   "cell_type": "code",
   "execution_count": 64,
   "id": "62a576e5-b341-424c-b0b9-7ef5632515d2",
   "metadata": {
    "tags": []
   },
   "outputs": [
    {
     "name": "stdout",
     "output_type": "stream",
     "text": [
      "Epoch 1/10\n",
      "29/29 [==============================] - 6s 48ms/step - loss: 4.6685 - accuracy: 0.3852 - val_loss: 3.1587 - val_accuracy: 0.3657\n",
      "Epoch 2/10\n",
      "29/29 [==============================] - 0s 12ms/step - loss: 2.6143 - accuracy: 0.4244 - val_loss: 2.7406 - val_accuracy: 0.3657\n",
      "Epoch 3/10\n",
      "29/29 [==============================] - 0s 12ms/step - loss: 2.3264 - accuracy: 0.5057 - val_loss: 2.6599 - val_accuracy: 0.3886\n",
      "Epoch 4/10\n",
      "29/29 [==============================] - 0s 13ms/step - loss: 2.1546 - accuracy: 0.5863 - val_loss: 2.4452 - val_accuracy: 0.6200\n",
      "Epoch 5/10\n",
      "29/29 [==============================] - 0s 12ms/step - loss: 2.0177 - accuracy: 0.6600 - val_loss: 2.3537 - val_accuracy: 0.5700\n",
      "Epoch 6/10\n",
      "29/29 [==============================] - 0s 12ms/step - loss: 1.8991 - accuracy: 0.6881 - val_loss: 2.2397 - val_accuracy: 0.6300\n",
      "Epoch 7/10\n",
      "29/29 [==============================] - 0s 12ms/step - loss: 1.7942 - accuracy: 0.6962 - val_loss: 2.2070 - val_accuracy: 0.6286\n",
      "Epoch 8/10\n",
      "29/29 [==============================] - 0s 12ms/step - loss: 1.7109 - accuracy: 0.6971 - val_loss: 2.2252 - val_accuracy: 0.6300\n",
      "Epoch 9/10\n",
      "29/29 [==============================] - 0s 12ms/step - loss: 1.6442 - accuracy: 0.7098 - val_loss: 2.0960 - val_accuracy: 0.6300\n",
      "Epoch 10/10\n",
      "29/29 [==============================] - 0s 12ms/step - loss: 1.5870 - accuracy: 0.7117 - val_loss: 2.0583 - val_accuracy: 0.6300\n"
     ]
    }
   ],
   "source": [
    "# Configure the model and start training\n",
    "# Stop training with early stopping with patience of 20\n",
    "callbacks_list = [EarlyStopping(monitor='loss', mode='min', min_delta=0.000001,\n",
    "                                patience=3, restore_best_weights=True, verbose=1,\n",
    "                                )]\n",
    "\n",
    "\n",
    "# history = model1.fit([y_processed_array, english_teacher_enc], english_target_enc,\n",
    "#                     validation_split=0.1,\n",
    "#                     epochs=5, batch_size=BATCH_SIZE,\n",
    "#                     callbacks=callbacks_list,\n",
    "#                     verbose=1)\n",
    "\n",
    "\n",
    "\n",
    "history = model1.fit([spanish_embedded_data, english_teacher_enc], english_target_enc,\n",
    "                    validation_split=0.1,\n",
    "                    epochs=10, batch_size=BATCH_SIZE,\n",
    "                    callbacks=callbacks_list,\n",
    "                    verbose=1)\n"
   ]
  },
  {
   "cell_type": "code",
   "execution_count": 65,
   "id": "3f06c77d-6189-4c5b-bbaf-eaee6f02ff3e",
   "metadata": {},
   "outputs": [
    {
     "data": {
      "image/png": "[encoded data removed]",
      "text/plain": [
       "<Figure size 2000x600 with 2 Axes>"
      ]
     },
     "metadata": {},
     "output_type": "display_data"
    }
   ],
   "source": [
    "import matplotlib.pyplot as plt\n",
    "\n",
    "plt.figure(figsize=(20, 6))\n",
    "# Plot the first subplot  loss)\n",
    "plt.subplot(1, 2, 1)  # 1 row, 2 columns, first subplot\n",
    "plt.plot(history.history[\"loss\"])\n",
    "plt.plot(history.history[\"val_loss\"])\n",
    "plt.title(\"validation loss & training loss\")\n",
    "plt.xlabel(\"epochs\")\n",
    "plt.ylabel(\"loss\")\n",
    "leg = plt.legend([\"training loss\", \"validation loss\"],loc =\"upper right\"); \n",
    "\n",
    "# Plot the second subplot ( accuracy)\n",
    "plt.subplot(1, 2, 2)  # 1 row, 2 columns, second subplot\n",
    "plt.plot(history.history[\"accuracy\"])\n",
    "plt.plot(history.history[\"val_accuracy\"])\n",
    "plt.title(\"validation accuracy & training loaccuracyss\")\n",
    "plt.xlabel(\"epochs\")\n",
    "plt.ylabel(\"accuracy\")\n",
    "leg = plt.legend([\"training accuracy\", \"validation accuracy\"],loc =\"upper left\"); \n",
    "\n",
    "plt.show()\n"
   ]
  },
  {
   "cell_type": "code",
   "execution_count": null,
   "id": "9fa31eb2",
   "metadata": {},
   "outputs": [],
   "source": []
  },
  {
   "cell_type": "markdown",
   "id": "2b0d87c4",
   "metadata": {},
   "source": [
    "### prediction "
   ]
  },
  {
   "cell_type": "code",
   "execution_count": 118,
   "id": "d41164e3",
   "metadata": {},
   "outputs": [
    {
     "name": "stdout",
     "output_type": "stream",
     "text": [
      "32/32 [==============================] - 0s 8ms/step\n"
     ]
    }
   ],
   "source": [
    "y_pred=model1.predict([spanish_embedded_data, english_teacher_enc])"
   ]
  },
  {
   "cell_type": "code",
   "execution_count": 119,
   "id": "7a75504c",
   "metadata": {},
   "outputs": [
    {
     "data": {
      "text/plain": [
       "(1000, 7, 374)"
      ]
     },
     "execution_count": 119,
     "metadata": {},
     "output_type": "execute_result"
    }
   ],
   "source": [
    "y_pred.shape"
   ]
  },
  {
   "cell_type": "code",
   "execution_count": 120,
   "id": "37352650",
   "metadata": {},
   "outputs": [],
   "source": [
    "# y_pred[1]"
   ]
  },
  {
   "cell_type": "code",
   "execution_count": 121,
   "id": "1dac0c75",
   "metadata": {},
   "outputs": [],
   "source": [
    "# Pour décoder, il faut transformer un entier en mot.\n",
    "def get_word(n, tokenizer):\n",
    "    for word, index in tokenizer.word_index.items():\n",
    "        if index == n :\n",
    "            return word\n",
    "    return None\n",
    "    "
   ]
  },
  {
   "cell_type": "code",
   "execution_count": 122,
   "id": "91dbdb39",
   "metadata": {},
   "outputs": [],
   "source": [
    "from tensorflow.keras.preprocessing.text import Tokenizer\n",
    "\n",
    "# Now you can use the Tokenizer class\n",
    "# tokenizer = Tokenizer()\n",
    "\n",
    "def tokenization(lines):\n",
    "    tokenizer = Tokenizer()\n",
    "    tokenizer.fit_on_texts(lines)\n",
    "    return tokenizer\n",
    "\n"
   ]
  },
  {
   "cell_type": "code",
   "execution_count": 123,
   "id": "a23670c4",
   "metadata": {},
   "outputs": [],
   "source": [
    "import pandas as pd\n",
    "import numpy as np\n",
    "\n",
    "# Assuming df is your DataFrame\n",
    "\n",
    "# Selecting data from the first two columns\n",
    "first_two_columns_data = data.iloc[:, :2]\n",
    "\n",
    "# Convert the selected data into a NumPy array\n",
    "fra_eng = np.array(first_two_columns_data.values)\n",
    "\n",
    "# print(\"Array Data:\")\n",
    "# print(array_data)\n"
   ]
  },
  {
   "cell_type": "code",
   "execution_count": 124,
   "id": "85579c68",
   "metadata": {},
   "outputs": [],
   "source": [
    "eng_tokenizer = tokenization(fra_eng[:,0])"
   ]
  },
  {
   "cell_type": "code",
   "execution_count": 125,
   "id": "1688d746",
   "metadata": {},
   "outputs": [],
   "source": [
    "def get_word(index, tokenizer):\n",
    "    word = None\n",
    "    for word, idx in tokenizer.word_index.items():\n",
    "        if idx == index:\n",
    "            return word\n",
    "    return word\n"
   ]
  },
  {
   "cell_type": "code",
   "execution_count": 127,
   "id": "b7496314",
   "metadata": {},
   "outputs": [],
   "source": [
    "# preds_text = []\n",
    "\n",
    "# for i in y_pred:\n",
    "#     temp = []\n",
    "#     for j in range(len(i)):\n",
    "#         t = get_word(i[j], eng_tokenizer)\n",
    "#         if j>0:\n",
    "#             if (t ==get_word(i[j-1],eng_tokenizer ) or (t ==  None)):\n",
    "#                 temp.append(\"\")\n",
    "#             else:\n",
    "#                 temp.append(t)\n",
    "#         else:\n",
    "#             if(t == None):\n",
    "#                 temp.append(\"\")\n",
    "#             else:\n",
    "#                 temp.append(t)\n",
    "#     preds_text.append(\"\".join(temp))\n",
    "                "
   ]
  },
  {
   "cell_type": "code",
   "execution_count": null,
   "id": "033246aa",
   "metadata": {},
   "outputs": [],
   "source": []
  },
  {
   "cell_type": "code",
   "execution_count": 128,
   "id": "a456a71b",
   "metadata": {},
   "outputs": [],
   "source": [
    "# pred_df = pd.DataFrame({\"actual\":data.iloc[:1000, 0], \"predicted\": preds_text})"
   ]
  },
  {
   "cell_type": "code",
   "execution_count": null,
   "id": "2085980d",
   "metadata": {},
   "outputs": [],
   "source": []
  },
  {
   "cell_type": "code",
   "execution_count": null,
   "id": "6960be9b",
   "metadata": {},
   "outputs": [],
   "source": []
  },
  {
   "cell_type": "code",
   "execution_count": null,
   "id": "50b03ec2",
   "metadata": {},
   "outputs": [],
   "source": []
  },
  {
   "cell_type": "markdown",
   "id": "1dd32100",
   "metadata": {},
   "source": [
    "**ENCODER**"
   ]
  },
  {
   "cell_type": "code",
   "execution_count": 31,
   "id": "f19d2edd",
   "metadata": {},
   "outputs": [],
   "source": [
    "from keras.models import Model\n",
    "from keras.layers import Input, LSTM, Dense\n",
    "\n",
    "# Define an input sequence and process it.\n",
    "encoder_inputs = Input(shape=(None,))\n",
    "layer_embedding = layers.Embedding(vocab_size_spanish, embedding_dim)\n",
    "embedding_layer_final = layer_embedding(encoder_inputs)\n",
    "\n",
    "encoder = LSTM(latent_dim, return_state=True)\n",
    "encoder_outputs, state_h, state_c = encoder(embedding_layer_final)\n",
    "# We discard `encoder_outputs` and only keep the states.\n",
    "encoder_states = [state_h, state_c]\n",
    "\n"
   ]
  },
  {
   "cell_type": "markdown",
   "id": "493c0792",
   "metadata": {},
   "source": [
    "**DECODER**"
   ]
  },
  {
   "cell_type": "code",
   "execution_count": null,
   "id": "7424ff61",
   "metadata": {},
   "outputs": [],
   "source": [
    "# Set up the decoder, using `encoder_states` as initial state.\n",
    "decoder_inputs = Input(shape=(None,))\n",
    "# We set up our decoder to return full output sequences,\n",
    "# and to return internal states as well. We don't use the \n",
    "# return states in the training model, but we will use them in inference.\n",
    "\n",
    "layer_embedding_decoder = layers.Embedding(vocab_size_english, embedding_dim)\n",
    "x =layer_embedding_decoder(decoder_inputs)\n",
    "\n",
    "decoder_lstm = LSTM(latent_dim, return_sequences=True, return_state=True)\n",
    "decoder_outputs, _, _ = decoder_lstm(x,\n",
    "                                     initial_state=encoder_states)\n",
    "decoder_dense = Dense(vocab_size_english, activation='softmax')\n",
    "decoder_outputs = decoder_dense(decoder_outputs)\n",
    "\n",
    "# Define the model that will turn\n",
    "# `encoder_input_data` & `decoder_input_data` into `decoder_target_data`\n",
    "model_encoder_training = Model([encoder_inputs, decoder_inputs], decoder_outputs, name=\"model_encoder_training\")"
   ]
  },
  {
   "cell_type": "code",
   "execution_count": null,
   "id": "153dff70",
   "metadata": {},
   "outputs": [],
   "source": []
  },
  {
   "cell_type": "code",
   "execution_count": 33,
   "id": "742eb004",
   "metadata": {},
   "outputs": [
    {
     "name": "stdout",
     "output_type": "stream",
     "text": [
      "Model: \"model_encoder_training\"\n",
      "__________________________________________________________________________________________________\n",
      " Layer (type)                Output Shape                 Param #   Connected to                  \n",
      "==================================================================================================\n",
      " input_1 (InputLayer)        [(None, None)]               0         []                            \n",
      "                                                                                                  \n",
      " input_2 (InputLayer)        [(None, None)]               0         []                            \n",
      "                                                                                                  \n",
      " embedding (Embedding)       (None, None, 100)            457600    ['input_1[0][0]']             \n",
      "                                                                                                  \n",
      " embedding_1 (Embedding)     (None, None, 100)            220600    ['input_2[0][0]']             \n",
      "                                                                                                  \n",
      " lstm_2 (LSTM)               [(None, 64),                 42240     ['embedding[0][0]']           \n",
      "                              (None, 64),                                                         \n",
      "                              (None, 64)]                                                         \n",
      "                                                                                                  \n",
      " lstm_3 (LSTM)               [(None, None, 64),           42240     ['embedding_1[0][0]',         \n",
      "                              (None, 64),                            'lstm_2[0][1]',              \n",
      "                              (None, 64)]                            'lstm_2[0][2]']              \n",
      "                                                                                                  \n",
      " dense_1 (Dense)             (None, None, 2206)           143390    ['lstm_3[0][0]']              \n",
      "                                                                                                  \n",
      "==================================================================================================\n",
      "Total params: 906070 (3.46 MB)\n",
      "Trainable params: 906070 (3.46 MB)\n",
      "Non-trainable params: 0 (0.00 Byte)\n",
      "__________________________________________________________________________________________________\n"
     ]
    }
   ],
   "source": [
    "model_encoder_training.summary()"
   ]
  },
  {
   "cell_type": "code",
   "execution_count": 34,
   "id": "c610a7d9",
   "metadata": {},
   "outputs": [
    {
     "data": {
      "image/png": "[encoded data removed]",
      "text/plain": [
       "<IPython.core.display.Image object>"
      ]
     },
     "execution_count": 34,
     "metadata": {},
     "output_type": "execute_result"
    }
   ],
   "source": [
    "from tensorflow.keras.utils import plot_model\n",
    "\n",
    "plot_model(model_encoder_training, to_file='model_plot2.png', show_shapes=True, show_layer_names=True)"
   ]
  },
  {
   "cell_type": "code",
   "execution_count": 35,
   "id": "23896f18",
   "metadata": {},
   "outputs": [],
   "source": [
    "# Run training\n",
    "# model.compile(optimizer='rmsprop', loss='categorical_crossentropy')\n",
    "\n",
    "\n",
    "model_encoder_training.compile(loss='sparse_categorical_crossentropy', optimizer='rmsprop', metrics=['accuracy'])\n",
    "\n"
   ]
  },
  {
   "cell_type": "code",
   "execution_count": 36,
   "id": "fbfc65f1",
   "metadata": {},
   "outputs": [],
   "source": [
    "# spanish_embedded_data_test = spanish_vectorizer(y_test)\n",
    "# english_teacher_enc_test = english_vectorizer(X_test)"
   ]
  },
  {
   "cell_type": "code",
   "execution_count": null,
   "id": "edf5ca80",
   "metadata": {},
   "outputs": [],
   "source": []
  },
  {
   "cell_type": "code",
   "execution_count": 37,
   "id": "4618adab",
   "metadata": {},
   "outputs": [
    {
     "name": "stdout",
     "output_type": "stream",
     "text": [
      "Epoch 1/50\n",
      "282/282 [==============================] - 11s 23ms/step - loss: 3.4039 - accuracy: 0.4463 - val_loss: 3.0686 - val_accuracy: 0.5150\n",
      "Epoch 2/50\n",
      "282/282 [==============================] - 5s 18ms/step - loss: 2.2416 - accuracy: 0.6432 - val_loss: 2.7473 - val_accuracy: 0.5260\n",
      "Epoch 3/50\n",
      "282/282 [==============================] - 5s 19ms/step - loss: 2.0642 - accuracy: 0.6574 - val_loss: 2.6314 - val_accuracy: 0.5329\n",
      "Epoch 4/50\n",
      "282/282 [==============================] - 5s 19ms/step - loss: 1.9503 - accuracy: 0.6688 - val_loss: 2.5309 - val_accuracy: 0.5617\n",
      "Epoch 5/50\n",
      "282/282 [==============================] - 5s 19ms/step - loss: 1.8698 - accuracy: 0.6806 - val_loss: 2.4909 - val_accuracy: 0.5840\n",
      "Epoch 6/50\n",
      "282/282 [==============================] - 5s 18ms/step - loss: 1.8061 - accuracy: 0.6885 - val_loss: 2.4064 - val_accuracy: 0.6037\n",
      "Epoch 7/50\n",
      "282/282 [==============================] - 5s 18ms/step - loss: 1.7466 - accuracy: 0.6957 - val_loss: 2.3508 - val_accuracy: 0.6080\n",
      "Epoch 8/50\n",
      "282/282 [==============================] - 5s 18ms/step - loss: 1.6795 - accuracy: 0.7046 - val_loss: 2.2767 - val_accuracy: 0.6155\n",
      "Epoch 9/50\n",
      "282/282 [==============================] - 5s 19ms/step - loss: 1.6221 - accuracy: 0.7168 - val_loss: 2.2842 - val_accuracy: 0.6159\n",
      "Epoch 10/50\n",
      "282/282 [==============================] - 5s 18ms/step - loss: 1.5787 - accuracy: 0.7229 - val_loss: 2.2696 - val_accuracy: 0.6220\n",
      "Epoch 11/50\n",
      "282/282 [==============================] - 5s 17ms/step - loss: 1.5424 - accuracy: 0.7288 - val_loss: 2.2061 - val_accuracy: 0.6224\n",
      "Epoch 12/50\n",
      "282/282 [==============================] - 5s 18ms/step - loss: 1.5076 - accuracy: 0.7340 - val_loss: 2.1938 - val_accuracy: 0.6299\n",
      "Epoch 13/50\n",
      "282/282 [==============================] - 5s 18ms/step - loss: 1.4751 - accuracy: 0.7383 - val_loss: 2.1732 - val_accuracy: 0.6389\n",
      "Epoch 14/50\n",
      "282/282 [==============================] - 6s 20ms/step - loss: 1.4442 - accuracy: 0.7435 - val_loss: 2.1469 - val_accuracy: 0.6326\n",
      "Epoch 15/50\n",
      "282/282 [==============================] - 5s 19ms/step - loss: 1.4173 - accuracy: 0.7465 - val_loss: 2.1030 - val_accuracy: 0.6441\n",
      "Epoch 16/50\n",
      "282/282 [==============================] - 6s 20ms/step - loss: 1.3898 - accuracy: 0.7516 - val_loss: 2.0952 - val_accuracy: 0.6447\n",
      "Epoch 17/50\n",
      "282/282 [==============================] - 5s 19ms/step - loss: 1.3653 - accuracy: 0.7551 - val_loss: 2.1214 - val_accuracy: 0.6459\n",
      "Epoch 18/50\n",
      "282/282 [==============================] - 6s 20ms/step - loss: 1.3404 - accuracy: 0.7597 - val_loss: 2.0662 - val_accuracy: 0.6423\n",
      "Epoch 19/50\n",
      "282/282 [==============================] - 5s 19ms/step - loss: 1.3163 - accuracy: 0.7629 - val_loss: 2.0780 - val_accuracy: 0.6534\n",
      "Epoch 20/50\n",
      "282/282 [==============================] - 6s 20ms/step - loss: 1.2934 - accuracy: 0.7670 - val_loss: 2.0678 - val_accuracy: 0.6571\n",
      "Epoch 21/50\n",
      "282/282 [==============================] - 6s 21ms/step - loss: 1.2714 - accuracy: 0.7703 - val_loss: 2.0690 - val_accuracy: 0.6572\n",
      "Epoch 22/50\n",
      "282/282 [==============================] - 6s 21ms/step - loss: 1.2509 - accuracy: 0.7737 - val_loss: 2.0122 - val_accuracy: 0.6647\n",
      "Epoch 23/50\n",
      "282/282 [==============================] - 6s 20ms/step - loss: 1.2293 - accuracy: 0.7766 - val_loss: 2.0398 - val_accuracy: 0.6640\n",
      "Epoch 24/50\n",
      "282/282 [==============================] - 6s 21ms/step - loss: 1.2087 - accuracy: 0.7805 - val_loss: 2.0156 - val_accuracy: 0.6724\n",
      "Epoch 25/50\n",
      "282/282 [==============================] - 6s 21ms/step - loss: 1.1901 - accuracy: 0.7835 - val_loss: 1.9852 - val_accuracy: 0.6706\n",
      "Epoch 26/50\n",
      "282/282 [==============================] - 6s 21ms/step - loss: 1.1702 - accuracy: 0.7865 - val_loss: 1.9830 - val_accuracy: 0.6754\n",
      "Epoch 27/50\n",
      "282/282 [==============================] - 6s 21ms/step - loss: 1.1526 - accuracy: 0.7895 - val_loss: 1.9973 - val_accuracy: 0.6776\n",
      "Epoch 28/50\n",
      "282/282 [==============================] - 5s 19ms/step - loss: 1.1346 - accuracy: 0.7918 - val_loss: 1.9951 - val_accuracy: 0.6770\n",
      "Epoch 29/50\n",
      "282/282 [==============================] - 6s 20ms/step - loss: 1.1185 - accuracy: 0.7951 - val_loss: 1.9964 - val_accuracy: 0.6747\n",
      "Epoch 30/50\n",
      "282/282 [==============================] - 6s 21ms/step - loss: 1.1028 - accuracy: 0.7971 - val_loss: 1.9353 - val_accuracy: 0.6812\n",
      "Epoch 31/50\n",
      "282/282 [==============================] - 6s 21ms/step - loss: 1.0860 - accuracy: 0.7998 - val_loss: 1.9688 - val_accuracy: 0.6852\n",
      "Epoch 32/50\n",
      "282/282 [==============================] - 5s 19ms/step - loss: 1.0708 - accuracy: 0.8021 - val_loss: 1.9528 - val_accuracy: 0.6834\n",
      "Epoch 33/50\n",
      "282/282 [==============================] - 6s 20ms/step - loss: 1.0545 - accuracy: 0.8049 - val_loss: 1.9425 - val_accuracy: 0.6879\n",
      "Epoch 34/50\n",
      "282/282 [==============================] - 6s 20ms/step - loss: 1.0396 - accuracy: 0.8085 - val_loss: 1.9240 - val_accuracy: 0.6859\n",
      "Epoch 35/50\n",
      "282/282 [==============================] - 6s 20ms/step - loss: 1.0237 - accuracy: 0.8106 - val_loss: 1.9132 - val_accuracy: 0.6920\n",
      "Epoch 36/50\n",
      "282/282 [==============================] - 5s 19ms/step - loss: 1.0102 - accuracy: 0.8123 - val_loss: 1.9130 - val_accuracy: 0.6948\n",
      "Epoch 37/50\n",
      "282/282 [==============================] - 5s 19ms/step - loss: 0.9957 - accuracy: 0.8151 - val_loss: 1.9144 - val_accuracy: 0.6905\n",
      "Epoch 38/50\n",
      "282/282 [==============================] - 5s 19ms/step - loss: 0.9812 - accuracy: 0.8179 - val_loss: 1.9548 - val_accuracy: 0.6946\n",
      "Epoch 39/50\n",
      "282/282 [==============================] - 6s 20ms/step - loss: 0.9686 - accuracy: 0.8198 - val_loss: 1.9084 - val_accuracy: 0.6933\n",
      "Epoch 40/50\n",
      "282/282 [==============================] - 6s 20ms/step - loss: 0.9552 - accuracy: 0.8223 - val_loss: 1.9242 - val_accuracy: 0.6924\n",
      "Epoch 41/50\n",
      "282/282 [==============================] - 5s 19ms/step - loss: 0.9408 - accuracy: 0.8249 - val_loss: 1.9193 - val_accuracy: 0.6955\n",
      "Epoch 42/50\n",
      "282/282 [==============================] - 6s 20ms/step - loss: 0.9281 - accuracy: 0.8268 - val_loss: 1.9253 - val_accuracy: 0.6942\n",
      "Epoch 43/50\n",
      "282/282 [==============================] - 5s 19ms/step - loss: 0.9160 - accuracy: 0.8297 - val_loss: 1.9345 - val_accuracy: 0.6930\n",
      "Epoch 44/50\n",
      "282/282 [==============================] - 5s 19ms/step - loss: 0.9042 - accuracy: 0.8307 - val_loss: 1.8853 - val_accuracy: 0.6973\n",
      "Epoch 45/50\n",
      "282/282 [==============================] - 6s 21ms/step - loss: 0.8916 - accuracy: 0.8331 - val_loss: 1.8985 - val_accuracy: 0.7000\n",
      "Epoch 46/50\n",
      "282/282 [==============================] - 6s 20ms/step - loss: 0.8801 - accuracy: 0.8350 - val_loss: 1.9225 - val_accuracy: 0.6998\n",
      "Epoch 47/50\n",
      "282/282 [==============================] - 6s 21ms/step - loss: 0.8686 - accuracy: 0.8376 - val_loss: 1.8771 - val_accuracy: 0.7013\n",
      "Epoch 48/50\n",
      "282/282 [==============================] - 6s 20ms/step - loss: 0.8573 - accuracy: 0.8396 - val_loss: 1.8999 - val_accuracy: 0.6974\n",
      "Epoch 49/50\n",
      "282/282 [==============================] - 6s 21ms/step - loss: 0.8459 - accuracy: 0.8407 - val_loss: 1.8930 - val_accuracy: 0.7030\n",
      "Epoch 50/50\n",
      "282/282 [==============================] - 5s 18ms/step - loss: 0.8350 - accuracy: 0.8425 - val_loss: 1.8753 - val_accuracy: 0.7020\n"
     ]
    }
   ],
   "source": [
    "# Configure the model and start training\n",
    "# Stop training with early stopping with patience of 20\n",
    "callbacks_list = [EarlyStopping(monitor='loss', mode='min', min_delta=0.000001,\n",
    "                                patience=3, restore_best_weights=True, verbose=1,\n",
    "                                )]\n",
    "\n",
    "\n",
    "# history = model1.fit([y_processed_array, english_teacher_enc], english_target_enc,\n",
    "#                     validation_split=0.1,\n",
    "#                     epochs=5, batch_size=BATCH_SIZE,\n",
    "#                     callbacks=callbacks_list,\n",
    "#                     verbose=1)\n",
    "\n",
    "\n",
    "\n",
    "history = model_encoder_training.fit([spanish_embedded_data, english_teacher_enc], english_target_enc,\n",
    "                    validation_split=0.1,\n",
    "                    epochs=50, batch_size=BATCH_SIZE,\n",
    "                    callbacks=callbacks_list,\n",
    "                    verbose=1)"
   ]
  },
  {
   "cell_type": "code",
   "execution_count": null,
   "id": "4f8e797c",
   "metadata": {},
   "outputs": [],
   "source": []
  },
  {
   "cell_type": "markdown",
   "id": "b463b4cc-9ebe-4c39-a893-f7ff5902e652",
   "metadata": {
    "tags": []
   },
   "source": [
    "## Inference"
   ]
  },
  {
   "cell_type": "code",
   "execution_count": null,
   "id": "1b130fab",
   "metadata": {},
   "outputs": [],
   "source": []
  },
  {
   "cell_type": "code",
   "execution_count": 38,
   "id": "b6641c9a",
   "metadata": {},
   "outputs": [],
   "source": [
    "encoder_model = Model(encoder_inputs, encoder_states)\n",
    "\n",
    "decoder_state_input_h = Input(shape=(latent_dim,))\n",
    "decoder_state_input_c = Input(shape=(latent_dim,))\n",
    "decoder_states_inputs = [decoder_state_input_h, decoder_state_input_c]\n",
    "\n",
    "layer_embedding_decoder_inf = layer_embedding_decoder(decoder_inputs)\n",
    "decoder_outputs, state_h, state_c = decoder_lstm(\n",
    "    layer_embedding_decoder_inf , initial_state=decoder_states_inputs)\n",
    "\n",
    "\n",
    "decoder_states = [state_h, state_c]\n",
    "decoder_outputs = decoder_dense(decoder_outputs)\n",
    "decoder_model = Model(\n",
    "    [decoder_inputs] + decoder_states_inputs,\n",
    "    [decoder_outputs] + decoder_states)"
   ]
  },
  {
   "cell_type": "code",
   "execution_count": 39,
   "id": "06fdd26d",
   "metadata": {},
   "outputs": [],
   "source": [
    "# def decode_sequence(input_seq):\n",
    "#     # Encode the input as state vectors.\n",
    "#     states_value = encoder_model.predict(input_seq)\n",
    "#     # Iterate over decoded sentence. Target_seq is the input of the decoder\n",
    "#     target_seq = np.zeros((len(input_seq), 1))\n",
    "#     target_seq[:, 0] = word2token[\"<start>\"]\n",
    "#     print(target_seq.shape)\n",
    "#     output_sequence = [] # Output_sequence is the output of the decoder\n",
    "#     for _ in range(vocab_size_english):   # vocab_size_english = max_output_length\n",
    "#         output_value, h, c = decoder_model.predict( [target_seq] + states_value)\n",
    "#         # Update the target sequence (of length 1) and state\n",
    "#         target_seq[:, 0] = decode(output_value)\n",
    "#         states_value = [h, c]\n",
    "#         # extend output sequence\n",
    "#         output_sequence += [target_seq]\n",
    "#     return output_sequence # eventually format i"
   ]
  },
  {
   "cell_type": "code",
   "execution_count": 40,
   "id": "8d591436",
   "metadata": {},
   "outputs": [],
   "source": [
    "def decode_sequence(input_seq):\n",
    "    # Encode the input as state vectors.\n",
    "    states_value = encoder_model.predict(input_seq)\n",
    "    \n",
    "    # Initialize target sequence\n",
    "    target_seq = np.zeros((input_seq.shape[0], 1))  # Assuming input_seq is a NumPy array\n",
    "    \n",
    "    # Initialize output sequence\n",
    "    output_sequence = []\n",
    "    \n",
    "    for _ in range(vocab_size_english):  # Assuming max_output_length is defined somewhere\n",
    "        output_value, h, c = decoder_model.predict([target_seq] + states_value)\n",
    "        \n",
    "        # Update the target sequence\n",
    "        sampled_token_index = np.argmax(output_value, axis=-1)\n",
    "        target_seq = sampled_token_index.reshape(-1, 1)\n",
    "        \n",
    "        # Update states\n",
    "        states_value = [h, c]\n",
    "        \n",
    "        # Append the predicted token to the output sequence\n",
    "        output_sequence.append(sampled_token_index)\n",
    "        \n",
    "    return np.array(output_sequence)  # Convert the output sequence to a NumPy array\n",
    "\n",
    "\n"
   ]
  },
  {
   "cell_type": "code",
   "execution_count": 41,
   "id": "6df61f65-c5c9-413f-aa00-33d03b81b46e",
   "metadata": {},
   "outputs": [
    {
     "name": "stdout",
     "output_type": "stream",
     "text": [
      "313/313 [==============================] - 1s 3ms/step\n",
      "313/313 [==============================] - 1s 3ms/step\n",
      "313/313 [==============================] - 1s 2ms/step\n",
      "313/313 [==============================] - 1s 2ms/step\n",
      "313/313 [==============================] - 1s 2ms/step\n",
      "313/313 [==============================] - 1s 2ms/step\n",
      "313/313 [==============================] - 1s 2ms/step\n",
      "313/313 [==============================] - 1s 2ms/step\n",
      "313/313 [==============================] - 1s 2ms/step\n",
      "313/313 [==============================] - 1s 2ms/step\n",
      "313/313 [==============================] - 1s 2ms/step\n",
      "313/313 [==============================] - 1s 2ms/step\n",
      "313/313 [==============================] - 1s 2ms/step\n",
      "313/313 [==============================] - 1s 2ms/step\n",
      "313/313 [==============================] - 1s 2ms/step\n",
      "313/313 [==============================] - 1s 3ms/step\n",
      "313/313 [==============================] - 1s 2ms/step\n",
      "313/313 [==============================] - 1s 2ms/step\n",
      "313/313 [==============================] - 1s 2ms/step\n",
      "313/313 [==============================] - 1s 3ms/step\n",
      "313/313 [==============================] - 1s 2ms/step\n",
      "313/313 [==============================] - 1s 2ms/step\n",
      "313/313 [==============================] - 1s 2ms/step\n",
      "313/313 [==============================] - 1s 2ms/step\n",
      "313/313 [==============================] - 1s 2ms/step\n",
      "313/313 [==============================] - 1s 2ms/step\n",
      "313/313 [==============================] - 1s 3ms/step\n",
      "313/313 [==============================] - 1s 3ms/step\n",
      "313/313 [==============================] - 1s 2ms/step\n",
      "313/313 [==============================] - 1s 3ms/step\n",
      "313/313 [==============================] - 1s 3ms/step\n",
      "313/313 [==============================] - 1s 2ms/step\n",
      "313/313 [==============================] - 1s 3ms/step\n",
      "313/313 [==============================] - 1s 2ms/step\n",
      "313/313 [==============================] - 1s 2ms/step\n",
      "313/313 [==============================] - 1s 2ms/step\n",
      "313/313 [==============================] - 1s 2ms/step\n",
      "313/313 [==============================] - 1s 3ms/step\n",
      "313/313 [==============================] - 1s 3ms/step\n",
      "313/313 [==============================] - 1s 3ms/step\n",
      "313/313 [==============================] - 1s 3ms/step\n",
      "313/313 [==============================] - 1s 2ms/step\n",
      "313/313 [==============================] - 1s 2ms/step\n",
      "313/313 [==============================] - 1s 3ms/step\n",
      "313/313 [==============================] - 1s 3ms/step\n",
      "313/313 [==============================] - 1s 2ms/step\n",
      "313/313 [==============================] - 1s 2ms/step\n",
      "313/313 [==============================] - 1s 2ms/step\n",
      "313/313 [==============================] - 1s 2ms/step\n",
      "313/313 [==============================] - 1s 3ms/step\n",
      "313/313 [==============================] - 1s 2ms/step\n",
      "313/313 [==============================] - 1s 2ms/step\n",
      "313/313 [==============================] - 1s 2ms/step\n",
      "313/313 [==============================] - 1s 2ms/step\n",
      "313/313 [==============================] - 1s 3ms/step\n",
      "313/313 [==============================] - 1s 2ms/step\n",
      "313/313 [==============================] - 1s 2ms/step\n",
      "313/313 [==============================] - 1s 2ms/step\n",
      "313/313 [==============================] - 1s 2ms/step\n",
      "313/313 [==============================] - 1s 2ms/step\n",
      "313/313 [==============================] - 1s 2ms/step\n",
      "313/313 [==============================] - 1s 2ms/step\n",
      "313/313 [==============================] - 1s 2ms/step\n",
      "313/313 [==============================] - 1s 2ms/step\n",
      "313/313 [==============================] - 1s 3ms/step\n",
      "313/313 [==============================] - 1s 3ms/step\n",
      "313/313 [==============================] - 1s 2ms/step\n",
      "313/313 [==============================] - 1s 2ms/step\n",
      "313/313 [==============================] - 1s 3ms/step\n",
      "313/313 [==============================] - 1s 3ms/step\n",
      "313/313 [==============================] - 1s 2ms/step\n",
      "313/313 [==============================] - 1s 2ms/step\n",
      "313/313 [==============================] - 1s 3ms/step\n",
      "313/313 [==============================] - 1s 2ms/step\n",
      "313/313 [==============================] - 1s 3ms/step\n",
      "313/313 [==============================] - 1s 3ms/step\n",
      "313/313 [==============================] - 1s 2ms/step\n",
      "313/313 [==============================] - 1s 3ms/step\n",
      "313/313 [==============================] - 1s 3ms/step\n",
      "313/313 [==============================] - 1s 3ms/step\n",
      "313/313 [==============================] - 1s 3ms/step\n",
      "313/313 [==============================] - 1s 3ms/step\n",
      "313/313 [==============================] - 1s 3ms/step\n",
      "313/313 [==============================] - 1s 3ms/step\n",
      "313/313 [==============================] - 1s 2ms/step\n",
      "313/313 [==============================] - 1s 2ms/step\n",
      "313/313 [==============================] - 1s 2ms/step\n",
      "313/313 [==============================] - 1s 2ms/step\n",
      "313/313 [==============================] - 1s 3ms/step\n",
      "313/313 [==============================] - 1s 2ms/step\n",
      "313/313 [==============================] - 1s 3ms/step\n",
      "313/313 [==============================] - 1s 2ms/step\n"
     ]
    },
    {
     "ename": "KeyboardInterrupt",
     "evalue": "",
     "output_type": "error",
     "traceback": [
      "\u001b[1;31m---------------------------------------------------------------------------\u001b[0m",
      "\u001b[1;31mKeyboardInterrupt\u001b[0m                         Traceback (most recent call last)",
      "\u001b[1;32m~\\AppData\\Local\\Temp\\ipykernel_30652\\3165371448.py\u001b[0m in \u001b[0;36m?\u001b[1;34m()\u001b[0m\n\u001b[0;32m      1\u001b[0m \u001b[1;31m# spanish_embedded_data is input sequence\u001b[0m\u001b[1;33m\u001b[0m\u001b[1;33m\u001b[0m\u001b[0m\n\u001b[1;32m----> 2\u001b[1;33m \u001b[0mdecoded_sequence\u001b[0m \u001b[1;33m=\u001b[0m \u001b[0mdecode_sequence\u001b[0m\u001b[1;33m(\u001b[0m\u001b[0mspanish_embedded_data\u001b[0m\u001b[1;33m)\u001b[0m\u001b[1;33m\u001b[0m\u001b[1;33m\u001b[0m\u001b[0m\n\u001b[0m",
      "\u001b[1;32m~\\AppData\\Local\\Temp\\ipykernel_30652\\4002953613.py\u001b[0m in \u001b[0;36m?\u001b[1;34m(input_seq)\u001b[0m\n\u001b[0;32m      8\u001b[0m     \u001b[1;31m# Initialize output sequence\u001b[0m\u001b[1;33m\u001b[0m\u001b[1;33m\u001b[0m\u001b[0m\n\u001b[0;32m      9\u001b[0m     \u001b[0moutput_sequence\u001b[0m \u001b[1;33m=\u001b[0m \u001b[1;33m[\u001b[0m\u001b[1;33m]\u001b[0m\u001b[1;33m\u001b[0m\u001b[1;33m\u001b[0m\u001b[0m\n\u001b[0;32m     10\u001b[0m \u001b[1;33m\u001b[0m\u001b[0m\n\u001b[0;32m     11\u001b[0m     \u001b[1;32mfor\u001b[0m \u001b[0m_\u001b[0m \u001b[1;32min\u001b[0m \u001b[0mrange\u001b[0m\u001b[1;33m(\u001b[0m\u001b[0mvocab_size_english\u001b[0m\u001b[1;33m)\u001b[0m\u001b[1;33m:\u001b[0m  \u001b[1;31m# Assuming max_output_length is defined somewhere\u001b[0m\u001b[1;33m\u001b[0m\u001b[1;33m\u001b[0m\u001b[0m\n\u001b[1;32m---> 12\u001b[1;33m         \u001b[0moutput_value\u001b[0m\u001b[1;33m,\u001b[0m \u001b[0mh\u001b[0m\u001b[1;33m,\u001b[0m \u001b[0mc\u001b[0m \u001b[1;33m=\u001b[0m \u001b[0mdecoder_model\u001b[0m\u001b[1;33m.\u001b[0m\u001b[0mpredict\u001b[0m\u001b[1;33m(\u001b[0m\u001b[1;33m[\u001b[0m\u001b[0mtarget_seq\u001b[0m\u001b[1;33m]\u001b[0m \u001b[1;33m+\u001b[0m \u001b[0mstates_value\u001b[0m\u001b[1;33m)\u001b[0m\u001b[1;33m\u001b[0m\u001b[1;33m\u001b[0m\u001b[0m\n\u001b[0m\u001b[0;32m     13\u001b[0m \u001b[1;33m\u001b[0m\u001b[0m\n\u001b[0;32m     14\u001b[0m         \u001b[1;31m# Update the target sequence\u001b[0m\u001b[1;33m\u001b[0m\u001b[1;33m\u001b[0m\u001b[0m\n\u001b[0;32m     15\u001b[0m         \u001b[0msampled_token_index\u001b[0m \u001b[1;33m=\u001b[0m \u001b[0mnp\u001b[0m\u001b[1;33m.\u001b[0m\u001b[0margmax\u001b[0m\u001b[1;33m(\u001b[0m\u001b[0moutput_value\u001b[0m\u001b[1;33m,\u001b[0m \u001b[0maxis\u001b[0m\u001b[1;33m=\u001b[0m\u001b[1;33m-\u001b[0m\u001b[1;36m1\u001b[0m\u001b[1;33m)\u001b[0m\u001b[1;33m\u001b[0m\u001b[1;33m\u001b[0m\u001b[0m\n",
      "\u001b[1;32m~\\anaconda3\\Lib\\site-packages\\keras\\src\\utils\\traceback_utils.py\u001b[0m in \u001b[0;36m?\u001b[1;34m(*args, **kwargs)\u001b[0m\n\u001b[0;32m     68\u001b[0m             \u001b[1;31m# To get the full stack trace, call:\u001b[0m\u001b[1;33m\u001b[0m\u001b[1;33m\u001b[0m\u001b[0m\n\u001b[0;32m     69\u001b[0m             \u001b[1;31m# `tf.debugging.disable_traceback_filtering()`\u001b[0m\u001b[1;33m\u001b[0m\u001b[1;33m\u001b[0m\u001b[0m\n\u001b[0;32m     70\u001b[0m             \u001b[1;32mraise\u001b[0m \u001b[0me\u001b[0m\u001b[1;33m.\u001b[0m\u001b[0mwith_traceback\u001b[0m\u001b[1;33m(\u001b[0m\u001b[0mfiltered_tb\u001b[0m\u001b[1;33m)\u001b[0m \u001b[1;32mfrom\u001b[0m \u001b[1;32mNone\u001b[0m\u001b[1;33m\u001b[0m\u001b[1;33m\u001b[0m\u001b[0m\n\u001b[0;32m     71\u001b[0m         \u001b[1;32mfinally\u001b[0m\u001b[1;33m:\u001b[0m\u001b[1;33m\u001b[0m\u001b[1;33m\u001b[0m\u001b[0m\n\u001b[1;32m---> 72\u001b[1;33m             \u001b[1;32mdel\u001b[0m \u001b[0mfiltered_tb\u001b[0m\u001b[1;33m\u001b[0m\u001b[1;33m\u001b[0m\u001b[0m\n\u001b[0m",
      "\u001b[1;32m~\\anaconda3\\Lib\\site-packages\\keras\\src\\engine\\training.py\u001b[0m in \u001b[0;36m?\u001b[1;34m(self, x, batch_size, verbose, steps, callbacks, max_queue_size, workers, use_multiprocessing)\u001b[0m\n\u001b[0;32m   2687\u001b[0m                 )\n\u001b[0;32m   2688\u001b[0m             \u001b[1;32mif\u001b[0m \u001b[0mself\u001b[0m\u001b[1;33m.\u001b[0m\u001b[0mautotune_steps_per_execution\u001b[0m\u001b[1;33m:\u001b[0m\u001b[1;33m\u001b[0m\u001b[1;33m\u001b[0m\u001b[0m\n\u001b[0;32m   2689\u001b[0m                 \u001b[0mself\u001b[0m\u001b[1;33m.\u001b[0m\u001b[0m_steps_per_execution_tuner\u001b[0m\u001b[1;33m.\u001b[0m\u001b[0mstop\u001b[0m\u001b[1;33m(\u001b[0m\u001b[1;33m)\u001b[0m\u001b[1;33m\u001b[0m\u001b[1;33m\u001b[0m\u001b[0m\n\u001b[0;32m   2690\u001b[0m             \u001b[0mcallbacks\u001b[0m\u001b[1;33m.\u001b[0m\u001b[0mon_predict_end\u001b[0m\u001b[1;33m(\u001b[0m\u001b[1;33m)\u001b[0m\u001b[1;33m\u001b[0m\u001b[1;33m\u001b[0m\u001b[0m\n\u001b[1;32m-> 2691\u001b[1;33m         all_outputs = tf.__internal__.nest.map_structure_up_to(\n\u001b[0m\u001b[0;32m   2692\u001b[0m             \u001b[0mbatch_outputs\u001b[0m\u001b[1;33m,\u001b[0m \u001b[0mpotentially_ragged_concat\u001b[0m\u001b[1;33m,\u001b[0m \u001b[0moutputs\u001b[0m\u001b[1;33m\u001b[0m\u001b[1;33m\u001b[0m\u001b[0m\n\u001b[0;32m   2693\u001b[0m         )\n\u001b[0;32m   2694\u001b[0m \u001b[1;33m\u001b[0m\u001b[0m\n",
      "\u001b[1;32m~\\anaconda3\\Lib\\site-packages\\tensorflow\\python\\util\\nest.py\u001b[0m in \u001b[0;36m?\u001b[1;34m(shallow_tree, func, *inputs, **kwargs)\u001b[0m\n\u001b[0;32m   1033\u001b[0m   \u001b[0mReturns\u001b[0m\u001b[1;33m:\u001b[0m\u001b[1;33m\u001b[0m\u001b[1;33m\u001b[0m\u001b[0m\n\u001b[0;32m   1034\u001b[0m     \u001b[0mresult\u001b[0m \u001b[0mof\u001b[0m \u001b[0mrepeatedly\u001b[0m \u001b[0mapplying\u001b[0m\u001b[0;31m \u001b[0m\u001b[0;31m`\u001b[0m\u001b[0mfunc\u001b[0m\u001b[0;31m`\u001b[0m\u001b[1;33m,\u001b[0m \u001b[1;32mwith\u001b[0m \u001b[0mthe\u001b[0m \u001b[0msame\u001b[0m \u001b[0mstructure\u001b[0m \u001b[0mlayout\u001b[0m \u001b[1;32mas\u001b[0m\u001b[1;33m\u001b[0m\u001b[1;33m\u001b[0m\u001b[0m\n\u001b[0;32m   1035\u001b[0m     \u001b[0;31m`\u001b[0m\u001b[0mshallow_tree\u001b[0m\u001b[0;31m`\u001b[0m\u001b[1;33m.\u001b[0m\u001b[1;33m\u001b[0m\u001b[1;33m\u001b[0m\u001b[0m\n\u001b[0;32m   1036\u001b[0m   \"\"\"\n\u001b[1;32m-> 1037\u001b[1;33m   return nest_util.map_structure_up_to(\n\u001b[0m\u001b[0;32m   1038\u001b[0m       \u001b[0mnest_util\u001b[0m\u001b[1;33m.\u001b[0m\u001b[0mModality\u001b[0m\u001b[1;33m.\u001b[0m\u001b[0mCORE\u001b[0m\u001b[1;33m,\u001b[0m\u001b[1;33m\u001b[0m\u001b[1;33m\u001b[0m\u001b[0m\n\u001b[0;32m   1039\u001b[0m       \u001b[0mshallow_tree\u001b[0m\u001b[1;33m,\u001b[0m\u001b[1;33m\u001b[0m\u001b[1;33m\u001b[0m\u001b[0m\n\u001b[0;32m   1040\u001b[0m       \u001b[1;32mlambda\u001b[0m \u001b[0m_\u001b[0m\u001b[1;33m,\u001b[0m \u001b[1;33m*\u001b[0m\u001b[0mvalues\u001b[0m\u001b[1;33m:\u001b[0m \u001b[0mfunc\u001b[0m\u001b[1;33m(\u001b[0m\u001b[1;33m*\u001b[0m\u001b[0mvalues\u001b[0m\u001b[1;33m)\u001b[0m\u001b[1;33m,\u001b[0m  \u001b[1;31m# Discards the path arg.\u001b[0m\u001b[1;33m\u001b[0m\u001b[1;33m\u001b[0m\u001b[0m\n",
      "\u001b[1;32m~\\anaconda3\\Lib\\site-packages\\tensorflow\\python\\util\\nest_util.py\u001b[0m in \u001b[0;36m?\u001b[1;34m(modality, shallow_tree, func, *inputs, **kwargs)\u001b[0m\n\u001b[0;32m   1646\u001b[0m     \u001b[0mresult\u001b[0m \u001b[0mof\u001b[0m \u001b[0mrepeatedly\u001b[0m \u001b[0mapplying\u001b[0m\u001b[0;31m \u001b[0m\u001b[0;31m`\u001b[0m\u001b[0mfunc\u001b[0m\u001b[0;31m`\u001b[0m\u001b[1;33m,\u001b[0m \u001b[1;32mwith\u001b[0m \u001b[0mthe\u001b[0m \u001b[0msame\u001b[0m \u001b[0mstructure\u001b[0m \u001b[0mlayout\u001b[0m \u001b[1;32mas\u001b[0m\u001b[1;33m\u001b[0m\u001b[1;33m\u001b[0m\u001b[0m\n\u001b[0;32m   1647\u001b[0m     \u001b[0;31m`\u001b[0m\u001b[0mshallow_tree\u001b[0m\u001b[0;31m`\u001b[0m\u001b[1;33m.\u001b[0m\u001b[1;33m\u001b[0m\u001b[1;33m\u001b[0m\u001b[0m\n\u001b[0;32m   1648\u001b[0m   \"\"\"\n\u001b[0;32m   1649\u001b[0m   \u001b[1;32mif\u001b[0m \u001b[0mmodality\u001b[0m \u001b[1;33m==\u001b[0m \u001b[0mModality\u001b[0m\u001b[1;33m.\u001b[0m\u001b[0mCORE\u001b[0m\u001b[1;33m:\u001b[0m\u001b[1;33m\u001b[0m\u001b[1;33m\u001b[0m\u001b[0m\n\u001b[1;32m-> 1650\u001b[1;33m     return _tf_core_map_structure_with_tuple_paths_up_to(\n\u001b[0m\u001b[0;32m   1651\u001b[0m         \u001b[0mshallow_tree\u001b[0m\u001b[1;33m,\u001b[0m \u001b[0mfunc\u001b[0m\u001b[1;33m,\u001b[0m \u001b[1;33m*\u001b[0m\u001b[0minputs\u001b[0m\u001b[1;33m,\u001b[0m \u001b[1;33m**\u001b[0m\u001b[0mkwargs\u001b[0m\u001b[1;33m\u001b[0m\u001b[1;33m\u001b[0m\u001b[0m\n\u001b[0;32m   1652\u001b[0m     )\n\u001b[0;32m   1653\u001b[0m   \u001b[1;32melif\u001b[0m \u001b[0mmodality\u001b[0m \u001b[1;33m==\u001b[0m \u001b[0mModality\u001b[0m\u001b[1;33m.\u001b[0m\u001b[0mDATA\u001b[0m\u001b[1;33m:\u001b[0m\u001b[1;33m\u001b[0m\u001b[1;33m\u001b[0m\u001b[0m\n",
      "\u001b[1;32m~\\anaconda3\\Lib\\site-packages\\tensorflow\\python\\util\\nest_util.py\u001b[0m in \u001b[0;36m?\u001b[1;34m(shallow_tree, func, *inputs, **kwargs)\u001b[0m\n\u001b[0;32m   1695\u001b[0m       for path, _ in _tf_core_yield_flat_up_to(\n\u001b[0;32m   1696\u001b[0m           \u001b[0mshallow_tree\u001b[0m\u001b[1;33m,\u001b[0m \u001b[0minputs\u001b[0m\u001b[1;33m[\u001b[0m\u001b[1;36m0\u001b[0m\u001b[1;33m]\u001b[0m\u001b[1;33m,\u001b[0m \u001b[0mis_nested_fn\u001b[0m\u001b[1;33m\u001b[0m\u001b[1;33m\u001b[0m\u001b[0m\n\u001b[0;32m   1697\u001b[0m       )\n\u001b[0;32m   1698\u001b[0m   )\n\u001b[1;32m-> 1699\u001b[1;33m   results = [\n\u001b[0m\u001b[0;32m   1700\u001b[0m       \u001b[0mfunc\u001b[0m\u001b[1;33m(\u001b[0m\u001b[1;33m*\u001b[0m\u001b[0margs\u001b[0m\u001b[1;33m,\u001b[0m \u001b[1;33m**\u001b[0m\u001b[0mkwargs\u001b[0m\u001b[1;33m)\u001b[0m \u001b[1;32mfor\u001b[0m \u001b[0margs\u001b[0m \u001b[1;32min\u001b[0m \u001b[0mzip\u001b[0m\u001b[1;33m(\u001b[0m\u001b[0mflat_path_gen\u001b[0m\u001b[1;33m,\u001b[0m \u001b[1;33m*\u001b[0m\u001b[0mflat_value_gen\u001b[0m\u001b[1;33m)\u001b[0m\u001b[1;33m\u001b[0m\u001b[1;33m\u001b[0m\u001b[0m\n\u001b[0;32m   1701\u001b[0m   ]\n\u001b[0;32m   1702\u001b[0m   return _tf_core_pack_sequence_as(\n",
      "\u001b[1;32m~\\anaconda3\\Lib\\site-packages\\tensorflow\\python\\util\\nest_util.py\u001b[0m in \u001b[0;36m?\u001b[1;34m(.0)\u001b[0m\n\u001b[0;32m   1699\u001b[0m def _tf_core_map_structure_with_tuple_paths_up_to(\n\u001b[1;32m-> 1700\u001b[1;33m     \u001b[0mshallow_tree\u001b[0m\u001b[1;33m,\u001b[0m \u001b[0mfunc\u001b[0m\u001b[1;33m,\u001b[0m \u001b[1;33m*\u001b[0m\u001b[0minputs\u001b[0m\u001b[1;33m,\u001b[0m \u001b[1;33m**\u001b[0m\u001b[0mkwargs\u001b[0m\u001b[1;33m\u001b[0m\u001b[1;33m\u001b[0m\u001b[0m\n\u001b[0m\u001b[0;32m   1701\u001b[0m ):\n\u001b[0;32m   1702\u001b[0m   \u001b[1;34m\"\"\"See comments for map_structure_with_tuple_paths_up_to() in tensorflow/python/util/nest.py.\"\"\"\u001b[0m\u001b[1;33m\u001b[0m\u001b[1;33m\u001b[0m\u001b[0m\n\u001b[0;32m   1703\u001b[0m   \u001b[1;32mif\u001b[0m \u001b[1;32mnot\u001b[0m \u001b[0minputs\u001b[0m\u001b[1;33m:\u001b[0m\u001b[1;33m\u001b[0m\u001b[1;33m\u001b[0m\u001b[0m\n",
      "\u001b[1;32m~\\anaconda3\\Lib\\site-packages\\tensorflow\\python\\util\\nest.py\u001b[0m in \u001b[0;36m?\u001b[1;34m(_, *values)\u001b[0m\n\u001b[1;32m-> 1040\u001b[1;33m       \u001b[1;32mlambda\u001b[0m \u001b[0m_\u001b[0m\u001b[1;33m,\u001b[0m \u001b[1;33m*\u001b[0m\u001b[0mvalues\u001b[0m\u001b[1;33m:\u001b[0m \u001b[0mfunc\u001b[0m\u001b[1;33m(\u001b[0m\u001b[1;33m*\u001b[0m\u001b[0mvalues\u001b[0m\u001b[1;33m)\u001b[0m\u001b[1;33m,\u001b[0m  \u001b[1;31m# Discards the path arg.\u001b[0m\u001b[1;33m\u001b[0m\u001b[1;33m\u001b[0m\u001b[0m\n\u001b[0m",
      "\u001b[1;32m~\\anaconda3\\Lib\\site-packages\\keras\\src\\engine\\training.py\u001b[0m in \u001b[0;36m?\u001b[1;34m(tensors)\u001b[0m\n\u001b[0;32m   4244\u001b[0m         \u001b[1;32mreturn\u001b[0m \u001b[0mtf\u001b[0m\u001b[1;33m.\u001b[0m\u001b[0mconcat\u001b[0m\u001b[1;33m(\u001b[0m\u001b[0mtensors\u001b[0m\u001b[1;33m,\u001b[0m \u001b[0maxis\u001b[0m\u001b[1;33m=\u001b[0m\u001b[1;36m0\u001b[0m\u001b[1;33m)\u001b[0m\u001b[1;33m\u001b[0m\u001b[1;33m\u001b[0m\u001b[0m\n\u001b[0;32m   4245\u001b[0m     \u001b[1;32melif\u001b[0m \u001b[1;32mnot\u001b[0m \u001b[0mtf\u001b[0m\u001b[1;33m.\u001b[0m\u001b[0m__internal__\u001b[0m\u001b[1;33m.\u001b[0m\u001b[0mtf2\u001b[0m\u001b[1;33m.\u001b[0m\u001b[0menabled\u001b[0m\u001b[1;33m(\u001b[0m\u001b[1;33m)\u001b[0m\u001b[1;33m:\u001b[0m\u001b[1;33m\u001b[0m\u001b[1;33m\u001b[0m\u001b[0m\n\u001b[0;32m   4246\u001b[0m         \u001b[1;32mreturn\u001b[0m \u001b[0mtf\u001b[0m\u001b[1;33m.\u001b[0m\u001b[0mconcat\u001b[0m\u001b[1;33m(\u001b[0m\u001b[0mtensors\u001b[0m\u001b[1;33m,\u001b[0m \u001b[0maxis\u001b[0m\u001b[1;33m=\u001b[0m\u001b[1;36m0\u001b[0m\u001b[1;33m)\u001b[0m\u001b[1;33m\u001b[0m\u001b[1;33m\u001b[0m\u001b[0m\n\u001b[0;32m   4247\u001b[0m \u001b[1;33m\u001b[0m\u001b[0m\n\u001b[1;32m-> 4248\u001b[1;33m     \u001b[0mnon_batch_shapes\u001b[0m \u001b[1;33m=\u001b[0m \u001b[0mtf\u001b[0m\u001b[1;33m.\u001b[0m\u001b[0mstack\u001b[0m\u001b[1;33m(\u001b[0m\u001b[1;33m[\u001b[0m\u001b[0mtf\u001b[0m\u001b[1;33m.\u001b[0m\u001b[0mshape\u001b[0m\u001b[1;33m(\u001b[0m\u001b[0mtensor\u001b[0m\u001b[1;33m)\u001b[0m\u001b[1;33m[\u001b[0m\u001b[1;36m1\u001b[0m\u001b[1;33m:\u001b[0m\u001b[1;33m]\u001b[0m \u001b[1;32mfor\u001b[0m \u001b[0mtensor\u001b[0m \u001b[1;32min\u001b[0m \u001b[0mtensors\u001b[0m\u001b[1;33m]\u001b[0m\u001b[1;33m)\u001b[0m\u001b[1;33m\u001b[0m\u001b[1;33m\u001b[0m\u001b[0m\n\u001b[0m\u001b[0;32m   4249\u001b[0m     constant_dims = tf.math.reduce_all(\n\u001b[0;32m   4250\u001b[0m         \u001b[0mnon_batch_shapes\u001b[0m \u001b[1;33m==\u001b[0m \u001b[0mnon_batch_shapes\u001b[0m\u001b[1;33m[\u001b[0m\u001b[1;33m:\u001b[0m\u001b[1;36m1\u001b[0m\u001b[1;33m]\u001b[0m\u001b[1;33m,\u001b[0m \u001b[0maxis\u001b[0m\u001b[1;33m=\u001b[0m\u001b[1;36m0\u001b[0m\u001b[1;33m\u001b[0m\u001b[1;33m\u001b[0m\u001b[0m\n\u001b[0;32m   4251\u001b[0m     )\n",
      "\u001b[1;32m~\\anaconda3\\Lib\\site-packages\\keras\\src\\engine\\training.py\u001b[0m in \u001b[0;36m?\u001b[1;34m(.0)\u001b[0m\n\u001b[1;32m-> 4248\u001b[1;33m \u001b[1;32mdef\u001b[0m \u001b[0mpotentially_ragged_concat\u001b[0m\u001b[1;33m(\u001b[0m\u001b[0mtensors\u001b[0m\u001b[1;33m)\u001b[0m\u001b[1;33m:\u001b[0m\u001b[1;33m\u001b[0m\u001b[1;33m\u001b[0m\u001b[0m\n\u001b[0m\u001b[0;32m   4249\u001b[0m     \"\"\"Concats `Tensor`s along their first dimension.\n\u001b[0;32m   4250\u001b[0m \u001b[1;33m\u001b[0m\u001b[0m\n\u001b[0;32m   4251\u001b[0m     \u001b[0mArgs\u001b[0m\u001b[1;33m:\u001b[0m\u001b[1;33m\u001b[0m\u001b[1;33m\u001b[0m\u001b[0m\n",
      "\u001b[1;32m~\\anaconda3\\Lib\\site-packages\\tensorflow\\python\\util\\traceback_utils.py\u001b[0m in \u001b[0;36m?\u001b[1;34m(*args, **kwargs)\u001b[0m\n\u001b[0;32m    151\u001b[0m     \u001b[1;32mexcept\u001b[0m \u001b[0mException\u001b[0m \u001b[1;32mas\u001b[0m \u001b[0me\u001b[0m\u001b[1;33m:\u001b[0m\u001b[1;33m\u001b[0m\u001b[1;33m\u001b[0m\u001b[0m\n\u001b[0;32m    152\u001b[0m       \u001b[0mfiltered_tb\u001b[0m \u001b[1;33m=\u001b[0m \u001b[0m_process_traceback_frames\u001b[0m\u001b[1;33m(\u001b[0m\u001b[0me\u001b[0m\u001b[1;33m.\u001b[0m\u001b[0m__traceback__\u001b[0m\u001b[1;33m)\u001b[0m\u001b[1;33m\u001b[0m\u001b[1;33m\u001b[0m\u001b[0m\n\u001b[0;32m    153\u001b[0m       \u001b[1;32mraise\u001b[0m \u001b[0me\u001b[0m\u001b[1;33m.\u001b[0m\u001b[0mwith_traceback\u001b[0m\u001b[1;33m(\u001b[0m\u001b[0mfiltered_tb\u001b[0m\u001b[1;33m)\u001b[0m \u001b[1;32mfrom\u001b[0m \u001b[1;32mNone\u001b[0m\u001b[1;33m\u001b[0m\u001b[1;33m\u001b[0m\u001b[0m\n\u001b[0;32m    154\u001b[0m     \u001b[1;32mfinally\u001b[0m\u001b[1;33m:\u001b[0m\u001b[1;33m\u001b[0m\u001b[1;33m\u001b[0m\u001b[0m\n\u001b[1;32m--> 155\u001b[1;33m       \u001b[1;32mdel\u001b[0m \u001b[0mfiltered_tb\u001b[0m\u001b[1;33m\u001b[0m\u001b[1;33m\u001b[0m\u001b[0m\n\u001b[0m",
      "\u001b[1;32m~\\anaconda3\\Lib\\site-packages\\tensorflow\\python\\util\\dispatch.py\u001b[0m in \u001b[0;36m?\u001b[1;34m(*args, **kwargs)\u001b[0m\n\u001b[0;32m   1257\u001b[0m \u001b[1;33m\u001b[0m\u001b[0m\n\u001b[0;32m   1258\u001b[0m       \u001b[1;31m# Fallback dispatch system (dispatch v1):\u001b[0m\u001b[1;33m\u001b[0m\u001b[1;33m\u001b[0m\u001b[0m\n\u001b[0;32m   1259\u001b[0m       \u001b[1;32mtry\u001b[0m\u001b[1;33m:\u001b[0m\u001b[1;33m\u001b[0m\u001b[1;33m\u001b[0m\u001b[0m\n\u001b[0;32m   1260\u001b[0m         \u001b[1;32mreturn\u001b[0m \u001b[0mdispatch_target\u001b[0m\u001b[1;33m(\u001b[0m\u001b[1;33m*\u001b[0m\u001b[0margs\u001b[0m\u001b[1;33m,\u001b[0m \u001b[1;33m**\u001b[0m\u001b[0mkwargs\u001b[0m\u001b[1;33m)\u001b[0m\u001b[1;33m\u001b[0m\u001b[1;33m\u001b[0m\u001b[0m\n\u001b[1;32m-> 1261\u001b[1;33m       \u001b[1;32mexcept\u001b[0m \u001b[1;33m(\u001b[0m\u001b[0mTypeError\u001b[0m\u001b[1;33m,\u001b[0m \u001b[0mValueError\u001b[0m\u001b[1;33m)\u001b[0m\u001b[1;33m:\u001b[0m\u001b[1;33m\u001b[0m\u001b[1;33m\u001b[0m\u001b[0m\n\u001b[0m\u001b[0;32m   1262\u001b[0m         \u001b[1;31m# Note: convert_to_eager_tensor currently raises a ValueError, not a\u001b[0m\u001b[1;33m\u001b[0m\u001b[1;33m\u001b[0m\u001b[0m\n\u001b[0;32m   1263\u001b[0m         \u001b[1;31m# TypeError, when given unexpected types.  So we need to catch both.\u001b[0m\u001b[1;33m\u001b[0m\u001b[1;33m\u001b[0m\u001b[0m\n\u001b[0;32m   1264\u001b[0m         \u001b[0mresult\u001b[0m \u001b[1;33m=\u001b[0m \u001b[0mdispatch\u001b[0m\u001b[1;33m(\u001b[0m\u001b[0mop_dispatch_handler\u001b[0m\u001b[1;33m,\u001b[0m \u001b[0margs\u001b[0m\u001b[1;33m,\u001b[0m \u001b[0mkwargs\u001b[0m\u001b[1;33m)\u001b[0m\u001b[1;33m\u001b[0m\u001b[1;33m\u001b[0m\u001b[0m\n",
      "\u001b[1;32m~\\anaconda3\\Lib\\site-packages\\tensorflow\\python\\ops\\array_ops.py\u001b[0m in \u001b[0;36m?\u001b[1;34m(input, out_type, name)\u001b[0m\n\u001b[0;32m    652\u001b[0m     \u001b[1;32mif\u001b[0m \u001b[0mflags\u001b[0m\u001b[1;33m.\u001b[0m\u001b[0mconfig\u001b[0m\u001b[1;33m(\u001b[0m\u001b[1;33m)\u001b[0m\u001b[1;33m.\u001b[0m\u001b[0mtf_shape_default_int64\u001b[0m\u001b[1;33m.\u001b[0m\u001b[0mvalue\u001b[0m\u001b[1;33m(\u001b[0m\u001b[1;33m)\u001b[0m\u001b[1;33m:\u001b[0m\u001b[1;33m\u001b[0m\u001b[1;33m\u001b[0m\u001b[0m\n\u001b[0;32m    653\u001b[0m       \u001b[0mout_type\u001b[0m \u001b[1;33m=\u001b[0m \u001b[0mdtypes\u001b[0m\u001b[1;33m.\u001b[0m\u001b[0mint64\u001b[0m\u001b[1;33m\u001b[0m\u001b[1;33m\u001b[0m\u001b[0m\n\u001b[0;32m    654\u001b[0m     \u001b[1;32melse\u001b[0m\u001b[1;33m:\u001b[0m\u001b[1;33m\u001b[0m\u001b[1;33m\u001b[0m\u001b[0m\n\u001b[0;32m    655\u001b[0m       \u001b[0mout_type\u001b[0m \u001b[1;33m=\u001b[0m \u001b[0mdtypes\u001b[0m\u001b[1;33m.\u001b[0m\u001b[0mint32\u001b[0m\u001b[1;33m\u001b[0m\u001b[1;33m\u001b[0m\u001b[0m\n\u001b[1;32m--> 656\u001b[1;33m   \u001b[1;32mreturn\u001b[0m \u001b[0mshape\u001b[0m\u001b[1;33m(\u001b[0m\u001b[0minput\u001b[0m\u001b[1;33m,\u001b[0m \u001b[0mname\u001b[0m\u001b[1;33m,\u001b[0m \u001b[0mout_type\u001b[0m\u001b[1;33m)\u001b[0m\u001b[1;33m\u001b[0m\u001b[1;33m\u001b[0m\u001b[0m\n\u001b[0m",
      "\u001b[1;32m~\\anaconda3\\Lib\\site-packages\\tensorflow\\python\\util\\traceback_utils.py\u001b[0m in \u001b[0;36m?\u001b[1;34m(*args, **kwargs)\u001b[0m\n\u001b[0;32m    151\u001b[0m     \u001b[1;32mexcept\u001b[0m \u001b[0mException\u001b[0m \u001b[1;32mas\u001b[0m \u001b[0me\u001b[0m\u001b[1;33m:\u001b[0m\u001b[1;33m\u001b[0m\u001b[1;33m\u001b[0m\u001b[0m\n\u001b[0;32m    152\u001b[0m       \u001b[0mfiltered_tb\u001b[0m \u001b[1;33m=\u001b[0m \u001b[0m_process_traceback_frames\u001b[0m\u001b[1;33m(\u001b[0m\u001b[0me\u001b[0m\u001b[1;33m.\u001b[0m\u001b[0m__traceback__\u001b[0m\u001b[1;33m)\u001b[0m\u001b[1;33m\u001b[0m\u001b[1;33m\u001b[0m\u001b[0m\n\u001b[0;32m    153\u001b[0m       \u001b[1;32mraise\u001b[0m \u001b[0me\u001b[0m\u001b[1;33m.\u001b[0m\u001b[0mwith_traceback\u001b[0m\u001b[1;33m(\u001b[0m\u001b[0mfiltered_tb\u001b[0m\u001b[1;33m)\u001b[0m \u001b[1;32mfrom\u001b[0m \u001b[1;32mNone\u001b[0m\u001b[1;33m\u001b[0m\u001b[1;33m\u001b[0m\u001b[0m\n\u001b[0;32m    154\u001b[0m     \u001b[1;32mfinally\u001b[0m\u001b[1;33m:\u001b[0m\u001b[1;33m\u001b[0m\u001b[1;33m\u001b[0m\u001b[0m\n\u001b[1;32m--> 155\u001b[1;33m       \u001b[1;32mdel\u001b[0m \u001b[0mfiltered_tb\u001b[0m\u001b[1;33m\u001b[0m\u001b[1;33m\u001b[0m\u001b[0m\n\u001b[0m",
      "\u001b[1;32m~\\anaconda3\\Lib\\site-packages\\tensorflow\\python\\util\\dispatch.py\u001b[0m in \u001b[0;36m?\u001b[1;34m(*args, **kwargs)\u001b[0m\n\u001b[0;32m   1257\u001b[0m \u001b[1;33m\u001b[0m\u001b[0m\n\u001b[0;32m   1258\u001b[0m       \u001b[1;31m# Fallback dispatch system (dispatch v1):\u001b[0m\u001b[1;33m\u001b[0m\u001b[1;33m\u001b[0m\u001b[0m\n\u001b[0;32m   1259\u001b[0m       \u001b[1;32mtry\u001b[0m\u001b[1;33m:\u001b[0m\u001b[1;33m\u001b[0m\u001b[1;33m\u001b[0m\u001b[0m\n\u001b[0;32m   1260\u001b[0m         \u001b[1;32mreturn\u001b[0m \u001b[0mdispatch_target\u001b[0m\u001b[1;33m(\u001b[0m\u001b[1;33m*\u001b[0m\u001b[0margs\u001b[0m\u001b[1;33m,\u001b[0m \u001b[1;33m**\u001b[0m\u001b[0mkwargs\u001b[0m\u001b[1;33m)\u001b[0m\u001b[1;33m\u001b[0m\u001b[1;33m\u001b[0m\u001b[0m\n\u001b[1;32m-> 1261\u001b[1;33m       \u001b[1;32mexcept\u001b[0m \u001b[1;33m(\u001b[0m\u001b[0mTypeError\u001b[0m\u001b[1;33m,\u001b[0m \u001b[0mValueError\u001b[0m\u001b[1;33m)\u001b[0m\u001b[1;33m:\u001b[0m\u001b[1;33m\u001b[0m\u001b[1;33m\u001b[0m\u001b[0m\n\u001b[0m\u001b[0;32m   1262\u001b[0m         \u001b[1;31m# Note: convert_to_eager_tensor currently raises a ValueError, not a\u001b[0m\u001b[1;33m\u001b[0m\u001b[1;33m\u001b[0m\u001b[0m\n\u001b[0;32m   1263\u001b[0m         \u001b[1;31m# TypeError, when given unexpected types.  So we need to catch both.\u001b[0m\u001b[1;33m\u001b[0m\u001b[1;33m\u001b[0m\u001b[0m\n\u001b[0;32m   1264\u001b[0m         \u001b[0mresult\u001b[0m \u001b[1;33m=\u001b[0m \u001b[0mdispatch\u001b[0m\u001b[1;33m(\u001b[0m\u001b[0mop_dispatch_handler\u001b[0m\u001b[1;33m,\u001b[0m \u001b[0margs\u001b[0m\u001b[1;33m,\u001b[0m \u001b[0mkwargs\u001b[0m\u001b[1;33m)\u001b[0m\u001b[1;33m\u001b[0m\u001b[1;33m\u001b[0m\u001b[0m\n",
      "\u001b[1;32m~\\anaconda3\\Lib\\site-packages\\tensorflow\\python\\ops\\array_ops.py\u001b[0m in \u001b[0;36m?\u001b[1;34m(input, name, out_type)\u001b[0m\n\u001b[0;32m    684\u001b[0m     \u001b[1;32mif\u001b[0m \u001b[0mflags\u001b[0m\u001b[1;33m.\u001b[0m\u001b[0mconfig\u001b[0m\u001b[1;33m(\u001b[0m\u001b[1;33m)\u001b[0m\u001b[1;33m.\u001b[0m\u001b[0mtf_shape_default_int64\u001b[0m\u001b[1;33m.\u001b[0m\u001b[0mvalue\u001b[0m\u001b[1;33m(\u001b[0m\u001b[1;33m)\u001b[0m\u001b[1;33m:\u001b[0m\u001b[1;33m\u001b[0m\u001b[1;33m\u001b[0m\u001b[0m\n\u001b[0;32m    685\u001b[0m       \u001b[0mout_type\u001b[0m \u001b[1;33m=\u001b[0m \u001b[0mdtypes\u001b[0m\u001b[1;33m.\u001b[0m\u001b[0mint64\u001b[0m\u001b[1;33m\u001b[0m\u001b[1;33m\u001b[0m\u001b[0m\n\u001b[0;32m    686\u001b[0m     \u001b[1;32melse\u001b[0m\u001b[1;33m:\u001b[0m\u001b[1;33m\u001b[0m\u001b[1;33m\u001b[0m\u001b[0m\n\u001b[0;32m    687\u001b[0m       \u001b[0mout_type\u001b[0m \u001b[1;33m=\u001b[0m \u001b[0mdtypes\u001b[0m\u001b[1;33m.\u001b[0m\u001b[0mint32\u001b[0m\u001b[1;33m\u001b[0m\u001b[1;33m\u001b[0m\u001b[0m\n\u001b[1;32m--> 688\u001b[1;33m   \u001b[1;32mreturn\u001b[0m \u001b[0mshape_internal\u001b[0m\u001b[1;33m(\u001b[0m\u001b[0minput\u001b[0m\u001b[1;33m,\u001b[0m \u001b[0mname\u001b[0m\u001b[1;33m,\u001b[0m \u001b[0moptimize\u001b[0m\u001b[1;33m=\u001b[0m\u001b[1;32mTrue\u001b[0m\u001b[1;33m,\u001b[0m \u001b[0mout_type\u001b[0m\u001b[1;33m=\u001b[0m\u001b[0mout_type\u001b[0m\u001b[1;33m)\u001b[0m\u001b[1;33m\u001b[0m\u001b[1;33m\u001b[0m\u001b[0m\n\u001b[0m",
      "\u001b[1;32m~\\anaconda3\\Lib\\site-packages\\tensorflow\\python\\ops\\array_ops.py\u001b[0m in \u001b[0;36m?\u001b[1;34m(input, name, optimize, out_type)\u001b[0m\n\u001b[0;32m    725\u001b[0m                 input_shape)\n\u001b[0;32m    726\u001b[0m           \u001b[1;32mreturn\u001b[0m \u001b[0mconstant\u001b[0m\u001b[1;33m(\u001b[0m\u001b[0minput_shape\u001b[0m\u001b[1;33m.\u001b[0m\u001b[0mas_list\u001b[0m\u001b[1;33m(\u001b[0m\u001b[1;33m)\u001b[0m\u001b[1;33m,\u001b[0m \u001b[0mout_type\u001b[0m\u001b[1;33m,\u001b[0m \u001b[0mname\u001b[0m\u001b[1;33m=\u001b[0m\u001b[0mname\u001b[0m\u001b[1;33m)\u001b[0m\u001b[1;33m\u001b[0m\u001b[1;33m\u001b[0m\u001b[0m\n\u001b[0;32m    727\u001b[0m       \u001b[1;32mif\u001b[0m \u001b[1;32mnot\u001b[0m \u001b[0mout_type\u001b[0m\u001b[1;33m:\u001b[0m\u001b[1;33m\u001b[0m\u001b[1;33m\u001b[0m\u001b[0m\n\u001b[0;32m    728\u001b[0m         \u001b[0mout_type\u001b[0m \u001b[1;33m=\u001b[0m \u001b[0mdtypes\u001b[0m\u001b[1;33m.\u001b[0m\u001b[0mint32\u001b[0m\u001b[1;33m\u001b[0m\u001b[1;33m\u001b[0m\u001b[0m\n\u001b[1;32m--> 729\u001b[1;33m       \u001b[1;32mreturn\u001b[0m \u001b[0mgen_array_ops\u001b[0m\u001b[1;33m.\u001b[0m\u001b[0mshape\u001b[0m\u001b[1;33m(\u001b[0m\u001b[0minput\u001b[0m\u001b[1;33m,\u001b[0m \u001b[0mname\u001b[0m\u001b[1;33m=\u001b[0m\u001b[0mname\u001b[0m\u001b[1;33m,\u001b[0m \u001b[0mout_type\u001b[0m\u001b[1;33m=\u001b[0m\u001b[0mout_type\u001b[0m\u001b[1;33m)\u001b[0m\u001b[1;33m\u001b[0m\u001b[1;33m\u001b[0m\u001b[0m\n\u001b[0m",
      "\u001b[1;32m~\\anaconda3\\Lib\\site-packages\\tensorflow\\python\\ops\\gen_array_ops.py\u001b[0m in \u001b[0;36m?\u001b[1;34m(input, out_type, name)\u001b[0m\n\u001b[0;32m   9585\u001b[0m         _ctx, \"Shape\", name, input, \"out_type\", out_type)\n\u001b[0;32m   9586\u001b[0m       \u001b[1;32mreturn\u001b[0m \u001b[0m_result\u001b[0m\u001b[1;33m\u001b[0m\u001b[1;33m\u001b[0m\u001b[0m\n\u001b[0;32m   9587\u001b[0m     \u001b[1;32mexcept\u001b[0m \u001b[0m_core\u001b[0m\u001b[1;33m.\u001b[0m\u001b[0m_NotOkStatusException\u001b[0m \u001b[1;32mas\u001b[0m \u001b[0me\u001b[0m\u001b[1;33m:\u001b[0m\u001b[1;33m\u001b[0m\u001b[1;33m\u001b[0m\u001b[0m\n\u001b[0;32m   9588\u001b[0m       \u001b[0m_ops\u001b[0m\u001b[1;33m.\u001b[0m\u001b[0mraise_from_not_ok_status\u001b[0m\u001b[1;33m(\u001b[0m\u001b[0me\u001b[0m\u001b[1;33m,\u001b[0m \u001b[0mname\u001b[0m\u001b[1;33m)\u001b[0m\u001b[1;33m\u001b[0m\u001b[1;33m\u001b[0m\u001b[0m\n\u001b[1;32m-> 9589\u001b[1;33m     \u001b[1;32mexcept\u001b[0m \u001b[0m_core\u001b[0m\u001b[1;33m.\u001b[0m\u001b[0m_FallbackException\u001b[0m\u001b[1;33m:\u001b[0m\u001b[1;33m\u001b[0m\u001b[1;33m\u001b[0m\u001b[0m\n\u001b[0m\u001b[0;32m   9590\u001b[0m       \u001b[1;32mpass\u001b[0m\u001b[1;33m\u001b[0m\u001b[1;33m\u001b[0m\u001b[0m\n\u001b[0;32m   9591\u001b[0m     \u001b[1;32mtry\u001b[0m\u001b[1;33m:\u001b[0m\u001b[1;33m\u001b[0m\u001b[1;33m\u001b[0m\u001b[0m\n\u001b[0;32m   9592\u001b[0m       return shape_eager_fallback(\n",
      "\u001b[1;31mKeyboardInterrupt\u001b[0m: "
     ]
    }
   ],
   "source": [
    "# spanish_embedded_data is input sequence\n",
    "decoded_sequence = decode_sequence(spanish_embedded_data)"
   ]
  },
  {
   "cell_type": "code",
   "execution_count": null,
   "id": "8d00b1d3-673e-4ba5-b890-4a4854a9b5a8",
   "metadata": {},
   "outputs": [],
   "source": [
    "decoded_sequence.shape"
   ]
  },
  {
   "cell_type": "code",
   "execution_count": null,
   "id": "829fdacc",
   "metadata": {},
   "outputs": [],
   "source": []
  },
  {
   "cell_type": "code",
   "execution_count": null,
   "id": "d233ee89",
   "metadata": {},
   "outputs": [],
   "source": []
  },
  {
   "cell_type": "code",
   "execution_count": null,
   "id": "6fc5d2a9-8863-4b51-97ce-262e333d7ad2",
   "metadata": {
    "tags": []
   },
   "outputs": [],
   "source": [
    "# from keras.models import Model\n",
    "# from keras.layers import Input, LSTM, Dense, Embedding\n",
    "\n",
    "# # Define input shape and parameters\n",
    "# # vocab_size_spanish = ...\n",
    "# BATCH_SIZE = 32\n",
    "# embedding_dim = 100\n",
    "# latent_dim = 64\n",
    "# dropout=0.2\n",
    "\n",
    "\n",
    "# # Encoder\n",
    "# encoder_inputs = Input(shape=(None,), dtype=tf.int32, name=\"spanish_input\")\n",
    "# encoder_embedding = Embedding(vocab_size_spanish, embedding_dim, name=\"sp_embedding\")(encoder_inputs)\n",
    "# encoder_lstm = LSTM(latent_dim, return_sequences=False, return_state=True, dropout=dropout, recurrent_dropout=dropout, name=\"encoder\")\n",
    "# _, enc_state_h, enc_state_c = encoder_lstm(encoder_embedding)\n",
    "# encoder_states = [enc_state_h, enc_state_c]\n",
    "\n",
    "# # Define encoder model\n",
    "# encoder_model = Model(encoder_inputs, encoder_states)\n",
    "\n",
    "# # Decoder\n",
    "# decoder_inputs = Input(shape=(None,), dtype=tf.int32, name=\"english_teacher\")\n",
    "# decoder_embedding = Embedding(vocab_size_english, embedding_dim, name=\"english_embedding\")(decoder_inputs)\n",
    "# decoder_lstm = LSTM(latent_dim, return_sequences=True, return_state=True, dropout=dropout, recurrent_dropout=dropout, name=\"decoder\")\n",
    "# decoder_outputs, _, _ = decoder_lstm(decoder_embedding, initial_state=encoder_states)\n",
    "# decoder_dense = Dense(vocab_size_english, activation='softmax')\n",
    "# decoder_outputs_final = decoder_dense(decoder_outputs)\n",
    "\n",
    "# # Define the model\n",
    "# model = Model([encoder_inputs, decoder_inputs], decoder_outputs_final)\n"
   ]
  },
  {
   "cell_type": "code",
   "execution_count": null,
   "id": "5eea2f2a-1366-499f-9098-349609c7aca4",
   "metadata": {},
   "outputs": [],
   "source": []
  },
  {
   "cell_type": "code",
   "execution_count": null,
   "id": "0cadc824-141b-459f-b71c-dc690ab243ae",
   "metadata": {},
   "outputs": [],
   "source": []
  },
  {
   "cell_type": "markdown",
   "id": "d6284782-bc67-4e3d-91f2-b07172f06b23",
   "metadata": {
    "tags": []
   },
   "source": [
    "# Sequence to Sequence Attention"
   ]
  },
  {
   "cell_type": "code",
   "execution_count": null,
   "id": "07370a6b-412f-46ae-b9e7-9e3b09abf6a2",
   "metadata": {},
   "outputs": [],
   "source": []
  },
  {
   "cell_type": "markdown",
   "id": "4f0a473c-6780-41f9-b6e6-5201fdf7e89d",
   "metadata": {},
   "source": [
    "<img  src=\"https://lena-voita.github.io/resources/lectures/seq2seq/attention/general_scheme-min.png\" />\n"
   ]
  },
  {
   "cell_type": "code",
   "execution_count": null,
   "id": "a71aa2df-6697-48e0-aae1-2b418a128c94",
   "metadata": {
    "tags": []
   },
   "outputs": [],
   "source": [
    "from keras.models import Model\n",
    "from keras.layers import Input, LSTM, Dense\n",
    "import tensorflow as tf\n",
    "\n",
    "# Define an input sequence and process it.\n",
    "# encoder_inputs = Input(shape=(1,), dtype=tf.string, name=\"spanish_input\")\n",
    "encoder_inputs = Input(shape=(None,), name=\"spanish_input\")\n",
    "\n",
    "# encoder_vectorizer = spanish_vectorizer(encoder_inputs)\n",
    "\n",
    "# enc = layers.Embedding(vocab_size_spanish, embedding_dim, name=\"sp_embedding\")(encoder_vectorizer)\n",
    "\n",
    "layer_embedding = layers.Embedding(vocab_size_spanish, embedding_dim)\n",
    "embedding_layer_final = layer_embedding(encoder_inputs)\n",
    "\n",
    "enc_state_ouput, enc_state_h, enc_state_c = LSTM(latent_dim,  return_sequences=True, return_state=True,\n",
    "                                   dropout=dropout, recurrent_dropout=dropout, name=\"encoder\")(embedding_layer_final)\n",
    "# We discard `encoder_outputs` and only keep the states.\n",
    "encoder_states = [enc_state_h, enc_state_c]\n",
    "\n",
    "\n",
    "\n",
    "\n",
    "\n",
    "decoder_inputs = Input(shape=(None,), name=\"english_teacher\")\n",
    "# decoder_inputs = Input(shape=(None,), dtype=tf.int32, name=\"english_teacher\")\n",
    "x = layers.Embedding(vocab_size_english, embedding_dim, name=\"english_embedding\")(decoder_inputs)\n",
    "\n",
    "\n",
    "\n",
    "# Adding the Attention mechanism\n",
    "\n",
    "decoder_lstm = layers.LSTM(latent_dim, return_sequences=True, return_state=True,\n",
    "                           dropout=dropout, recurrent_dropout=dropout, name=\"Decoder\")\n",
    "decoder_outputs,decoder_state_h, decoder_state_c = decoder_lstm(x, initial_state=encoder_states)\n",
    "\n",
    "attention = tf.keras.layers.Attention()([decoder_outputs, enc_state_ouput])  # Using the decoder input and encoder output for attention\n",
    "decoder_combined_context = layers.concatenate([attention, decoder_outputs], name=\"Luong_Attention\")\n",
    "\n",
    "decoder_dense = layers.Dense(vocab_size_english, activation='softmax')\n",
    "decoder_outputs_final = decoder_dense(attention)\n",
    "\n",
    "# Define the model\n",
    "model2 = Model([encoder_inputs, decoder_inputs], decoder_outputs_final)\n"
   ]
  },
  {
   "cell_type": "code",
   "execution_count": null,
   "id": "939945b5-606c-4b2f-acd9-258303ef159d",
   "metadata": {
    "tags": []
   },
   "outputs": [],
   "source": [
    "# x"
   ]
  },
  {
   "cell_type": "code",
   "execution_count": null,
   "id": "038329b9-3d1c-4ec2-bbe1-6aa2192c79c4",
   "metadata": {
    "tags": []
   },
   "outputs": [],
   "source": [
    "model2.summary()"
   ]
  },
  {
   "cell_type": "code",
   "execution_count": null,
   "id": "6124a616",
   "metadata": {},
   "outputs": [],
   "source": [
    "from tensorflow.keras.utils import plot_model\n",
    "\n",
    "plot_model(model2, to_file='model_plot3.png', show_shapes=True, show_layer_names=True)"
   ]
  },
  {
   "cell_type": "code",
   "execution_count": null,
   "id": "f89266a5-8e81-44d2-a13d-84f86d820633",
   "metadata": {
    "tags": []
   },
   "outputs": [],
   "source": [
    "model2.compile(loss='sparse_categorical_crossentropy', optimizer='rmsprop', metrics=['accuracy'])\n"
   ]
  },
  {
   "cell_type": "code",
   "execution_count": null,
   "id": "9fc254b8-57af-493c-a994-db2c1cdfbe8a",
   "metadata": {
    "tags": []
   },
   "outputs": [],
   "source": [
    "# Prepare training data with teacher forcing\n",
    "# decoder_input_data is a 2D array of shape (None, None) containing a tokenization of the English sentences.\n",
    "# decoder_target_data is the same as decoder_input_data but offset by one timestep. decoder_target_data[:, t] will be the same as decoder_input_data[:, t-1].\n",
    "\n",
    "english_teacher_enc = english_vectorizer(X_processed_array) #.numpy() # Teacher\n",
    "english_target_enc = np.zeros_like(english_teacher_enc)\n",
    "english_target_enc[:,:-1] = english_teacher_enc[:,1:] # To predict\n",
    "english_target_enc.shape"
   ]
  },
  {
   "cell_type": "code",
   "execution_count": null,
   "id": "17bdd726-e341-44dc-a978-8f54fb6c3c48",
   "metadata": {
    "tags": []
   },
   "outputs": [],
   "source": [
    "# Configure the model and start training\n",
    "# Stop training with early stopping with patience of 20\n",
    "callbacks_list = [EarlyStopping(monitor='loss', mode='min', min_delta=0.000001,\n",
    "                                patience=5, restore_best_weights=True, verbose=1,\n",
    "                                )]\n",
    "\n",
    "\n",
    "# history = model2.fit([y_processed_array, english_teacher_enc], english_target_enc,\n",
    "#                     validation_split=0.1,\n",
    "#                     epochs=10, batch_size=BATCH_SIZE,\n",
    "#                     callbacks=callbacks_list,\n",
    "#                     verbose=1)\n",
    "\n",
    "\n",
    "\n",
    "\n",
    "history = model2.fit([spanish_embedded_data, english_teacher_enc], english_target_enc,\n",
    "                    validation_split=0.1,\n",
    "                    epochs=50, batch_size=BATCH_SIZE,\n",
    "                    callbacks=callbacks_list,\n",
    "                    verbose=1)\n"
   ]
  },
  {
   "cell_type": "code",
   "execution_count": null,
   "id": "d96e0bc2-c185-4fa5-84f4-c1bc29555f8d",
   "metadata": {
    "tags": []
   },
   "outputs": [],
   "source": [
    "import matplotlib.pyplot as plt\n",
    "\n",
    "plt.figure(figsize=(20, 6))\n",
    "# Plot the first subplot  loss)\n",
    "plt.subplot(1, 2, 1)  # 1 row, 2 columns, first subplot\n",
    "plt.plot(history.history[\"loss\"])\n",
    "plt.plot(history.history[\"val_loss\"])\n",
    "plt.title(\"validation loss & training loss\")\n",
    "plt.xlabel(\"epochs\")\n",
    "plt.ylabel(\"loss\")\n",
    "leg = plt.legend([\"training loss\", \"validation loss\"],loc =\"upper right\"); \n",
    "\n",
    "# Plot the second subplot ( accuracy)\n",
    "plt.subplot(1, 2, 2)  # 1 row, 2 columns, second subplot\n",
    "plt.plot(history.history[\"accuracy\"])\n",
    "plt.plot(history.history[\"val_accuracy\"])\n",
    "plt.title(\"validation accuracy & training loaccuracyss\")\n",
    "plt.xlabel(\"epochs\")\n",
    "plt.ylabel(\"accuracy\")\n",
    "leg = plt.legend([\"training accuracy\", \"validation accuracy\"],loc =\"upper left\"); \n",
    "\n",
    "plt.show()\n"
   ]
  },
  {
   "cell_type": "code",
   "execution_count": null,
   "id": "db575092-484b-40cf-9dd3-1958366480c5",
   "metadata": {},
   "outputs": [],
   "source": [
    "# y_pred=model2.predict([spanish_embedded_data, english_teacher_enc])"
   ]
  },
  {
   "cell_type": "code",
   "execution_count": null,
   "id": "139a7ebd-50bd-43b3-a70e-5266acaf9d84",
   "metadata": {},
   "outputs": [],
   "source": [
    "# y_pred.shape"
   ]
  },
  {
   "cell_type": "code",
   "execution_count": null,
   "id": "e925190d-5389-48f8-b9dc-317874507654",
   "metadata": {},
   "outputs": [],
   "source": []
  },
  {
   "cell_type": "code",
   "execution_count": null,
   "id": "33d544b2-017f-43c2-842d-9d53c68007f4",
   "metadata": {},
   "outputs": [],
   "source": []
  },
  {
   "cell_type": "code",
   "execution_count": null,
   "id": "d4e6479d-a73d-4ce4-84bd-d904dbff55bc",
   "metadata": {
    "tags": []
   },
   "outputs": [],
   "source": [
    "from keras.models import Model\n",
    "from keras.layers import Input, LSTM, Dense\n",
    "\n",
    "# Define an input sequence and process it.\n",
    "# encoder_inputs = Input(shape=(None, num_encoder_tokens))\n",
    "A_encoder_inputs = Input(shape=(1,),dtype=tf.string, name=\"spanish_input\")\n",
    "A_encoder_vectorizer = spanish_vectorizer(A_encoder_inputs)\n",
    "\n",
    "A_enc = layers.Embedding(vocab_size_spanish, embedding_dim, name=\"sp_embedding\")(A_encoder_vectorizer)\n",
    "encoder_outputs, A_enc_state_h, A_enc_state_c = LSTM(latent_dim,  return_sequences=True,return_state=True,\n",
    "                                   dropout=dropout, recurrent_dropout=dropout, name=\"encoder\")(A_enc)\n",
    "# We discard `encoder_outputs` and only keep the states.\n",
    "A_encoder_states = [A_enc_state_h, A_enc_state_c]\n",
    "\n"
   ]
  },
  {
   "cell_type": "code",
   "execution_count": null,
   "id": "4d26239c-addd-4305-83e8-75d3fd554c5f",
   "metadata": {
    "tags": []
   },
   "outputs": [],
   "source": [
    "decoder_inputs = Input(shape=(None,), dtype=tf.int32, name=\"english_teacher\")\n",
    "x = layers.Embedding(vocab_size_english, embedding_dim\n",
    "                     ,name=\"english_embedding\")(decoder_inputs)\n",
    "decoder_lstm = layers.LSTM(latent_dim, return_sequences=True, return_state=True,\n",
    "                           dropout=dropout, recurrent_dropout=dropout, name=\"Decoder\")\n",
    "decoder_outputs, _, _ = decoder_lstm(x, initial_state=A_encoder_states)\n"
   ]
  },
  {
   "cell_type": "code",
   "execution_count": null,
   "id": "1d56d463-34e8-4c23-bb0f-bffe9bb77a21",
   "metadata": {
    "tags": []
   },
   "outputs": [],
   "source": [
    "\"\"\" Attentional part \"\"\"\n",
    "attention = layers.dot([decoder_outputs, encoder_outputs], axes=[2,2], name=\"Attention_score\")"
   ]
  },
  {
   "cell_type": "code",
   "execution_count": null,
   "id": "82dc226b-b37d-41c0-98f0-3c735c00e28c",
   "metadata": {
    "tags": []
   },
   "outputs": [],
   "source": [
    "\"\"\" Context vector \"\"\"\n",
    "context = layers.dot([attention, encoder_outputs], axes=[2,1], name=\"Attention_output\")\n",
    "print(context.shape)"
   ]
  },
  {
   "cell_type": "code",
   "execution_count": null,
   "id": "23efd670-8f7e-4aed-ad50-e561465c35f0",
   "metadata": {
    "tags": []
   },
   "outputs": [],
   "source": [
    "\"\"\" Combine attention with decoder ouput \"\"\"\n",
    "decoder_combined_context = layers.concatenate([context, decoder_outputs], name=\"Luong_Attention\")\n",
    "print(decoder_combined_context.shape)"
   ]
  },
  {
   "cell_type": "code",
   "execution_count": null,
   "id": "a378bb66-2756-4257-96f5-951d64b329ad",
   "metadata": {
    "tags": []
   },
   "outputs": [],
   "source": [
    "\"\"\" Ouput of the model \"\"\"\n",
    "ouputs = layers.Dense(vocab_size_english, activation='softmax', name=\"Output\")(decoder_combined_context)\n",
    "print(decoder_outputs.shape)"
   ]
  },
  {
   "cell_type": "code",
   "execution_count": null,
   "id": "d3a707f1-d7bb-4ce5-be34-3acd7456b659",
   "metadata": {
    "tags": []
   },
   "outputs": [],
   "source": [
    "model3 = Model([A_encoder_inputs, decoder_inputs], ouputs)"
   ]
  },
  {
   "cell_type": "code",
   "execution_count": null,
   "id": "3d5e062f-0a6b-46ab-90f9-bb5ecd600609",
   "metadata": {
    "tags": []
   },
   "outputs": [],
   "source": [
    "model3.summary()"
   ]
  },
  {
   "cell_type": "code",
   "execution_count": null,
   "id": "8dcd3e01",
   "metadata": {},
   "outputs": [],
   "source": [
    "from tensorflow.keras.utils import plot_model\n",
    "\n",
    "plot_model(model3, to_file='model_plot4.png', show_shapes=True, show_layer_names=True)"
   ]
  },
  {
   "cell_type": "code",
   "execution_count": null,
   "id": "a2f654ad-b502-4f50-a17a-821ffda7df94",
   "metadata": {
    "tags": []
   },
   "outputs": [],
   "source": [
    "model3.compile(loss='sparse_categorical_crossentropy', optimizer='rmsprop', metrics=['accuracy'])\n"
   ]
  },
  {
   "cell_type": "code",
   "execution_count": null,
   "id": "d9f81c8e-ac8d-4e58-bed2-09327700448d",
   "metadata": {
    "tags": []
   },
   "outputs": [],
   "source": [
    "# Prepare training data with teacher forcing\n",
    "# decoder_input_data is a 2D array of shape (None, None) containing a tokenization of the English sentences.\n",
    "# decoder_target_data is the same as decoder_input_data but offset by one timestep. decoder_target_data[:, t] will be the same as decoder_input_data[:, t-1].\n",
    "\n",
    "english_teacher_enc = english_vectorizer(X_processed_array) #.numpy() # Teacher\n",
    "english_target_enc = np.zeros_like(english_teacher_enc)\n",
    "english_target_enc[:,:-1] = english_teacher_enc[:,1:] # To predict\n",
    "english_target_enc.shape"
   ]
  },
  {
   "cell_type": "code",
   "execution_count": null,
   "id": "6e90c6ab-194b-43f8-98f0-59b26b7c98fe",
   "metadata": {
    "tags": []
   },
   "outputs": [],
   "source": [
    "# Configure the model and start training\n",
    "# Stop training with early stopping with patience of 20\n",
    "callbacks_list = [EarlyStopping(monitor='loss', mode='min', min_delta=0.000001,\n",
    "                                patience=5, restore_best_weights=True, verbose=1,\n",
    "                                )]\n",
    "\n",
    "\n",
    "history = model3.fit([y_processed_array, english_teacher_enc], english_target_enc,\n",
    "                    validation_split=0.1,\n",
    "                    epochs=50, batch_size=BATCH_SIZE,\n",
    "                    callbacks=callbacks_list,\n",
    "                    verbose=1)\n",
    "\n",
    "\n",
    "\n"
   ]
  },
  {
   "cell_type": "code",
   "execution_count": null,
   "id": "54279d7e-37c1-47c0-b20e-4c6c995a223b",
   "metadata": {
    "tags": []
   },
   "outputs": [],
   "source": [
    "import matplotlib.pyplot as plt\n",
    "\n",
    "plt.figure(figsize=(20, 6))\n",
    "# Plot the first subplot  loss)\n",
    "plt.subplot(1, 2, 1)  # 1 row, 2 columns, first subplot\n",
    "plt.plot(history.history[\"loss\"])\n",
    "plt.plot(history.history[\"val_loss\"])\n",
    "plt.title(\"validation loss & training loss\")\n",
    "plt.xlabel(\"epochs\")\n",
    "plt.ylabel(\"loss\")\n",
    "leg = plt.legend([\"training loss\", \"validation loss\"],loc =\"upper right\"); \n",
    "\n",
    "# Plot the second subplot ( accuracy)\n",
    "plt.subplot(1, 2, 2)  # 1 row, 2 columns, second subplot\n",
    "plt.plot(history.history[\"accuracy\"])\n",
    "plt.plot(history.history[\"val_accuracy\"])\n",
    "plt.title(\"validation accuracy & training loaccuracyss\")\n",
    "plt.xlabel(\"epochs\")\n",
    "plt.ylabel(\"accuracy\")\n",
    "leg = plt.legend([\"training accuracy\", \"validation accuracy\"],loc =\"upper left\"); \n",
    "\n",
    "plt.show()\n"
   ]
  },
  {
   "cell_type": "code",
   "execution_count": null,
   "id": "33d56052-fffd-4270-8e8a-c292f331e1b8",
   "metadata": {},
   "outputs": [],
   "source": []
  }
 ],
 "metadata": {
  "kernelspec": {
   "display_name": "Python 3 (ipykernel)",
   "language": "python",
   "name": "python3"
  },
  "language_info": {
   "codemirror_mode": {
    "name": "ipython",
    "version": 3
   },
   "file_extension": ".py",
   "mimetype": "text/x-python",
   "name": "python",
   "nbconvert_exporter": "python",
   "pygments_lexer": "ipython3",
   "version": "3.11.5"
  }
 },
 "nbformat": 4,
 "nbformat_minor": 5
}
