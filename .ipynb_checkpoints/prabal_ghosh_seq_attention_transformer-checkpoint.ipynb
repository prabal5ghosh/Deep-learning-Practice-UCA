{
 "cells": [
  {
   "cell_type": "markdown",
   "id": "e958e291-1eba-48be-8b37-6acdbfaa32ec",
   "metadata": {
    "tags": []
   },
   "source": [
    "# PRABAL GHOSH\n",
    "## Deep Learning Lab =  Sequence to Sequence (seq2seq) variable length and Attention and Transformer"
   ]
  },
  {
   "cell_type": "markdown",
   "id": "942a617d-f89b-41a1-8cf4-676db0fbe234",
   "metadata": {},
   "source": [
    "You must submit a notebook with execution traces and perfectly written corresponding to the course on Seq2Seq, Seq2Seq with Attention and Transformer architectures. This notebook will identify at least 5 sections:\n",
    "- Introduction: presentation of the problem and how to proceed\n",
    "- Data pre-processing\n",
    "- Seq2Seq architecture\n",
    "- Seq2Seq architecture with Attention (specify which attention model you used)\n",
    "- Transformer-based architecture\n",
    "- Use of a model from huggingface.co (transfer learning) to address the same problem (optional)\n",
    "- Conclusion: comparison of approaches and personal remarks\n",
    "\n",
    "Submit also a pdf version of your notebook"
   ]
  },
  {
   "cell_type": "markdown",
   "id": "bac0fdb5-35a6-40f6-8df4-755dcdef3097",
   "metadata": {
    "jp-MarkdownHeadingCollapsed": true,
    "tags": []
   },
   "source": [
    "# Some important links for Sequence to Sequence (seq2seq) variable length and Attention and Transformer\n"
   ]
  },
  {
   "cell_type": "markdown",
   "id": "5b5724f2-1cea-4bd4-aca3-524d0de86603",
   "metadata": {
    "tags": []
   },
   "source": [
    "## <font color = green> **Data is dowlnloaded from the following link** </font>  \n",
    "[https://www.manythings.org/anki/](https://www.manythings.org/anki/)(Tab-delimited Bilingual Sentence Pairs)\n",
    "\n",
    "**The following tutorial is followed to understand the Sequence to Sequence**\n",
    "\n",
    "- \"https://lena-voita.github.io/nlp_course/seq2seq_and_attention.html\" (basics+attention part)\n",
    "- \"https://towardsdatascience.com/classic-seq2seq-model-vs-seq2seq-model-with-attention-31527c77b28a\"\n",
    "- \"https://wikidocs.net/178419\"\n",
    "- \"https://www.jeremyjordan.me/attention/\"\n",
    "- \"https://machinelearningmastery.com/a-gentle-introduction-to-positional-encoding-in-transformer-models-part-1/\"\n",
    "- \"https://www.tensorflow.org/text/tutorials/transformer\"\n",
    "- \"https://blog.keras.io/a-ten-minute-introduction-to-sequence-to-sequence-learning-in-keras.html\" (A ten-minute introduction to sequence-to-sequence learning in Keras)\n",
    "\n",
    "**The following youtube videos are good to understand the concepts**\n",
    "- \"https://www.youtube.com/watch?v=XfpMkf4rD6E\"\n",
    "- \"https://www.youtube.com/watch?v=RRP0czWtOeM&list=PLQflnv_s49v-4aH-xFcTykTpcyWSY4Tww&index=5\""
   ]
  },
  {
   "cell_type": "markdown",
   "id": "2e8f78aa-900a-4454-83cd-c7f9b2ebf0d1",
   "metadata": {},
   "source": []
  },
  {
   "cell_type": "markdown",
   "id": "d9c882e5-2189-44b7-8151-f1dc69af146a",
   "metadata": {
    "tags": []
   },
   "source": [
    "# Normal Sequence to Sequence (seq2seq)"
   ]
  },
  {
   "cell_type": "markdown",
   "id": "f0d92122-968f-4d52-9a02-443cf4e49bcd",
   "metadata": {
    "tags": []
   },
   "source": [
    "## import libraries"
   ]
  },
  {
   "cell_type": "markdown",
   "id": "397a5234-f27f-40d5-b32c-c805ff8def65",
   "metadata": {},
   "source": [
    "<img  src=\"https://www.jeremyjordan.me/content/images/size/w1600/2023/02/path-length-1-2.png\" />\n"
   ]
  },
  {
   "cell_type": "markdown",
   "id": "9e96259a-d397-4723-b289-83d29cd82607",
   "metadata": {
    "tags": []
   },
   "source": [
    "\n",
    "<video controls src=\"https://lena-voita.github.io/resources/lectures/seq2seq/general/seq2seq_training_with_target.mp4\" />  "
   ]
  },
  {
   "cell_type": "markdown",
   "id": "18c83fa4-bc40-47d5-8fce-ee14a0c14ad1",
   "metadata": {},
   "source": [
    "import matplotlib.pyplot as plt\n",
    "import matplotlib.ticker as ticker\n",
    "import numpy as np\n",
    "import pandas as pd"
   ]
  },
  {
   "cell_type": "code",
   "execution_count": 64,
   "id": "9bd92765-05bc-4579-a7ae-b4a3b018d22f",
   "metadata": {
    "tags": []
   },
   "outputs": [],
   "source": [
    "import matplotlib.pyplot as plt\n",
    "import matplotlib.ticker as ticker\n",
    "import numpy as np\n",
    "import pandas as pd\n"
   ]
  },
  {
   "cell_type": "code",
   "execution_count": 65,
   "id": "0e1eea1f-9553-4c0c-a5e0-f2423d99c84a",
   "metadata": {
    "tags": []
   },
   "outputs": [],
   "source": [
    "import tensorflow as tf \n",
    "import keras"
   ]
  },
  {
   "cell_type": "code",
   "execution_count": 66,
   "id": "711e3d1c-819a-4e39-ae17-e7265bbe112d",
   "metadata": {
    "tags": []
   },
   "outputs": [],
   "source": [
    "import unicodedata\n",
    "import re\n",
    "import os\n",
    "import io\n",
    "import time"
   ]
  },
  {
   "cell_type": "code",
   "execution_count": 67,
   "id": "29a5cf0d-b5d9-4eb3-aea3-9753f34ef221",
   "metadata": {
    "tags": []
   },
   "outputs": [],
   "source": [
    "import tensorflow as tf\n",
    "\n",
    "from tensorflow.keras.models import Model\n",
    "from tensorflow.keras import optimizers\n",
    "from tensorflow.keras import layers\n",
    "from tensorflow.keras.layers import Input, Dense\n",
    "\n",
    "from tensorflow.keras.callbacks import EarlyStopping\n",
    "from tensorflow.keras.utils import plot_model"
   ]
  },
  {
   "cell_type": "markdown",
   "id": "27e98731-37f8-4ec4-b930-3a4ec62fda01",
   "metadata": {
    "tags": []
   },
   "source": [
    "## Data Preprocessing\n",
    "\n",
    "The data is available here: http://www.manythings.org/anki/.\n",
    "They consist of a set of pairs in the following format:\n",
    "\n",
    "  `hi .`  `hola .`\n",
    "\n",
    "There are a variety of languages available, English-Spanish data will be used.\n",
    "\n",
    "The processing of the data will consist of the following steps:\n",
    "\n",
    "1. Removal of special characters\n",
    "1. adding a start or end token to each sentence.\n",
    "1. Creating the vectorizer for each of the two languages"
   ]
  },
  {
   "cell_type": "markdown",
   "id": "958f7b34",
   "metadata": {},
   "source": [
    "**Limit the number of examples is 1000 for faster processing**\n",
    " "
   ]
  },
  {
   "cell_type": "code",
   "execution_count": 69,
   "id": "74d3d29d-b862-4561-88dc-9c2c74ba9b0a",
   "metadata": {
    "tags": []
   },
   "outputs": [
    {
     "name": "stdout",
     "output_type": "stream",
     "text": [
      "0     <start> go . <end>\n",
      "1     <start> go . <end>\n",
      "2     <start> go . <end>\n",
      "3     <start> hi . <end>\n",
      "4    <start> run ! <end>\n",
      "Name: Go., dtype: object\n",
      "0      <start> vete . <end>\n",
      "1      <start> vaya . <end>\n",
      "2    <start> vayase . <end>\n",
      "3      <start> hola . <end>\n",
      "4     <start> corre ! <end>\n",
      "Name: Ve., dtype: object\n"
     ]
    }
   ],
   "source": [
    "import pandas as pd  # Import pandas library for data manipulation\n",
    "import re  # Import re library for regular expressions\n",
    "import unicodedata  # Import unicodedata library for handling Unicode characters\n",
    "\n",
    "# Load dataset from file\n",
    "dataset = 'C:/Users/praba\\Documents/GitHub/deep_learning_uca_2/spa-eng/spa.txt'\n",
    "data = pd.read_table(dataset)  # Read data from file into a DataFrame\n",
    "\n",
    "# Extract source (X) and target (y) sentences from the DataFrame\n",
    "X = data.iloc[:, 0]  # Extract the first column as source sentences\n",
    "y = data.iloc[:, 1]  # Extract the second column as target sentences\n",
    "\n",
    "# Limit the number of examples for faster processing\n",
    "X = X[:1000]  # Limit the number of source sentences to 10000\n",
    "y = y[:1000]  # Limit the number of target sentences to 10000\n",
    "\n",
    "# Define a function to preprocess a sentence\n",
    "def step1(sent):\n",
    "    # Function to preprocess a sentence\n",
    "    def unicode_to_ascii(s):\n",
    "        # Normalize Unicode characters and remove accents\n",
    "        return ''.join(c for c in unicodedata.normalize('NFD', s) if unicodedata.category(c) != 'Mn')\n",
    "\n",
    "    # Convert the sentence to lowercase and remove leading/trailing whitespaces\n",
    "    sent = unicode_to_ascii(sent.lower().strip())\n",
    "\n",
    "    # Add spaces between words and punctuation\n",
    "    sent = re.sub(r\"([?.!,¿])\", r\" \\1 \", sent)\n",
    "    sent = re.sub(r'[\" \"]+', \" \", sent)\n",
    "\n",
    "    # Replace everything except letters, punctuation, and some special characters with spaces\n",
    "    sent = re.sub(r\"[^a-zA-Z?.!,¿]+\", \" \", sent)\n",
    "\n",
    "    # Add <start> and <end> tokens to the sentence\n",
    "    return '<start> ' + sent.strip() + ' <end>'\n",
    "\n",
    "# Apply the preprocessing function to each source and target sentence\n",
    "X_processed = X.apply(step1)  # Preprocess source sentences\n",
    "y_processed = y.apply(step1)  # Preprocess target sentences\n",
    "\n",
    "# Print the first few preprocessed sentences to check\n",
    "print(X_processed.head())\n",
    "print(y_processed.head())\n"
   ]
  },
  {
   "cell_type": "code",
   "execution_count": 70,
   "id": "51ea8439-a233-4c8d-a0a8-add026e5bd03",
   "metadata": {
    "tags": []
   },
   "outputs": [
    {
     "data": {
      "text/plain": [
       "((1000,), (1000,))"
      ]
     },
     "execution_count": 70,
     "metadata": {},
     "output_type": "execute_result"
    }
   ],
   "source": [
    "english_sentences = X_processed_array = np.array(X_processed)\n",
    "spanish_sentences = y_processed_array = np.array(y_processed)\n",
    "X_processed_array.shape, y_processed.shape   "
   ]
  },
  {
   "cell_type": "code",
   "execution_count": 71,
   "id": "65573723-d542-4d8d-99e1-4f13c52e8b54",
   "metadata": {
    "tags": []
   },
   "outputs": [],
   "source": [
    "from sklearn.model_selection import train_test_split\n",
    "X_train, X_test, y_train, y_test = train_test_split(\n",
    "    X_processed_array, y_processed_array, test_size=0.33, random_state=42)\n"
   ]
  },
  {
   "cell_type": "code",
   "execution_count": 259,
   "id": "cfa35fc1-3023-4dac-ab45-e69aa7bdda6b",
   "metadata": {
    "tags": []
   },
   "outputs": [
    {
     "data": {
      "text/plain": [
       "'<start> vaya . <end>'"
      ]
     },
     "execution_count": 259,
     "metadata": {},
     "output_type": "execute_result"
    }
   ],
   "source": [
    "y_processed_array[1]"
   ]
  },
  {
   "cell_type": "code",
   "execution_count": 73,
   "id": "356c4f01-193c-406b-9e6e-a85c9d01dcc9",
   "metadata": {
    "tags": []
   },
   "outputs": [],
   "source": [
    "# X_train"
   ]
  },
  {
   "cell_type": "code",
   "execution_count": 74,
   "id": "a5424c9b-dfc8-450e-92b8-84ecd4822148",
   "metadata": {
    "tags": []
   },
   "outputs": [],
   "source": [
    "# y_train"
   ]
  },
  {
   "cell_type": "code",
   "execution_count": 75,
   "id": "8ec71c70-5f98-4298-af68-b855f23d6e6f",
   "metadata": {
    "tags": []
   },
   "outputs": [],
   "source": [
    "# Search vocabulary and max_length for each language\n",
    "def voc(lang):\n",
    "    # a list of sentences in the same language\n",
    "    lengths = [len(txt.split()) for txt in lang]\n",
    "    vocab = set([w for txt in lang for w in txt.split()])  \n",
    "\n",
    "    return max(lengths), list(vocab), len(vocab)+2 # for padding and OOV\n",
    "\n",
    "max_length_spanish, vocab_spanish, vocab_size_spanish = voc(y_processed_array)\n",
    "max_length_english, vocab_english, vocab_size_english = voc(X_processed_array)"
   ]
  },
  {
   "cell_type": "code",
   "execution_count": 76,
   "id": "6f5f2a3d-b509-4a00-abe3-5d3b76717d20",
   "metadata": {
    "tags": []
   },
   "outputs": [
    {
     "data": {
      "text/plain": [
       "(9, 7)"
      ]
     },
     "execution_count": 76,
     "metadata": {},
     "output_type": "execute_result"
    }
   ],
   "source": [
    "max_length_spanish,max_length_english"
   ]
  },
  {
   "cell_type": "code",
   "execution_count": 198,
   "id": "26b8a5ae",
   "metadata": {},
   "outputs": [
    {
     "data": {
      "text/plain": [
       "374"
      ]
     },
     "execution_count": 198,
     "metadata": {},
     "output_type": "execute_result"
    }
   ],
   "source": [
    "vocab_size_english"
   ]
  },
  {
   "cell_type": "code",
   "execution_count": 77,
   "id": "cb2ce9a0-51f1-4702-aa4e-00c6a56d442e",
   "metadata": {
    "tags": []
   },
   "outputs": [],
   "source": [
    "# Build vectorizer layer\n",
    "english_vectorizer = layers.TextVectorization(standardize=None, output_mode='int',\n",
    "                                              vocabulary=vocab_english,\n",
    "                                              name=\"English_vect\")\n",
    "# On peut connaitre le vocabulaire par english_vectorizer.get_vocabulary()\n",
    "\n",
    "# Do the same for spanish\n",
    "spanish_vectorizer = layers.TextVectorization(standardize=None, output_mode='int',\n",
    "                                              vocabulary=vocab_spanish,\n",
    "                                              name=\"Spanish_vect\")"
   ]
  },
  {
   "cell_type": "code",
   "execution_count": 78,
   "id": "e8591147-9cb3-4f70-a716-910c18e6566c",
   "metadata": {
    "tags": []
   },
   "outputs": [],
   "source": [
    "BATCH_SIZE = 32\n",
    "embedding_dim = 100\n",
    "latent_dim = 64\n",
    "dropout=0.2\n"
   ]
  },
  {
   "cell_type": "markdown",
   "id": "85ddf046-c940-46fc-9b45-aa09a216a0c2",
   "metadata": {
    "tags": []
   },
   "source": [
    "## basic model"
   ]
  },
  {
   "cell_type": "markdown",
   "id": "2a68b18b-d53b-488d-8417-2102e426b20a",
   "metadata": {},
   "source": [
    "**Encoder part**"
   ]
  },
  {
   "cell_type": "code",
   "execution_count": 181,
   "id": "a59b448e-fb5a-4162-a301-6d1a82b32c14",
   "metadata": {
    "tags": []
   },
   "outputs": [],
   "source": [
    "from keras.models import Model\n",
    "from keras.layers import Input, LSTM, Dense\n",
    "\n",
    "# Define an input sequence and process it.\n",
    "encoder_inputs = Input(shape=(None,),name=\"spanish_input\")\n",
    "# encoder_inputs = Input(shape=(None,),dtype=tf.string, name=\"spanish_input\")\n",
    "\n",
    "# encoder_vectorizer = spanish_vectorizer(encoder_inputs)\n",
    "# layer_embedding = layers.Embedding(vocab_size_spanish, embedding_dim, name=\"sp_embedding\")\n",
    "\n",
    "layer_embedding = layers.Embedding(vocab_size_spanish, embedding_dim, name=\"sp_embedding\")\n",
    "embedding_layer_final = layer_embedding(encoder_inputs)\n",
    "layer_lstm = LSTM(latent_dim, return_sequences=False, return_state=True)\n",
    "# _, enc_state_h, enc_state_c = LSTM(latent_dim,  return_sequences=False,return_state=True,\n",
    "#                                    dropout=dropout, recurrent_dropout=dropout, name=\"encoder\")(embedding_layer_final)\n",
    "\n",
    "enc_state_output, enc_state_h, enc_state_c = layer_lstm(embedding_layer_final)\n",
    "# We discard `encoder_outputs` and only keep the states.\n",
    "encoder_states = [enc_state_h, enc_state_c]\n",
    "\n"
   ]
  },
  {
   "cell_type": "code",
   "execution_count": null,
   "id": "28166623",
   "metadata": {},
   "outputs": [],
   "source": []
  },
  {
   "cell_type": "markdown",
   "id": "e78d04d1-134c-48dc-92ff-b0b01aeab542",
   "metadata": {},
   "source": [
    "**Decoder part**"
   ]
  },
  {
   "cell_type": "code",
   "execution_count": 182,
   "id": "a45efe08-54b3-4058-9c21-1d313d68b116",
   "metadata": {
    "tags": []
   },
   "outputs": [],
   "source": [
    "# decoder_inputs = Input(shape=(None,), dtype=tf.int32, name=\"english_teacher\")\n",
    "decoder_inputs = Input(shape=(None,), name=\"english_teacher\")\n",
    "\n",
    "layer_embedding_decoder = layers.Embedding(vocab_size_english, embedding_dim\n",
    "                     ,name=\"english_embedding\")\n",
    "x =layer_embedding_decoder(decoder_inputs)\n",
    "decoder_lstm = layers.LSTM(latent_dim, return_sequences=True, return_state=True,\n",
    "#                            dropout=dropout, recurrent_dropout=dropout, name=\"decoder1\")\n",
    "                          )\n",
    "                           \n",
    "decoder_outputs, _, _ = decoder_lstm(x, initial_state=encoder_states)\n",
    "decoder_dense = layers.Dense(vocab_size_english, activation='softmax')\n",
    "decoder_outputs_final = decoder_dense(decoder_outputs)\n"
   ]
  },
  {
   "cell_type": "code",
   "execution_count": 183,
   "id": "3014fe69",
   "metadata": {},
   "outputs": [
    {
     "data": {
      "text/plain": [
       "[(None, None, 64), (None, 64), (None, 64)]"
      ]
     },
     "execution_count": 183,
     "metadata": {},
     "output_type": "execute_result"
    }
   ],
   "source": [
    "decoder_lstm.output_shape\n"
   ]
  },
  {
   "cell_type": "code",
   "execution_count": 184,
   "id": "29e81454-7b06-4237-ba2c-2cce45df9587",
   "metadata": {
    "tags": []
   },
   "outputs": [],
   "source": [
    "# Define the model\n",
    "model1 = Model([encoder_inputs, decoder_inputs], decoder_outputs_final)"
   ]
  },
  {
   "cell_type": "code",
   "execution_count": 185,
   "id": "e2b16487-c92a-4827-b353-f1160ce0fac5",
   "metadata": {
    "tags": []
   },
   "outputs": [
    {
     "name": "stdout",
     "output_type": "stream",
     "text": [
      "Model: \"model_22\"\n",
      "__________________________________________________________________________________________________\n",
      " Layer (type)                Output Shape                 Param #   Connected to                  \n",
      "==================================================================================================\n",
      " spanish_input (InputLayer)  [(None, None)]               0         []                            \n",
      "                                                                                                  \n",
      " english_teacher (InputLaye  [(None, None)]               0         []                            \n",
      " r)                                                                                               \n",
      "                                                                                                  \n",
      " sp_embedding (Embedding)    (None, None, 100)            80800     ['spanish_input[0][0]']       \n",
      "                                                                                                  \n",
      " english_embedding (Embeddi  (None, None, 100)            37400     ['english_teacher[0][0]']     \n",
      " ng)                                                                                              \n",
      "                                                                                                  \n",
      " lstm_23 (LSTM)              [(None, 64),                 42240     ['sp_embedding[0][0]']        \n",
      "                              (None, 64),                                                         \n",
      "                              (None, 64)]                                                         \n",
      "                                                                                                  \n",
      " lstm_24 (LSTM)              [(None, None, 64),           42240     ['english_embedding[0][0]',   \n",
      "                              (None, 64),                            'lstm_23[0][1]',             \n",
      "                              (None, 64)]                            'lstm_23[0][2]']             \n",
      "                                                                                                  \n",
      " dense_11 (Dense)            (None, None, 374)            24310     ['lstm_24[0][0]']             \n",
      "                                                                                                  \n",
      "==================================================================================================\n",
      "Total params: 226990 (886.68 KB)\n",
      "Trainable params: 226990 (886.68 KB)\n",
      "Non-trainable params: 0 (0.00 Byte)\n",
      "__________________________________________________________________________________________________\n"
     ]
    }
   ],
   "source": [
    "model1.summary()"
   ]
  },
  {
   "cell_type": "code",
   "execution_count": 186,
   "id": "e45c5fba",
   "metadata": {},
   "outputs": [],
   "source": [
    "import unicodedata\n",
    "import re\n",
    "import numpy as np\n",
    "import pandas as pd\n",
    "import os\n",
    "import io\n",
    "import time\n",
    "\n",
    "import tensorflow as tf\n",
    "\n",
    "from tensorflow.keras.models import Model\n",
    "from tensorflow.keras import optimizers\n",
    "from tensorflow.keras import layers\n",
    "from tensorflow.keras.callbacks import EarlyStopping\n",
    "from tensorflow.keras.utils import plot_model\n",
    "\n",
    "import matplotlib.pyplot as plt\n",
    "import matplotlib.ticker as ticker"
   ]
  },
  {
   "cell_type": "code",
   "execution_count": 187,
   "id": "44149039-a504-4817-81c1-b922db5f786c",
   "metadata": {
    "tags": []
   },
   "outputs": [],
   "source": [
    "model1.compile(loss='sparse_categorical_crossentropy', optimizer='rmsprop', metrics=['accuracy'])\n"
   ]
  },
  {
   "cell_type": "code",
   "execution_count": 188,
   "id": "38224a72",
   "metadata": {},
   "outputs": [
    {
     "data": {
      "image/png": "[encoded data removed]",
      "text/plain": [
       "<IPython.core.display.Image object>"
      ]
     },
     "execution_count": 188,
     "metadata": {},
     "output_type": "execute_result"
    }
   ],
   "source": [
    "from tensorflow.keras.utils import plot_model\n",
    "\n",
    "plot_model(model1, to_file='model_plot.png', show_shapes=True, show_layer_names=True)"
   ]
  },
  {
   "cell_type": "code",
   "execution_count": 190,
   "id": "846af045",
   "metadata": {},
   "outputs": [],
   "source": [
    "spanish_embedded_data = spanish_vectorizer(y_processed_array)\n"
   ]
  },
  {
   "cell_type": "code",
   "execution_count": 191,
   "id": "4ff96a94-7e7a-410b-a1dc-9ef3bd14ebe6",
   "metadata": {
    "tags": []
   },
   "outputs": [
    {
     "data": {
      "text/plain": [
       "(1000, 7)"
      ]
     },
     "execution_count": 191,
     "metadata": {},
     "output_type": "execute_result"
    }
   ],
   "source": [
    "# Prepare training data with teacher forcing\n",
    "# decoder_input_data is a 2D array of shape (None, None) containing a tokenization of the English sentences.\n",
    "# decoder_target_data is the same as decoder_input_data but offset by one timestep. decoder_target_data[:, t] will be the same as decoder_input_data[:, t-1].\n",
    "\n",
    "english_teacher_enc = english_vectorizer(X_processed_array) #.numpy() # Teacher\n",
    "english_target_enc = np.zeros_like(english_teacher_enc)\n",
    "english_target_enc[:,:-1] = english_teacher_enc[:,1:] # To predict\n",
    "english_target_enc.shape"
   ]
  },
  {
   "cell_type": "code",
   "execution_count": 201,
   "id": "6d6d0e71-4fcb-4eae-8ffb-1ad7b713e695",
   "metadata": {},
   "outputs": [],
   "source": [
    "# english_teacher_enc"
   ]
  },
  {
   "cell_type": "code",
   "execution_count": 192,
   "id": "62a576e5-b341-424c-b0b9-7ef5632515d2",
   "metadata": {
    "tags": []
   },
   "outputs": [
    {
     "name": "stdout",
     "output_type": "stream",
     "text": [
      "Epoch 1/10\n",
      "29/29 [==============================] - 5s 50ms/step - loss: 4.7337 - accuracy: 0.3787 - val_loss: 3.1476 - val_accuracy: 0.3657\n",
      "Epoch 2/10\n",
      "29/29 [==============================] - 0s 12ms/step - loss: 2.6254 - accuracy: 0.4086 - val_loss: 2.7733 - val_accuracy: 0.4129\n",
      "Epoch 3/10\n",
      "29/29 [==============================] - 0s 13ms/step - loss: 2.3504 - accuracy: 0.4762 - val_loss: 2.6397 - val_accuracy: 0.3757\n",
      "Epoch 4/10\n",
      "29/29 [==============================] - 0s 13ms/step - loss: 2.1836 - accuracy: 0.5646 - val_loss: 2.4750 - val_accuracy: 0.5714\n",
      "Epoch 5/10\n",
      "29/29 [==============================] - 0s 13ms/step - loss: 2.0449 - accuracy: 0.6437 - val_loss: 2.3722 - val_accuracy: 0.6214\n",
      "Epoch 6/10\n",
      "29/29 [==============================] - 0s 13ms/step - loss: 1.9302 - accuracy: 0.6825 - val_loss: 2.3445 - val_accuracy: 0.5586\n",
      "Epoch 7/10\n",
      "29/29 [==============================] - 0s 12ms/step - loss: 1.8313 - accuracy: 0.6944 - val_loss: 2.2250 - val_accuracy: 0.6243\n",
      "Epoch 8/10\n",
      "29/29 [==============================] - 0s 12ms/step - loss: 1.7460 - accuracy: 0.6967 - val_loss: 2.1920 - val_accuracy: 0.6300\n",
      "Epoch 9/10\n",
      "29/29 [==============================] - 0s 11ms/step - loss: 1.6802 - accuracy: 0.6971 - val_loss: 2.1469 - val_accuracy: 0.6300\n",
      "Epoch 10/10\n",
      "29/29 [==============================] - 0s 12ms/step - loss: 1.6257 - accuracy: 0.7016 - val_loss: 2.1153 - val_accuracy: 0.6300\n"
     ]
    }
   ],
   "source": [
    "# Configure the model and start training\n",
    "# Stop training with early stopping with patience of 20\n",
    "callbacks_list = [EarlyStopping(monitor='loss', mode='min', min_delta=0.000001,\n",
    "                                patience=3, restore_best_weights=True, verbose=1,\n",
    "                                )]\n",
    "\n",
    "\n",
    "# history = model1.fit([y_processed_array, english_teacher_enc], english_target_enc,\n",
    "#                     validation_split=0.1,\n",
    "#                     epochs=5, batch_size=BATCH_SIZE,\n",
    "#                     callbacks=callbacks_list,\n",
    "#                     verbose=1)\n",
    "\n",
    "\n",
    "\n",
    "history = model1.fit([spanish_embedded_data, english_teacher_enc], english_target_enc,\n",
    "                    validation_split=0.1,\n",
    "                    epochs=10, batch_size=BATCH_SIZE,\n",
    "                    callbacks=callbacks_list,\n",
    "                    verbose=1)\n"
   ]
  },
  {
   "cell_type": "code",
   "execution_count": 193,
   "id": "3f06c77d-6189-4c5b-bbaf-eaee6f02ff3e",
   "metadata": {},
   "outputs": [
    {
     "data": {
      "image/png": "[encoded data removed]",
      "text/plain": [
       "<Figure size 2000x600 with 2 Axes>"
      ]
     },
     "metadata": {},
     "output_type": "display_data"
    }
   ],
   "source": [
    "import matplotlib.pyplot as plt\n",
    "\n",
    "plt.figure(figsize=(20, 6))\n",
    "# Plot the first subplot  loss)\n",
    "plt.subplot(1, 2, 1)  # 1 row, 2 columns, first subplot\n",
    "plt.plot(history.history[\"loss\"])\n",
    "plt.plot(history.history[\"val_loss\"])\n",
    "plt.title(\"validation loss & training loss\")\n",
    "plt.xlabel(\"epochs\")\n",
    "plt.ylabel(\"loss\")\n",
    "leg = plt.legend([\"training loss\", \"validation loss\"],loc =\"upper right\"); \n",
    "\n",
    "# Plot the second subplot ( accuracy)\n",
    "plt.subplot(1, 2, 2)  # 1 row, 2 columns, second subplot\n",
    "plt.plot(history.history[\"accuracy\"])\n",
    "plt.plot(history.history[\"val_accuracy\"])\n",
    "plt.title(\"validation accuracy & training loaccuracyss\")\n",
    "plt.xlabel(\"epochs\")\n",
    "plt.ylabel(\"accuracy\")\n",
    "leg = plt.legend([\"training accuracy\", \"validation accuracy\"],loc =\"upper left\"); \n",
    "\n",
    "plt.show()\n"
   ]
  },
  {
   "cell_type": "code",
   "execution_count": 232,
   "id": "0d8c1426",
   "metadata": {},
   "outputs": [
    {
     "name": "stdout",
     "output_type": "stream",
     "text": [
      "32/32 [==============================] - 0s 4ms/step\n"
     ]
    }
   ],
   "source": [
    "# y_pred=model1.predict([spanish_embedded_data, english_teacher_enc])"
   ]
  },
  {
   "cell_type": "code",
   "execution_count": 261,
   "id": "dc4ea165",
   "metadata": {},
   "outputs": [
    {
     "data": {
      "text/plain": [
       "(1000, 7, 374)"
      ]
     },
     "execution_count": 261,
     "metadata": {},
     "output_type": "execute_result"
    }
   ],
   "source": [
    "# y_pred.shape"
   ]
  },
  {
   "cell_type": "code",
   "execution_count": null,
   "id": "6d48b1b1",
   "metadata": {},
   "outputs": [],
   "source": []
  },
  {
   "cell_type": "code",
   "execution_count": null,
   "id": "23b29fad",
   "metadata": {},
   "outputs": [],
   "source": []
  },
  {
   "cell_type": "code",
   "execution_count": null,
   "id": "27c33f17",
   "metadata": {},
   "outputs": [],
   "source": []
  },
  {
   "cell_type": "code",
   "execution_count": 262,
   "id": "a42d8fc1",
   "metadata": {},
   "outputs": [],
   "source": [
    "from keras.models import Model\n",
    "from keras.layers import Input, LSTM, Dense\n",
    "\n",
    "# Define an input sequence and process it.\n",
    "encoder_inputs = Input(shape=(None,))\n",
    "layer_embedding = layers.Embedding(vocab_size_spanish, embedding_dim)\n",
    "embedding_layer_final = layer_embedding(encoder_inputs)\n",
    "\n",
    "encoder = LSTM(latent_dim, return_state=True)\n",
    "encoder_outputs, state_h, state_c = encoder(embedding_layer_final)\n",
    "# We discard `encoder_outputs` and only keep the states.\n",
    "encoder_states = [state_h, state_c]\n",
    "\n",
    "# Set up the decoder, using `encoder_states` as initial state.\n",
    "decoder_inputs = Input(shape=(None,))\n",
    "# We set up our decoder to return full output sequences,\n",
    "# and to return internal states as well. We don't use the \n",
    "# return states in the training model, but we will use them in inference.\n",
    "\n",
    "layer_embedding_decoder = layers.Embedding(vocab_size_english, embedding_dim)\n",
    "x =layer_embedding_decoder(decoder_inputs)\n",
    "\n",
    "decoder_lstm = LSTM(latent_dim, return_sequences=True, return_state=True)\n",
    "decoder_outputs, _, _ = decoder_lstm(x,\n",
    "                                     initial_state=encoder_states)\n",
    "decoder_dense = Dense(vocab_size_english, activation='softmax')\n",
    "decoder_outputs = decoder_dense(decoder_outputs)\n",
    "\n",
    "# Define the model that will turn\n",
    "# `encoder_input_data` & `decoder_input_data` into `decoder_target_data`\n",
    "model_encoder_training = Model([encoder_inputs, decoder_inputs], decoder_outputs, name=\"model_encoder_training\")"
   ]
  },
  {
   "cell_type": "code",
   "execution_count": 263,
   "id": "46f7cde9",
   "metadata": {},
   "outputs": [
    {
     "data": {
      "text/plain": [
       "<KerasTensor: shape=(None, None, 100) dtype=float32 (created by layer 'embedding_16')>"
      ]
     },
     "execution_count": 263,
     "metadata": {},
     "output_type": "execute_result"
    }
   ],
   "source": [
    "x"
   ]
  },
  {
   "cell_type": "code",
   "execution_count": 279,
   "id": "0085c31e",
   "metadata": {},
   "outputs": [
    {
     "name": "stdout",
     "output_type": "stream",
     "text": [
      "Model: \"model_encoder_training\"\n",
      "__________________________________________________________________________________________________\n",
      " Layer (type)                Output Shape                 Param #   Connected to                  \n",
      "==================================================================================================\n",
      " input_55 (InputLayer)       [(None, None)]               0         []                            \n",
      "                                                                                                  \n",
      " input_56 (InputLayer)       [(None, None)]               0         []                            \n",
      "                                                                                                  \n",
      " embedding_15 (Embedding)    (None, None, 100)            80800     ['input_55[0][0]']            \n",
      "                                                                                                  \n",
      " embedding_16 (Embedding)    (None, None, 100)            37400     ['input_56[0][0]']            \n",
      "                                                                                                  \n",
      " lstm_25 (LSTM)              [(None, 64),                 42240     ['embedding_15[0][0]']        \n",
      "                              (None, 64),                                                         \n",
      "                              (None, 64)]                                                         \n",
      "                                                                                                  \n",
      " lstm_26 (LSTM)              [(None, None, 64),           42240     ['embedding_16[0][0]',        \n",
      "                              (None, 64),                            'lstm_25[0][1]',             \n",
      "                              (None, 64)]                            'lstm_25[0][2]']             \n",
      "                                                                                                  \n",
      " dense_16 (Dense)            (None, None, 374)            24310     ['lstm_26[0][0]']             \n",
      "                                                                                                  \n",
      "==================================================================================================\n",
      "Total params: 226990 (886.68 KB)\n",
      "Trainable params: 226990 (886.68 KB)\n",
      "Non-trainable params: 0 (0.00 Byte)\n",
      "__________________________________________________________________________________________________\n"
     ]
    }
   ],
   "source": [
    "model_encoder_training.summary()"
   ]
  },
  {
   "cell_type": "code",
   "execution_count": 280,
   "id": "4d75d990",
   "metadata": {},
   "outputs": [
    {
     "data": {
      "image/png": "[encoded data removed]",
      "text/plain": [
       "<IPython.core.display.Image object>"
      ]
     },
     "execution_count": 280,
     "metadata": {},
     "output_type": "execute_result"
    }
   ],
   "source": [
    "from tensorflow.keras.utils import plot_model\n",
    "\n",
    "plot_model(model_encoder_training, to_file='model_plot2.png', show_shapes=True, show_layer_names=True)"
   ]
  },
  {
   "cell_type": "code",
   "execution_count": 281,
   "id": "40bf40dc",
   "metadata": {},
   "outputs": [],
   "source": [
    "# Run training\n",
    "# model.compile(optimizer='rmsprop', loss='categorical_crossentropy')\n",
    "\n",
    "\n",
    "model_encoder_training.compile(loss='sparse_categorical_crossentropy', optimizer='rmsprop', metrics=['accuracy'])\n",
    "\n"
   ]
  },
  {
   "cell_type": "code",
   "execution_count": 282,
   "id": "72bae073",
   "metadata": {},
   "outputs": [],
   "source": [
    "# spanish_embedded_data_test = spanish_vectorizer(y_test)\n",
    "# english_teacher_enc_test = english_vectorizer(X_test)"
   ]
  },
  {
   "cell_type": "code",
   "execution_count": null,
   "id": "6fe57a13",
   "metadata": {},
   "outputs": [],
   "source": []
  },
  {
   "cell_type": "code",
   "execution_count": 285,
   "id": "d1406a70",
   "metadata": {},
   "outputs": [
    {
     "name": "stdout",
     "output_type": "stream",
     "text": [
      "Epoch 1/5\n",
      "29/29 [==============================] - 5s 46ms/step - loss: 4.6379 - accuracy: 0.3852 - val_loss: 3.0967 - val_accuracy: 0.3657\n",
      "Epoch 2/5\n",
      "29/29 [==============================] - 0s 14ms/step - loss: 2.6404 - accuracy: 0.3986 - val_loss: 2.7429 - val_accuracy: 0.3771\n",
      "Epoch 3/5\n",
      "29/29 [==============================] - 0s 13ms/step - loss: 2.3416 - accuracy: 0.4825 - val_loss: 2.5794 - val_accuracy: 0.4343\n",
      "Epoch 4/5\n",
      "29/29 [==============================] - 0s 14ms/step - loss: 2.1592 - accuracy: 0.5713 - val_loss: 2.4999 - val_accuracy: 0.6129\n",
      "Epoch 5/5\n",
      "29/29 [==============================] - 0s 14ms/step - loss: 2.0326 - accuracy: 0.6362 - val_loss: 2.3601 - val_accuracy: 0.5700\n"
     ]
    }
   ],
   "source": [
    "# Configure the model and start training\n",
    "# Stop training with early stopping with patience of 20\n",
    "callbacks_list = [EarlyStopping(monitor='loss', mode='min', min_delta=0.000001,\n",
    "                                patience=3, restore_best_weights=True, verbose=1,\n",
    "                                )]\n",
    "\n",
    "\n",
    "# history = model1.fit([y_processed_array, english_teacher_enc], english_target_enc,\n",
    "#                     validation_split=0.1,\n",
    "#                     epochs=5, batch_size=BATCH_SIZE,\n",
    "#                     callbacks=callbacks_list,\n",
    "#                     verbose=1)\n",
    "\n",
    "\n",
    "\n",
    "history = model_encoder_training.fit([spanish_embedded_data, english_teacher_enc], english_target_enc,\n",
    "                    validation_split=0.1,\n",
    "                    epochs=5, batch_size=BATCH_SIZE,\n",
    "                    callbacks=callbacks_list,\n",
    "                    verbose=1)"
   ]
  },
  {
   "cell_type": "code",
   "execution_count": null,
   "id": "8c251a16",
   "metadata": {},
   "outputs": [],
   "source": []
  },
  {
   "cell_type": "markdown",
   "id": "b463b4cc-9ebe-4c39-a893-f7ff5902e652",
   "metadata": {
    "tags": []
   },
   "source": [
    "## Inference"
   ]
  },
  {
   "cell_type": "code",
   "execution_count": null,
   "id": "38bb3302",
   "metadata": {},
   "outputs": [],
   "source": []
  },
  {
   "cell_type": "code",
   "execution_count": null,
   "id": "1cb2214f",
   "metadata": {},
   "outputs": [],
   "source": [
    "encoder_model = Model(encoder_inputs, encoder_states)\n",
    "\n",
    "decoder_state_input_h = Input(shape=(latent_dim,))\n",
    "decoder_state_input_c = Input(shape=(latent_dim,))\n",
    "decoder_states_inputs = [decoder_state_input_h, decoder_state_input_c]\n",
    "\n",
    "layer_embedding_decoder_inf = layer_embedding_decoder(decoder_inputs)\n",
    "decoder_outputs, state_h, state_c = decoder_lstm(\n",
    "    layer_embedding_decoder_inf , initial_state=decoder_states_inputs)\n",
    "\n",
    "\n",
    "decoder_states = [state_h, state_c]\n",
    "decoder_outputs = decoder_dense(decoder_outputs)\n",
    "decoder_model = Model(\n",
    "    [decoder_inputs] + decoder_states_inputs,\n",
    "    [decoder_outputs] + decoder_states)"
   ]
  },
  {
   "cell_type": "code",
   "execution_count": null,
   "id": "efe83509",
   "metadata": {},
   "outputs": [],
   "source": [
    "# def decode_sequence(input_seq):\n",
    "#     # Encode the input as state vectors.\n",
    "#     states_value = encoder_model.predict(input_seq)\n",
    "#     # Iterate over decoded sentence. Target_seq is the input of the decoder\n",
    "#     target_seq = np.zeros((len(input_seq), 1))\n",
    "#     target_seq[:, 0] = word2token[\"<start>\"]\n",
    "#     print(target_seq.shape)\n",
    "#     output_sequence = [] # Output_sequence is the output of the decoder\n",
    "#     for _ in range(vocab_size_english):   # vocab_size_english = max_output_length\n",
    "#         output_value, h, c = decoder_model.predict( [target_seq] + states_value)\n",
    "#         # Update the target sequence (of length 1) and state\n",
    "#         target_seq[:, 0] = decode(output_value)\n",
    "#         states_value = [h, c]\n",
    "#         # extend output sequence\n",
    "#         output_sequence += [target_seq]\n",
    "#     return output_sequence # eventually format i"
   ]
  },
  {
   "cell_type": "code",
   "execution_count": null,
   "id": "3c653a37",
   "metadata": {},
   "outputs": [],
   "source": [
    "def decode_sequence(input_seq):\n",
    "    # Encode the input as state vectors.\n",
    "    states_value = encoder_model.predict(input_seq)\n",
    "    \n",
    "    # Initialize target sequence\n",
    "    target_seq = np.zeros((input_seq.shape[0], 1))  # Assuming input_seq is a NumPy array\n",
    "    \n",
    "    # Initialize output sequence\n",
    "    output_sequence = []\n",
    "    \n",
    "    for _ in range(vocab_size_english):  # Assuming max_output_length is defined somewhere\n",
    "        output_value, h, c = decoder_model.predict([target_seq] + states_value)\n",
    "        \n",
    "        # Update the target sequence\n",
    "        sampled_token_index = np.argmax(output_value, axis=-1)\n",
    "        target_seq = sampled_token_index.reshape(-1, 1)\n",
    "        \n",
    "        # Update states\n",
    "        states_value = [h, c]\n",
    "        \n",
    "        # Append the predicted token to the output sequence\n",
    "        output_sequence.append(sampled_token_index)\n",
    "        \n",
    "    return np.array(output_sequence)  # Convert the output sequence to a NumPy array\n",
    "\n",
    "\n"
   ]
  },
  {
   "cell_type": "code",
   "execution_count": null,
   "id": "6df61f65-c5c9-413f-aa00-33d03b81b46e",
   "metadata": {},
   "outputs": [],
   "source": [
    "# spanish_embedded_data is input sequence\n",
    "decoded_sequence = decode_sequence(spanish_embedded_data)"
   ]
  },
  {
   "cell_type": "code",
   "execution_count": null,
   "id": "8d00b1d3-673e-4ba5-b890-4a4854a9b5a8",
   "metadata": {},
   "outputs": [],
   "source": [
    "decoded_sequence.shape"
   ]
  },
  {
   "cell_type": "code",
   "execution_count": null,
   "id": "c630810f",
   "metadata": {},
   "outputs": [],
   "source": []
  },
  {
   "cell_type": "code",
   "execution_count": null,
   "id": "85914617",
   "metadata": {},
   "outputs": [],
   "source": []
  },
  {
   "cell_type": "code",
   "execution_count": 100,
   "id": "6fc5d2a9-8863-4b51-97ce-262e333d7ad2",
   "metadata": {
    "tags": []
   },
   "outputs": [],
   "source": [
    "# from keras.models import Model\n",
    "# from keras.layers import Input, LSTM, Dense, Embedding\n",
    "\n",
    "# # Define input shape and parameters\n",
    "# # vocab_size_spanish = ...\n",
    "# BATCH_SIZE = 32\n",
    "# embedding_dim = 100\n",
    "# latent_dim = 64\n",
    "# dropout=0.2\n",
    "\n",
    "\n",
    "# # Encoder\n",
    "# encoder_inputs = Input(shape=(None,), dtype=tf.int32, name=\"spanish_input\")\n",
    "# encoder_embedding = Embedding(vocab_size_spanish, embedding_dim, name=\"sp_embedding\")(encoder_inputs)\n",
    "# encoder_lstm = LSTM(latent_dim, return_sequences=False, return_state=True, dropout=dropout, recurrent_dropout=dropout, name=\"encoder\")\n",
    "# _, enc_state_h, enc_state_c = encoder_lstm(encoder_embedding)\n",
    "# encoder_states = [enc_state_h, enc_state_c]\n",
    "\n",
    "# # Define encoder model\n",
    "# encoder_model = Model(encoder_inputs, encoder_states)\n",
    "\n",
    "# # Decoder\n",
    "# decoder_inputs = Input(shape=(None,), dtype=tf.int32, name=\"english_teacher\")\n",
    "# decoder_embedding = Embedding(vocab_size_english, embedding_dim, name=\"english_embedding\")(decoder_inputs)\n",
    "# decoder_lstm = LSTM(latent_dim, return_sequences=True, return_state=True, dropout=dropout, recurrent_dropout=dropout, name=\"decoder\")\n",
    "# decoder_outputs, _, _ = decoder_lstm(decoder_embedding, initial_state=encoder_states)\n",
    "# decoder_dense = Dense(vocab_size_english, activation='softmax')\n",
    "# decoder_outputs_final = decoder_dense(decoder_outputs)\n",
    "\n",
    "# # Define the model\n",
    "# model = Model([encoder_inputs, decoder_inputs], decoder_outputs_final)\n"
   ]
  },
  {
   "cell_type": "code",
   "execution_count": null,
   "id": "5eea2f2a-1366-499f-9098-349609c7aca4",
   "metadata": {},
   "outputs": [],
   "source": []
  },
  {
   "cell_type": "code",
   "execution_count": null,
   "id": "0cadc824-141b-459f-b71c-dc690ab243ae",
   "metadata": {},
   "outputs": [],
   "source": []
  },
  {
   "cell_type": "markdown",
   "id": "d6284782-bc67-4e3d-91f2-b07172f06b23",
   "metadata": {
    "tags": []
   },
   "source": [
    "# Sequence to Sequence Attention"
   ]
  },
  {
   "cell_type": "code",
   "execution_count": null,
   "id": "07370a6b-412f-46ae-b9e7-9e3b09abf6a2",
   "metadata": {},
   "outputs": [],
   "source": []
  },
  {
   "cell_type": "markdown",
   "id": "4f0a473c-6780-41f9-b6e6-5201fdf7e89d",
   "metadata": {},
   "source": [
    "<img  src=\"https://lena-voita.github.io/resources/lectures/seq2seq/attention/general_scheme-min.png\" />\n"
   ]
  },
  {
   "cell_type": "code",
   "execution_count": 223,
   "id": "a71aa2df-6697-48e0-aae1-2b418a128c94",
   "metadata": {
    "tags": []
   },
   "outputs": [],
   "source": [
    "from keras.models import Model\n",
    "from keras.layers import Input, LSTM, Dense\n",
    "import tensorflow as tf\n",
    "\n",
    "# Define an input sequence and process it.\n",
    "# encoder_inputs = Input(shape=(1,), dtype=tf.string, name=\"spanish_input\")\n",
    "encoder_inputs = Input(shape=(None,), name=\"spanish_input\")\n",
    "\n",
    "# encoder_vectorizer = spanish_vectorizer(encoder_inputs)\n",
    "\n",
    "# enc = layers.Embedding(vocab_size_spanish, embedding_dim, name=\"sp_embedding\")(encoder_vectorizer)\n",
    "\n",
    "layer_embedding = layers.Embedding(vocab_size_spanish, embedding_dim)\n",
    "embedding_layer_final = layer_embedding(encoder_inputs)\n",
    "\n",
    "enc_state_ouput, enc_state_h, enc_state_c = LSTM(latent_dim,  return_sequences=True, return_state=True,\n",
    "                                   dropout=dropout, recurrent_dropout=dropout, name=\"encoder\")(embedding_layer_final)\n",
    "# We discard `encoder_outputs` and only keep the states.\n",
    "encoder_states = [enc_state_h, enc_state_c]\n",
    "\n",
    "\n",
    "\n",
    "\n",
    "\n",
    "decoder_inputs = Input(shape=(None,), name=\"english_teacher\")\n",
    "# decoder_inputs = Input(shape=(None,), dtype=tf.int32, name=\"english_teacher\")\n",
    "x = layers.Embedding(vocab_size_english, embedding_dim, name=\"english_embedding\")(decoder_inputs)\n",
    "\n",
    "\n",
    "\n",
    "# Adding the Attention mechanism\n",
    "\n",
    "decoder_lstm = layers.LSTM(latent_dim, return_sequences=True, return_state=True,\n",
    "                           dropout=dropout, recurrent_dropout=dropout, name=\"Decoder\")\n",
    "decoder_outputs,decoder_state_h, decoder_state_c = decoder_lstm(x, initial_state=encoder_states)\n",
    "\n",
    "attention = tf.keras.layers.Attention()([decoder_outputs, enc_state_ouput])  # Using the decoder input and encoder output for attention\n",
    "decoder_combined_context = layers.concatenate([attention, decoder_outputs], name=\"Luong_Attention\")\n",
    "\n",
    "decoder_dense = layers.Dense(vocab_size_english, activation='softmax')\n",
    "decoder_outputs_final = decoder_dense(attention)\n",
    "\n",
    "# Define the model\n",
    "model2 = Model([encoder_inputs, decoder_inputs], decoder_outputs_final)\n"
   ]
  },
  {
   "cell_type": "code",
   "execution_count": 224,
   "id": "939945b5-606c-4b2f-acd9-258303ef159d",
   "metadata": {
    "tags": []
   },
   "outputs": [
    {
     "data": {
      "text/plain": [
       "<KerasTensor: shape=(None, None, 100) dtype=float32 (created by layer 'english_embedding')>"
      ]
     },
     "execution_count": 224,
     "metadata": {},
     "output_type": "execute_result"
    }
   ],
   "source": [
    "x"
   ]
  },
  {
   "cell_type": "code",
   "execution_count": 225,
   "id": "038329b9-3d1c-4ec2-bbe1-6aa2192c79c4",
   "metadata": {
    "tags": []
   },
   "outputs": [
    {
     "name": "stdout",
     "output_type": "stream",
     "text": [
      "Model: \"model_26\"\n",
      "__________________________________________________________________________________________________\n",
      " Layer (type)                Output Shape                 Param #   Connected to                  \n",
      "==================================================================================================\n",
      " spanish_input (InputLayer)  [(None, None)]               0         []                            \n",
      "                                                                                                  \n",
      " english_teacher (InputLaye  [(None, None)]               0         []                            \n",
      " r)                                                                                               \n",
      "                                                                                                  \n",
      " embedding_14 (Embedding)    (None, None, 100)            80800     ['spanish_input[0][0]']       \n",
      "                                                                                                  \n",
      " english_embedding (Embeddi  (None, None, 100)            37400     ['english_teacher[0][0]']     \n",
      " ng)                                                                                              \n",
      "                                                                                                  \n",
      " encoder (LSTM)              [(None, None, 64),           42240     ['embedding_14[0][0]']        \n",
      "                              (None, 64),                                                         \n",
      "                              (None, 64)]                                                         \n",
      "                                                                                                  \n",
      " Decoder (LSTM)              [(None, None, 64),           42240     ['english_embedding[0][0]',   \n",
      "                              (None, 64),                            'encoder[0][1]',             \n",
      "                              (None, 64)]                            'encoder[0][2]']             \n",
      "                                                                                                  \n",
      " attention_3 (Attention)     (None, None, 64)             0         ['Decoder[0][0]',             \n",
      "                                                                     'encoder[0][0]']             \n",
      "                                                                                                  \n",
      " dense_15 (Dense)            (None, None, 374)            24310     ['attention_3[0][0]']         \n",
      "                                                                                                  \n",
      "==================================================================================================\n",
      "Total params: 226990 (886.68 KB)\n",
      "Trainable params: 226990 (886.68 KB)\n",
      "Non-trainable params: 0 (0.00 Byte)\n",
      "__________________________________________________________________________________________________\n"
     ]
    }
   ],
   "source": [
    "model2.summary()"
   ]
  },
  {
   "cell_type": "code",
   "execution_count": 226,
   "id": "f89266a5-8e81-44d2-a13d-84f86d820633",
   "metadata": {
    "tags": []
   },
   "outputs": [],
   "source": [
    "model2.compile(loss='sparse_categorical_crossentropy', optimizer='rmsprop', metrics=['accuracy'])\n"
   ]
  },
  {
   "cell_type": "code",
   "execution_count": 227,
   "id": "9fc254b8-57af-493c-a994-db2c1cdfbe8a",
   "metadata": {
    "tags": []
   },
   "outputs": [
    {
     "data": {
      "text/plain": [
       "(1000, 7)"
      ]
     },
     "execution_count": 227,
     "metadata": {},
     "output_type": "execute_result"
    }
   ],
   "source": [
    "# Prepare training data with teacher forcing\n",
    "# decoder_input_data is a 2D array of shape (None, None) containing a tokenization of the English sentences.\n",
    "# decoder_target_data is the same as decoder_input_data but offset by one timestep. decoder_target_data[:, t] will be the same as decoder_input_data[:, t-1].\n",
    "\n",
    "english_teacher_enc = english_vectorizer(X_processed_array) #.numpy() # Teacher\n",
    "english_target_enc = np.zeros_like(english_teacher_enc)\n",
    "english_target_enc[:,:-1] = english_teacher_enc[:,1:] # To predict\n",
    "english_target_enc.shape"
   ]
  },
  {
   "cell_type": "code",
   "execution_count": 228,
   "id": "17bdd726-e341-44dc-a978-8f54fb6c3c48",
   "metadata": {
    "tags": []
   },
   "outputs": [
    {
     "name": "stdout",
     "output_type": "stream",
     "text": [
      "Epoch 1/10\n",
      "29/29 [==============================] - 7s 38ms/step - loss: 5.0237 - accuracy: 0.3832 - val_loss: 3.3472 - val_accuracy: 0.3657\n",
      "Epoch 2/10\n",
      "29/29 [==============================] - 0s 16ms/step - loss: 2.9544 - accuracy: 0.3979 - val_loss: 3.2244 - val_accuracy: 0.3657\n",
      "Epoch 3/10\n",
      "29/29 [==============================] - 1s 18ms/step - loss: 2.8953 - accuracy: 0.3979 - val_loss: 3.2634 - val_accuracy: 0.3657\n",
      "Epoch 4/10\n",
      "29/29 [==============================] - 1s 19ms/step - loss: 2.8882 - accuracy: 0.3979 - val_loss: 3.2946 - val_accuracy: 0.3657\n",
      "Epoch 5/10\n",
      "29/29 [==============================] - 0s 17ms/step - loss: 2.8843 - accuracy: 0.3979 - val_loss: 3.2810 - val_accuracy: 0.3657\n",
      "Epoch 6/10\n",
      "29/29 [==============================] - 0s 17ms/step - loss: 2.8818 - accuracy: 0.3979 - val_loss: 3.2904 - val_accuracy: 0.3657\n",
      "Epoch 7/10\n",
      "29/29 [==============================] - 0s 17ms/step - loss: 2.8800 - accuracy: 0.3979 - val_loss: 3.3152 - val_accuracy: 0.3657\n",
      "Epoch 8/10\n",
      "29/29 [==============================] - 0s 16ms/step - loss: 2.8793 - accuracy: 0.3979 - val_loss: 3.3096 - val_accuracy: 0.3657\n",
      "Epoch 9/10\n",
      "29/29 [==============================] - 0s 16ms/step - loss: 2.8790 - accuracy: 0.3979 - val_loss: 3.3191 - val_accuracy: 0.3657\n",
      "Epoch 10/10\n",
      "29/29 [==============================] - 0s 16ms/step - loss: 2.8781 - accuracy: 0.3979 - val_loss: 3.2982 - val_accuracy: 0.3657\n"
     ]
    }
   ],
   "source": [
    "# Configure the model and start training\n",
    "# Stop training with early stopping with patience of 20\n",
    "callbacks_list = [EarlyStopping(monitor='loss', mode='min', min_delta=0.000001,\n",
    "                                patience=5, restore_best_weights=True, verbose=1,\n",
    "                                )]\n",
    "\n",
    "\n",
    "# history = model2.fit([y_processed_array, english_teacher_enc], english_target_enc,\n",
    "#                     validation_split=0.1,\n",
    "#                     epochs=10, batch_size=BATCH_SIZE,\n",
    "#                     callbacks=callbacks_list,\n",
    "#                     verbose=1)\n",
    "\n",
    "\n",
    "\n",
    "\n",
    "history = model2.fit([spanish_embedded_data, english_teacher_enc], english_target_enc,\n",
    "                    validation_split=0.1,\n",
    "                    epochs=10, batch_size=BATCH_SIZE,\n",
    "                    callbacks=callbacks_list,\n",
    "                    verbose=1)\n"
   ]
  },
  {
   "cell_type": "code",
   "execution_count": 229,
   "id": "d96e0bc2-c185-4fa5-84f4-c1bc29555f8d",
   "metadata": {
    "tags": []
   },
   "outputs": [
    {
     "data": {
      "image/png": "[encoded data removed]",
      "text/plain": [
       "<Figure size 2000x600 with 2 Axes>"
      ]
     },
     "metadata": {},
     "output_type": "display_data"
    }
   ],
   "source": [
    "import matplotlib.pyplot as plt\n",
    "\n",
    "plt.figure(figsize=(20, 6))\n",
    "# Plot the first subplot  loss)\n",
    "plt.subplot(1, 2, 1)  # 1 row, 2 columns, first subplot\n",
    "plt.plot(history.history[\"loss\"])\n",
    "plt.plot(history.history[\"val_loss\"])\n",
    "plt.title(\"validation loss & training loss\")\n",
    "plt.xlabel(\"epochs\")\n",
    "plt.ylabel(\"loss\")\n",
    "leg = plt.legend([\"training loss\", \"validation loss\"],loc =\"upper right\"); \n",
    "\n",
    "# Plot the second subplot ( accuracy)\n",
    "plt.subplot(1, 2, 2)  # 1 row, 2 columns, second subplot\n",
    "plt.plot(history.history[\"accuracy\"])\n",
    "plt.plot(history.history[\"val_accuracy\"])\n",
    "plt.title(\"validation accuracy & training loaccuracyss\")\n",
    "plt.xlabel(\"epochs\")\n",
    "plt.ylabel(\"accuracy\")\n",
    "leg = plt.legend([\"training accuracy\", \"validation accuracy\"],loc =\"upper left\"); \n",
    "\n",
    "plt.show()\n"
   ]
  },
  {
   "cell_type": "code",
   "execution_count": 307,
   "id": "db575092-484b-40cf-9dd3-1958366480c5",
   "metadata": {},
   "outputs": [],
   "source": [
    "# y_pred=model2.predict([spanish_embedded_data, english_teacher_enc])"
   ]
  },
  {
   "cell_type": "code",
   "execution_count": 306,
   "id": "139a7ebd-50bd-43b3-a70e-5266acaf9d84",
   "metadata": {},
   "outputs": [],
   "source": [
    "# y_pred.shape"
   ]
  },
  {
   "cell_type": "code",
   "execution_count": null,
   "id": "e925190d-5389-48f8-b9dc-317874507654",
   "metadata": {},
   "outputs": [],
   "source": []
  },
  {
   "cell_type": "code",
   "execution_count": null,
   "id": "33d544b2-017f-43c2-842d-9d53c68007f4",
   "metadata": {},
   "outputs": [],
   "source": []
  },
  {
   "cell_type": "code",
   "execution_count": 32,
   "id": "d4e6479d-a73d-4ce4-84bd-d904dbff55bc",
   "metadata": {
    "tags": []
   },
   "outputs": [],
   "source": [
    "from keras.models import Model\n",
    "from keras.layers import Input, LSTM, Dense\n",
    "\n",
    "# Define an input sequence and process it.\n",
    "# encoder_inputs = Input(shape=(None, num_encoder_tokens))\n",
    "A_encoder_inputs = Input(shape=(1,),dtype=tf.string, name=\"spanish_input\")\n",
    "A_encoder_vectorizer = spanish_vectorizer(A_encoder_inputs)\n",
    "\n",
    "A_enc = layers.Embedding(vocab_size_spanish, embedding_dim, name=\"sp_embedding\")(A_encoder_vectorizer)\n",
    "encoder_outputs, A_enc_state_h, A_enc_state_c = LSTM(latent_dim,  return_sequences=True,return_state=True,\n",
    "                                   dropout=dropout, recurrent_dropout=dropout, name=\"encoder\")(A_enc)\n",
    "# We discard `encoder_outputs` and only keep the states.\n",
    "A_encoder_states = [A_enc_state_h, A_enc_state_c]\n",
    "\n"
   ]
  },
  {
   "cell_type": "code",
   "execution_count": 33,
   "id": "4d26239c-addd-4305-83e8-75d3fd554c5f",
   "metadata": {
    "tags": []
   },
   "outputs": [],
   "source": [
    "decoder_inputs = Input(shape=(None,), dtype=tf.int32, name=\"english_teacher\")\n",
    "x = layers.Embedding(vocab_size_english, embedding_dim\n",
    "                     ,name=\"english_embedding\")(decoder_inputs)\n",
    "decoder_lstm = layers.LSTM(latent_dim, return_sequences=True, return_state=True,\n",
    "                           dropout=dropout, recurrent_dropout=dropout, name=\"Decoder\")\n",
    "decoder_outputs, _, _ = decoder_lstm(x, initial_state=A_encoder_states)\n"
   ]
  },
  {
   "cell_type": "code",
   "execution_count": 34,
   "id": "1d56d463-34e8-4c23-bb0f-bffe9bb77a21",
   "metadata": {
    "tags": []
   },
   "outputs": [
    {
     "name": "stdout",
     "output_type": "stream",
     "text": [
      "dot\n"
     ]
    }
   ],
   "source": [
    "\"\"\" Attentional part \"\"\"\n",
    "attention = layers.dot([decoder_outputs, encoder_outputs], axes=[2,2], name=\"Attention_score\")"
   ]
  },
  {
   "cell_type": "code",
   "execution_count": 35,
   "id": "82dc226b-b37d-41c0-98f0-3c735c00e28c",
   "metadata": {
    "tags": []
   },
   "outputs": [
    {
     "name": "stdout",
     "output_type": "stream",
     "text": [
      "(None, None, 64)\n"
     ]
    }
   ],
   "source": [
    "\"\"\" Context vector \"\"\"\n",
    "context = layers.dot([attention, encoder_outputs], axes=[2,1], name=\"Attention_output\")\n",
    "print(context.shape)"
   ]
  },
  {
   "cell_type": "code",
   "execution_count": 36,
   "id": "23efd670-8f7e-4aed-ad50-e561465c35f0",
   "metadata": {
    "tags": []
   },
   "outputs": [
    {
     "name": "stdout",
     "output_type": "stream",
     "text": [
      "with attention\n",
      "(None, None, 128)\n"
     ]
    }
   ],
   "source": [
    "\"\"\" Combine attention with decoder ouput \"\"\"\n",
    "decoder_combined_context = layers.concatenate([context, decoder_outputs], name=\"Luong_Attention\")\n",
    "print(decoder_combined_context.shape)"
   ]
  },
  {
   "cell_type": "code",
   "execution_count": 37,
   "id": "a378bb66-2756-4257-96f5-951d64b329ad",
   "metadata": {
    "tags": []
   },
   "outputs": [
    {
     "name": "stdout",
     "output_type": "stream",
     "text": [
      "(None, None, 64)\n"
     ]
    }
   ],
   "source": [
    "\"\"\" Ouput of the model \"\"\"\n",
    "ouputs = layers.Dense(vocab_size_english, activation='softmax', name=\"Output\")(decoder_combined_context)\n",
    "print(decoder_outputs.shape)"
   ]
  },
  {
   "cell_type": "code",
   "execution_count": 38,
   "id": "d3a707f1-d7bb-4ce5-be34-3acd7456b659",
   "metadata": {
    "tags": []
   },
   "outputs": [],
   "source": [
    "model3 = Model([A_encoder_inputs, decoder_inputs], ouputs)"
   ]
  },
  {
   "cell_type": "code",
   "execution_count": 40,
   "id": "3d5e062f-0a6b-46ab-90f9-bb5ecd600609",
   "metadata": {
    "tags": []
   },
   "outputs": [
    {
     "name": "stdout",
     "output_type": "stream",
     "text": [
      "Model: \"model_2\"\n",
      "__________________________________________________________________________________________________\n",
      " Layer (type)                Output Shape                 Param #   Connected to                  \n",
      "==================================================================================================\n",
      " spanish_input (InputLayer)  [(None, 1)]                  0         []                            \n",
      "                                                                                                  \n",
      " Spanish_vect (TextVectoriz  (None, None)                 0         ['spanish_input[0][0]']       \n",
      " ation)                                                                                           \n",
      "                                                                                                  \n",
      " english_teacher (InputLaye  [(None, None)]               0         []                            \n",
      " r)                                                                                               \n",
      "                                                                                                  \n",
      " sp_embedding (Embedding)    (None, None, 100)            457600    ['Spanish_vect[2][0]']        \n",
      "                                                                                                  \n",
      " english_embedding (Embeddi  (None, None, 100)            220600    ['english_teacher[0][0]']     \n",
      " ng)                                                                                              \n",
      "                                                                                                  \n",
      " encoder (LSTM)              [(None, None, 64),           42240     ['sp_embedding[0][0]']        \n",
      "                              (None, 64),                                                         \n",
      "                              (None, 64)]                                                         \n",
      "                                                                                                  \n",
      " Decoder (LSTM)              [(None, None, 64),           42240     ['english_embedding[0][0]',   \n",
      "                              (None, 64),                            'encoder[0][1]',             \n",
      "                              (None, 64)]                            'encoder[0][2]']             \n",
      "                                                                                                  \n",
      " Attention_score (Dot)       (None, None, None)           0         ['Decoder[0][0]',             \n",
      "                                                                     'encoder[0][0]']             \n",
      "                                                                                                  \n",
      " Attention_output (Dot)      (None, None, 64)             0         ['Attention_score[0][0]',     \n",
      "                                                                     'encoder[0][0]']             \n",
      "                                                                                                  \n",
      " Luong_Attention (Concatena  (None, None, 128)            0         ['Attention_output[0][0]',    \n",
      " te)                                                                 'Decoder[0][0]']             \n",
      "                                                                                                  \n",
      " Output (Dense)              (None, None, 2206)           284574    ['Luong_Attention[0][0]']     \n",
      "                                                                                                  \n",
      "==================================================================================================\n",
      "Total params: 1047254 (3.99 MB)\n",
      "Trainable params: 1047254 (3.99 MB)\n",
      "Non-trainable params: 0 (0.00 Byte)\n",
      "__________________________________________________________________________________________________\n"
     ]
    }
   ],
   "source": [
    "model3.summary()"
   ]
  },
  {
   "cell_type": "code",
   "execution_count": 41,
   "id": "a2f654ad-b502-4f50-a17a-821ffda7df94",
   "metadata": {
    "tags": []
   },
   "outputs": [],
   "source": [
    "model3.compile(loss='sparse_categorical_crossentropy', optimizer='rmsprop', metrics=['accuracy'])\n"
   ]
  },
  {
   "cell_type": "code",
   "execution_count": 42,
   "id": "d9f81c8e-ac8d-4e58-bed2-09327700448d",
   "metadata": {
    "tags": []
   },
   "outputs": [
    {
     "data": {
      "text/plain": [
       "(10000, 8)"
      ]
     },
     "execution_count": 42,
     "metadata": {},
     "output_type": "execute_result"
    }
   ],
   "source": [
    "# Prepare training data with teacher forcing\n",
    "# decoder_input_data is a 2D array of shape (None, None) containing a tokenization of the English sentences.\n",
    "# decoder_target_data is the same as decoder_input_data but offset by one timestep. decoder_target_data[:, t] will be the same as decoder_input_data[:, t-1].\n",
    "\n",
    "english_teacher_enc = english_vectorizer(X_processed_array) #.numpy() # Teacher\n",
    "english_target_enc = np.zeros_like(english_teacher_enc)\n",
    "english_target_enc[:,:-1] = english_teacher_enc[:,1:] # To predict\n",
    "english_target_enc.shape"
   ]
  },
  {
   "cell_type": "code",
   "execution_count": 43,
   "id": "6e90c6ab-194b-43f8-98f0-59b26b7c98fe",
   "metadata": {
    "tags": []
   },
   "outputs": [
    {
     "name": "stdout",
     "output_type": "stream",
     "text": [
      "Epoch 1/50\n",
      "282/282 [==============================] - 19s 32ms/step - loss: 3.2101 - accuracy: 0.4573 - val_loss: 2.8735 - val_accuracy: 0.5200\n",
      "Epoch 2/50\n",
      "282/282 [==============================] - 7s 26ms/step - loss: 2.0762 - accuracy: 0.6638 - val_loss: 2.4704 - val_accuracy: 0.5779\n",
      "Epoch 3/50\n",
      "282/282 [==============================] - 7s 27ms/step - loss: 1.7903 - accuracy: 0.7018 - val_loss: 2.2865 - val_accuracy: 0.6221\n",
      "Epoch 4/50\n",
      "282/282 [==============================] - 7s 27ms/step - loss: 1.6089 - accuracy: 0.7297 - val_loss: 2.1232 - val_accuracy: 0.6578\n",
      "Epoch 5/50\n",
      "282/282 [==============================] - 8s 27ms/step - loss: 1.4779 - accuracy: 0.7481 - val_loss: 2.0892 - val_accuracy: 0.6624\n",
      "Epoch 6/50\n",
      "282/282 [==============================] - 7s 26ms/step - loss: 1.3816 - accuracy: 0.7608 - val_loss: 2.0202 - val_accuracy: 0.6842\n",
      "Epoch 7/50\n",
      "282/282 [==============================] - 7s 25ms/step - loss: 1.3055 - accuracy: 0.7721 - val_loss: 1.9528 - val_accuracy: 0.6867\n",
      "Epoch 8/50\n",
      "282/282 [==============================] - 7s 25ms/step - loss: 1.2396 - accuracy: 0.7815 - val_loss: 1.8783 - val_accuracy: 0.6945\n",
      "Epoch 9/50\n",
      "282/282 [==============================] - 7s 25ms/step - loss: 1.1844 - accuracy: 0.7881 - val_loss: 1.8742 - val_accuracy: 0.6992\n",
      "Epoch 10/50\n",
      "282/282 [==============================] - 7s 25ms/step - loss: 1.1335 - accuracy: 0.7948 - val_loss: 1.8528 - val_accuracy: 0.7023\n",
      "Epoch 11/50\n",
      "282/282 [==============================] - 7s 26ms/step - loss: 1.0852 - accuracy: 0.8002 - val_loss: 1.8425 - val_accuracy: 0.7025\n",
      "Epoch 12/50\n",
      "282/282 [==============================] - 7s 26ms/step - loss: 1.0428 - accuracy: 0.8063 - val_loss: 1.7656 - val_accuracy: 0.7125\n",
      "Epoch 13/50\n",
      "282/282 [==============================] - 7s 26ms/step - loss: 1.0035 - accuracy: 0.8129 - val_loss: 1.7831 - val_accuracy: 0.7141\n",
      "Epoch 14/50\n",
      "282/282 [==============================] - 8s 28ms/step - loss: 0.9669 - accuracy: 0.8193 - val_loss: 1.7926 - val_accuracy: 0.7156\n",
      "Epoch 15/50\n",
      "282/282 [==============================] - 8s 27ms/step - loss: 0.9328 - accuracy: 0.8239 - val_loss: 1.7878 - val_accuracy: 0.7170\n",
      "Epoch 16/50\n",
      "282/282 [==============================] - 8s 27ms/step - loss: 0.8994 - accuracy: 0.8285 - val_loss: 1.8314 - val_accuracy: 0.7182\n",
      "Epoch 17/50\n",
      "282/282 [==============================] - 8s 27ms/step - loss: 0.8723 - accuracy: 0.8323 - val_loss: 1.7960 - val_accuracy: 0.7178\n",
      "Epoch 18/50\n",
      "282/282 [==============================] - 7s 26ms/step - loss: 0.8404 - accuracy: 0.8377 - val_loss: 1.7987 - val_accuracy: 0.7212\n",
      "Epoch 19/50\n",
      "282/282 [==============================] - 7s 26ms/step - loss: 0.8160 - accuracy: 0.8429 - val_loss: 1.7875 - val_accuracy: 0.7231\n",
      "Epoch 20/50\n",
      "282/282 [==============================] - 7s 26ms/step - loss: 0.7900 - accuracy: 0.8464 - val_loss: 1.7934 - val_accuracy: 0.7200\n",
      "Epoch 21/50\n",
      "282/282 [==============================] - 7s 26ms/step - loss: 0.7645 - accuracy: 0.8516 - val_loss: 1.7519 - val_accuracy: 0.7241\n",
      "Epoch 22/50\n",
      "282/282 [==============================] - 8s 27ms/step - loss: 0.7450 - accuracy: 0.8542 - val_loss: 1.7598 - val_accuracy: 0.7303\n",
      "Epoch 23/50\n",
      "282/282 [==============================] - 7s 25ms/step - loss: 0.7232 - accuracy: 0.8585 - val_loss: 1.7478 - val_accuracy: 0.7319\n",
      "Epoch 24/50\n",
      "282/282 [==============================] - 8s 27ms/step - loss: 0.7031 - accuracy: 0.8606 - val_loss: 1.7695 - val_accuracy: 0.7337\n",
      "Epoch 25/50\n",
      "282/282 [==============================] - 7s 26ms/step - loss: 0.6827 - accuracy: 0.8651 - val_loss: 1.7398 - val_accuracy: 0.7293\n",
      "Epoch 26/50\n",
      "282/282 [==============================] - 7s 26ms/step - loss: 0.6675 - accuracy: 0.8673 - val_loss: 1.7553 - val_accuracy: 0.7391\n",
      "Epoch 27/50\n",
      "282/282 [==============================] - 8s 27ms/step - loss: 0.6490 - accuracy: 0.8715 - val_loss: 1.7852 - val_accuracy: 0.7331\n",
      "Epoch 28/50\n",
      "282/282 [==============================] - 7s 26ms/step - loss: 0.6321 - accuracy: 0.8738 - val_loss: 1.7442 - val_accuracy: 0.7339\n",
      "Epoch 29/50\n",
      "282/282 [==============================] - 8s 27ms/step - loss: 0.6153 - accuracy: 0.8776 - val_loss: 1.7636 - val_accuracy: 0.7293\n",
      "Epoch 30/50\n",
      "282/282 [==============================] - 7s 26ms/step - loss: 0.6061 - accuracy: 0.8793 - val_loss: 1.7384 - val_accuracy: 0.7358\n",
      "Epoch 31/50\n",
      "282/282 [==============================] - 7s 25ms/step - loss: 0.5915 - accuracy: 0.8831 - val_loss: 1.7509 - val_accuracy: 0.7372\n",
      "Epoch 32/50\n",
      "282/282 [==============================] - 7s 25ms/step - loss: 0.5771 - accuracy: 0.8852 - val_loss: 1.8115 - val_accuracy: 0.7329\n",
      "Epoch 33/50\n",
      "282/282 [==============================] - 7s 25ms/step - loss: 0.5687 - accuracy: 0.8870 - val_loss: 1.7538 - val_accuracy: 0.7442\n",
      "Epoch 34/50\n",
      "282/282 [==============================] - 7s 25ms/step - loss: 0.5548 - accuracy: 0.8894 - val_loss: 1.7437 - val_accuracy: 0.7410\n",
      "Epoch 35/50\n",
      "282/282 [==============================] - 7s 26ms/step - loss: 0.5442 - accuracy: 0.8917 - val_loss: 1.7660 - val_accuracy: 0.7401\n",
      "Epoch 36/50\n",
      "282/282 [==============================] - 8s 27ms/step - loss: 0.5337 - accuracy: 0.8915 - val_loss: 1.7574 - val_accuracy: 0.7431\n",
      "Epoch 37/50\n",
      "282/282 [==============================] - 7s 26ms/step - loss: 0.5217 - accuracy: 0.8957 - val_loss: 1.8098 - val_accuracy: 0.7350\n",
      "Epoch 38/50\n",
      "282/282 [==============================] - 9s 33ms/step - loss: 0.5176 - accuracy: 0.8960 - val_loss: 1.7581 - val_accuracy: 0.7416\n",
      "Epoch 39/50\n",
      "282/282 [==============================] - 7s 26ms/step - loss: 0.5090 - accuracy: 0.8976 - val_loss: 1.7934 - val_accuracy: 0.7421\n",
      "Epoch 40/50\n",
      "282/282 [==============================] - 8s 27ms/step - loss: 0.5005 - accuracy: 0.8993 - val_loss: 1.7872 - val_accuracy: 0.7381\n",
      "Epoch 41/50\n",
      "282/282 [==============================] - 8s 27ms/step - loss: 0.4910 - accuracy: 0.9019 - val_loss: 1.7537 - val_accuracy: 0.7436\n",
      "Epoch 42/50\n",
      "282/282 [==============================] - 8s 29ms/step - loss: 0.4850 - accuracy: 0.9018 - val_loss: 1.8167 - val_accuracy: 0.7393\n",
      "Epoch 43/50\n",
      "282/282 [==============================] - 8s 29ms/step - loss: 0.4760 - accuracy: 0.9043 - val_loss: 1.8106 - val_accuracy: 0.7434\n",
      "Epoch 44/50\n",
      "282/282 [==============================] - 8s 27ms/step - loss: 0.4681 - accuracy: 0.9056 - val_loss: 1.8596 - val_accuracy: 0.7394\n",
      "Epoch 45/50\n",
      "282/282 [==============================] - 7s 27ms/step - loss: 0.4600 - accuracy: 0.9068 - val_loss: 1.7823 - val_accuracy: 0.7461\n",
      "Epoch 46/50\n",
      "282/282 [==============================] - 7s 26ms/step - loss: 0.4578 - accuracy: 0.9081 - val_loss: 1.8039 - val_accuracy: 0.7439\n",
      "Epoch 47/50\n",
      "282/282 [==============================] - 8s 28ms/step - loss: 0.4485 - accuracy: 0.9093 - val_loss: 1.8004 - val_accuracy: 0.7433\n",
      "Epoch 48/50\n",
      "282/282 [==============================] - 7s 26ms/step - loss: 0.4414 - accuracy: 0.9112 - val_loss: 1.7694 - val_accuracy: 0.7462\n",
      "Epoch 49/50\n",
      "282/282 [==============================] - 8s 27ms/step - loss: 0.4327 - accuracy: 0.9118 - val_loss: 1.8099 - val_accuracy: 0.7456\n",
      "Epoch 50/50\n",
      "282/282 [==============================] - 7s 26ms/step - loss: 0.4281 - accuracy: 0.9140 - val_loss: 1.8108 - val_accuracy: 0.7448\n"
     ]
    }
   ],
   "source": [
    "# Configure the model and start training\n",
    "# Stop training with early stopping with patience of 20\n",
    "callbacks_list = [EarlyStopping(monitor='loss', mode='min', min_delta=0.000001,\n",
    "                                patience=5, restore_best_weights=True, verbose=1,\n",
    "                                )]\n",
    "\n",
    "\n",
    "history = model3.fit([y_processed_array, english_teacher_enc], english_target_enc,\n",
    "                    validation_split=0.1,\n",
    "                    epochs=50, batch_size=BATCH_SIZE,\n",
    "                    callbacks=callbacks_list,\n",
    "                    verbose=1)\n",
    "\n",
    "\n",
    "\n"
   ]
  },
  {
   "cell_type": "code",
   "execution_count": 44,
   "id": "54279d7e-37c1-47c0-b20e-4c6c995a223b",
   "metadata": {
    "tags": []
   },
   "outputs": [
    {
     "data": {
      "image/png": "[encoded data removed]",
      "text/plain": [
       "<Figure size 2000x600 with 2 Axes>"
      ]
     },
     "metadata": {},
     "output_type": "display_data"
    }
   ],
   "source": [
    "import matplotlib.pyplot as plt\n",
    "\n",
    "plt.figure(figsize=(20, 6))\n",
    "# Plot the first subplot  loss)\n",
    "plt.subplot(1, 2, 1)  # 1 row, 2 columns, first subplot\n",
    "plt.plot(history.history[\"loss\"])\n",
    "plt.plot(history.history[\"val_loss\"])\n",
    "plt.title(\"validation loss & training loss\")\n",
    "plt.xlabel(\"epochs\")\n",
    "plt.ylabel(\"loss\")\n",
    "leg = plt.legend([\"training loss\", \"validation loss\"],loc =\"upper right\"); \n",
    "\n",
    "# Plot the second subplot ( accuracy)\n",
    "plt.subplot(1, 2, 2)  # 1 row, 2 columns, second subplot\n",
    "plt.plot(history.history[\"accuracy\"])\n",
    "plt.plot(history.history[\"val_accuracy\"])\n",
    "plt.title(\"validation accuracy & training loaccuracyss\")\n",
    "plt.xlabel(\"epochs\")\n",
    "plt.ylabel(\"accuracy\")\n",
    "leg = plt.legend([\"training accuracy\", \"validation accuracy\"],loc =\"upper left\"); \n",
    "\n",
    "plt.show()\n"
   ]
  },
  {
   "cell_type": "code",
   "execution_count": null,
   "id": "33d56052-fffd-4270-8e8a-c292f331e1b8",
   "metadata": {},
   "outputs": [],
   "source": []
  }
 ],
 "metadata": {
  "kernelspec": {
   "display_name": "Python 3 (ipykernel)",
   "language": "python",
   "name": "python3"
  },
  "language_info": {
   "codemirror_mode": {
    "name": "ipython",
    "version": 3
   },
   "file_extension": ".py",
   "mimetype": "text/x-python",
   "name": "python",
   "nbconvert_exporter": "python",
   "pygments_lexer": "ipython3",
   "version": "3.11.5"
  }
 },
 "nbformat": 4,
 "nbformat_minor": 5
}
