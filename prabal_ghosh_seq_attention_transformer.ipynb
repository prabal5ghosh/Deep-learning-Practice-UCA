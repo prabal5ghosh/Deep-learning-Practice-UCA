{
 "cells": [
  {
   "cell_type": "markdown",
   "id": "e958e291-1eba-48be-8b37-6acdbfaa32ec",
   "metadata": {
    "tags": []
   },
   "source": [
    "# PRABAL GHOSH\n",
    "## Deep Learning Lab =  Sequence to Sequence (seq2seq) variable length and Attention and Transformer"
   ]
  },
  {
   "cell_type": "markdown",
   "id": "942a617d-f89b-41a1-8cf4-676db0fbe234",
   "metadata": {},
   "source": [
    "You must submit a notebook with execution traces and perfectly written corresponding to the course on Seq2Seq, Seq2Seq with Attention and Transformer architectures. This notebook will identify at least 5 sections:\n",
    "- Introduction: presentation of the problem and how to proceed\n",
    "- Data pre-processing\n",
    "- Seq2Seq architecture\n",
    "- Seq2Seq architecture with Attention (specify which attention model you used)\n",
    "- Transformer-based architecture\n",
    "- Use of a model from huggingface.co (transfer learning) to address the same problem (optional)\n",
    "- Conclusion: comparison of approaches and personal remarks\n",
    "\n",
    "Submit also a pdf version of your notebook"
   ]
  },
  {
   "cell_type": "markdown",
   "id": "bac0fdb5-35a6-40f6-8df4-755dcdef3097",
   "metadata": {
    "jp-MarkdownHeadingCollapsed": true,
    "tags": []
   },
   "source": [
    "# Some important links for Sequence to Sequence (seq2seq) variable length and Attention and Transformer\n"
   ]
  },
  {
   "cell_type": "markdown",
   "id": "5b5724f2-1cea-4bd4-aca3-524d0de86603",
   "metadata": {
    "tags": []
   },
   "source": [
    "## <font color = green> **Data is dowlnloaded from the following link** </font>  \n",
    "[https://www.manythings.org/anki/](https://www.manythings.org/anki/)(Tab-delimited Bilingual Sentence Pairs)\n",
    "\n",
    "**The following tutorial is followed to understand the Sequence to Sequence**\n",
    "\n",
    "- \"https://lena-voita.github.io/nlp_course/seq2seq_and_attention.html\" (basics+attention part)\n",
    "- \"https://towardsdatascience.com/classic-seq2seq-model-vs-seq2seq-model-with-attention-31527c77b28a\"\n",
    "- \"https://wikidocs.net/178419\"\n",
    "- \"https://www.jeremyjordan.me/attention/\"\n",
    "- \"https://machinelearningmastery.com/a-gentle-introduction-to-positional-encoding-in-transformer-models-part-1/\"\n",
    "- \"https://www.tensorflow.org/text/tutorials/transformer\"\n",
    "- \"https://blog.keras.io/a-ten-minute-introduction-to-sequence-to-sequence-learning-in-keras.html\" (A ten-minute introduction to sequence-to-sequence learning in Keras)\n",
    "\n",
    "**The following youtube videos are good to understand the concepts**\n",
    "- \"https://www.youtube.com/watch?v=XfpMkf4rD6E\"\n",
    "- \"https://www.youtube.com/watch?v=RRP0czWtOeM&list=PLQflnv_s49v-4aH-xFcTykTpcyWSY4Tww&index=5\"\n",
    "- \"https://www.youtube.com/watch?v=7gHqxK1o7MU\""
   ]
  },
  {
   "cell_type": "markdown",
   "id": "2e8f78aa-900a-4454-83cd-c7f9b2ebf0d1",
   "metadata": {},
   "source": []
  },
  {
   "cell_type": "markdown",
   "id": "d9c882e5-2189-44b7-8151-f1dc69af146a",
   "metadata": {
    "tags": []
   },
   "source": [
    "# Normal Sequence to Sequence (seq2seq)"
   ]
  },
  {
   "cell_type": "markdown",
   "id": "f0d92122-968f-4d52-9a02-443cf4e49bcd",
   "metadata": {
    "tags": []
   },
   "source": [
    "## import libraries"
   ]
  },
  {
   "cell_type": "markdown",
   "id": "397a5234-f27f-40d5-b32c-c805ff8def65",
   "metadata": {},
   "source": [
    "<img  src=\"https://www.jeremyjordan.me/content/images/size/w1600/2023/02/path-length-1-2.png\" />\n"
   ]
  },
  {
   "cell_type": "markdown",
   "id": "9e96259a-d397-4723-b289-83d29cd82607",
   "metadata": {
    "tags": []
   },
   "source": [
    "\n",
    "<video controls src=\"https://lena-voita.github.io/resources/lectures/seq2seq/general/seq2seq_training_with_target.mp4\" />  "
   ]
  },
  {
   "cell_type": "markdown",
   "id": "18c83fa4-bc40-47d5-8fce-ee14a0c14ad1",
   "metadata": {},
   "source": [
    "import matplotlib.pyplot as plt\n",
    "import matplotlib.ticker as ticker\n",
    "import numpy as np\n",
    "import pandas as pd"
   ]
  },
  {
   "cell_type": "code",
   "execution_count": 1,
   "id": "9bd92765-05bc-4579-a7ae-b4a3b018d22f",
   "metadata": {
    "tags": []
   },
   "outputs": [],
   "source": [
    "import matplotlib.pyplot as plt\n",
    "import matplotlib.ticker as ticker\n",
    "import numpy as np\n",
    "import pandas as pd\n"
   ]
  },
  {
   "cell_type": "code",
   "execution_count": 2,
   "id": "0e1eea1f-9553-4c0c-a5e0-f2423d99c84a",
   "metadata": {
    "tags": []
   },
   "outputs": [
    {
     "name": "stdout",
     "output_type": "stream",
     "text": [
      "WARNING:tensorflow:From C:\\Users\\praba\\anaconda3\\Lib\\site-packages\\keras\\src\\losses.py:2976: The name tf.losses.sparse_softmax_cross_entropy is deprecated. Please use tf.compat.v1.losses.sparse_softmax_cross_entropy instead.\n",
      "\n"
     ]
    }
   ],
   "source": [
    "import tensorflow as tf \n",
    "import keras"
   ]
  },
  {
   "cell_type": "code",
   "execution_count": 3,
   "id": "711e3d1c-819a-4e39-ae17-e7265bbe112d",
   "metadata": {
    "tags": []
   },
   "outputs": [],
   "source": [
    "import unicodedata\n",
    "import re\n",
    "import os\n",
    "import io\n",
    "import time"
   ]
  },
  {
   "cell_type": "code",
   "execution_count": 4,
   "id": "29a5cf0d-b5d9-4eb3-aea3-9753f34ef221",
   "metadata": {
    "tags": []
   },
   "outputs": [],
   "source": [
    "import tensorflow as tf\n",
    "\n",
    "from tensorflow.keras.models import Model\n",
    "from tensorflow.keras import optimizers\n",
    "from tensorflow.keras import layers\n",
    "from tensorflow.keras.layers import Input, Dense\n",
    "\n",
    "from tensorflow.keras.callbacks import EarlyStopping\n",
    "from tensorflow.keras.utils import plot_model"
   ]
  },
  {
   "cell_type": "markdown",
   "id": "27e98731-37f8-4ec4-b930-3a4ec62fda01",
   "metadata": {
    "tags": []
   },
   "source": [
    "## Data Preprocessing\n",
    "\n",
    "The data is available here: http://www.manythings.org/anki/.\n",
    "They consist of a set of pairs in the following format:\n",
    "\n",
    "  `hi .`  `hola .`\n",
    "\n",
    "There are a variety of languages available, English-Spanish data will be used.\n",
    "\n",
    "The processing of the data will consist of the following steps:\n",
    "\n",
    "1. Removal of special characters\n",
    "1. adding a start or end token to each sentence.\n",
    "1. Creating the vectorizer for each of the two languages"
   ]
  },
  {
   "cell_type": "markdown",
   "id": "4b11b36a",
   "metadata": {},
   "source": [
    "**Limit the number of examples is 5000 for faster processing**\n",
    " "
   ]
  },
  {
   "cell_type": "code",
   "execution_count": 5,
   "id": "74d3d29d-b862-4561-88dc-9c2c74ba9b0a",
   "metadata": {
    "tags": []
   },
   "outputs": [
    {
     "name": "stdout",
     "output_type": "stream",
     "text": [
      "0     <start> go . <end>\n",
      "1     <start> go . <end>\n",
      "2     <start> go . <end>\n",
      "3     <start> hi . <end>\n",
      "4    <start> run ! <end>\n",
      "Name: Go., dtype: object\n",
      "0      <start> vete . <end>\n",
      "1      <start> vaya . <end>\n",
      "2    <start> vayase . <end>\n",
      "3      <start> hola . <end>\n",
      "4     <start> corre ! <end>\n",
      "Name: Ve., dtype: object\n"
     ]
    }
   ],
   "source": [
    "import pandas as pd  # Import pandas library for data manipulation\n",
    "import re  # Import re library for regular expressions\n",
    "import unicodedata  # Import unicodedata library for handling Unicode characters\n",
    "\n",
    "# Load dataset from file\n",
    "dataset = 'C:/Users/praba\\Documents/GitHub/deep_learning_uca_2/spa-eng/spa.txt'\n",
    "data = pd.read_table(dataset)  # Read data from file into a DataFrame\n",
    "\n",
    "# Extract source (X) and target (y) sentences from the DataFrame\n",
    "X = data.iloc[:, 0]  # Extract the first column as source sentences\n",
    "y = data.iloc[:, 1]  # Extract the second column as target sentences\n",
    "\n",
    "# Limit the number of examples for faster processing\n",
    "X = X[:5000]  # Limit the number of source sentences to 10000\n",
    "y = y[:5000]  # Limit the number of target sentences to 10000\n",
    "\n",
    "# Define a function to preprocess a sentence\n",
    "def step1(sent):\n",
    "    # Function to preprocess a sentence\n",
    "    def unicode_to_ascii(s):\n",
    "        # Normalize Unicode characters and remove accents\n",
    "        return ''.join(c for c in unicodedata.normalize('NFD', s) if unicodedata.category(c) != 'Mn')\n",
    "\n",
    "    # Convert the sentence to lowercase and remove leading/trailing whitespaces\n",
    "    sent = unicode_to_ascii(sent.lower().strip())\n",
    "\n",
    "    # Add spaces between words and punctuation\n",
    "    sent = re.sub(r\"([?.!,¿])\", r\" \\1 \", sent)\n",
    "    sent = re.sub(r'[\" \"]+', \" \", sent)\n",
    "\n",
    "    # Replace everything except letters, punctuation, and some special characters with spaces\n",
    "    sent = re.sub(r\"[^a-zA-Z?.!,¿]+\", \" \", sent)\n",
    "\n",
    "    # Add <start> and <end> tokens to the sentence\n",
    "    return '<start> ' + sent.strip() + ' <end>'\n",
    "\n",
    "# Apply the preprocessing function to each source and target sentence\n",
    "X_processed = X.apply(step1)  # Preprocess source sentences\n",
    "y_processed = y.apply(step1)  # Preprocess target sentences\n",
    "\n",
    "# Print the first few preprocessed sentences to check\n",
    "print(X_processed.head())\n",
    "print(y_processed.head())\n"
   ]
  },
  {
   "cell_type": "code",
   "execution_count": 6,
   "id": "0821aa31",
   "metadata": {},
   "outputs": [],
   "source": [
    "# data.iloc[:, 0]"
   ]
  },
  {
   "cell_type": "code",
   "execution_count": 7,
   "id": "51ea8439-a233-4c8d-a0a8-add026e5bd03",
   "metadata": {
    "tags": []
   },
   "outputs": [
    {
     "data": {
      "text/plain": [
       "((5000,), (5000,))"
      ]
     },
     "execution_count": 7,
     "metadata": {},
     "output_type": "execute_result"
    }
   ],
   "source": [
    "english_sentences = X_processed_array = np.array(X_processed)\n",
    "spanish_sentences = y_processed_array = np.array(y_processed)\n",
    "X_processed_array.shape, y_processed.shape   "
   ]
  },
  {
   "cell_type": "code",
   "execution_count": 8,
   "id": "65573723-d542-4d8d-99e1-4f13c52e8b54",
   "metadata": {
    "tags": []
   },
   "outputs": [],
   "source": [
    "from sklearn.model_selection import train_test_split\n",
    "X_train, X_test, y_train, y_test = train_test_split(\n",
    "    X_processed_array, y_processed_array, test_size=0.33, random_state=42)\n"
   ]
  },
  {
   "cell_type": "code",
   "execution_count": 9,
   "id": "cfa35fc1-3023-4dac-ab45-e69aa7bdda6b",
   "metadata": {
    "tags": []
   },
   "outputs": [
    {
     "data": {
      "text/plain": [
       "'<start> vaya . <end>'"
      ]
     },
     "execution_count": 9,
     "metadata": {},
     "output_type": "execute_result"
    }
   ],
   "source": [
    "y_processed_array[1]"
   ]
  },
  {
   "cell_type": "code",
   "execution_count": 10,
   "id": "356c4f01-193c-406b-9e6e-a85c9d01dcc9",
   "metadata": {
    "tags": []
   },
   "outputs": [],
   "source": [
    "# X_train"
   ]
  },
  {
   "cell_type": "code",
   "execution_count": 11,
   "id": "a5424c9b-dfc8-450e-92b8-84ecd4822148",
   "metadata": {
    "tags": []
   },
   "outputs": [],
   "source": [
    "# y_train"
   ]
  },
  {
   "cell_type": "code",
   "execution_count": 12,
   "id": "8ec71c70-5f98-4298-af68-b855f23d6e6f",
   "metadata": {
    "tags": []
   },
   "outputs": [],
   "source": [
    "# Search vocabulary and max_length for each language\n",
    "def voc(lang):\n",
    "    # a list of sentences in the same language\n",
    "    lengths = [len(txt.split()) for txt in lang]\n",
    "    vocab = set([w for txt in lang for w in txt.split()])  \n",
    "\n",
    "    return max(lengths), list(vocab), len(vocab)+2 # for padding and OOV\n",
    "\n",
    "max_length_spanish, vocab_spanish, vocab_size_spanish = voc(y_processed_array)\n",
    "max_length_english, vocab_english, vocab_size_english = voc(X_processed_array)"
   ]
  },
  {
   "cell_type": "code",
   "execution_count": 13,
   "id": "6f5f2a3d-b509-4a00-abe3-5d3b76717d20",
   "metadata": {
    "tags": []
   },
   "outputs": [
    {
     "data": {
      "text/plain": [
       "(13, 8)"
      ]
     },
     "execution_count": 13,
     "metadata": {},
     "output_type": "execute_result"
    }
   ],
   "source": [
    "max_length_spanish,max_length_english"
   ]
  },
  {
   "cell_type": "code",
   "execution_count": 14,
   "id": "6bc28f3d",
   "metadata": {},
   "outputs": [
    {
     "data": {
      "text/plain": [
       "1251"
      ]
     },
     "execution_count": 14,
     "metadata": {},
     "output_type": "execute_result"
    }
   ],
   "source": [
    "vocab_size_english"
   ]
  },
  {
   "cell_type": "code",
   "execution_count": 15,
   "id": "cb2ce9a0-51f1-4702-aa4e-00c6a56d442e",
   "metadata": {
    "tags": []
   },
   "outputs": [
    {
     "name": "stdout",
     "output_type": "stream",
     "text": [
      "WARNING:tensorflow:From C:\\Users\\praba\\anaconda3\\Lib\\site-packages\\keras\\src\\backend.py:873: The name tf.get_default_graph is deprecated. Please use tf.compat.v1.get_default_graph instead.\n",
      "\n"
     ]
    }
   ],
   "source": [
    "# Build vectorizer layer\n",
    "english_vectorizer = layers.TextVectorization(standardize=None, output_mode='int',\n",
    "                                              vocabulary=vocab_english,\n",
    "                                              name=\"English_vect\")\n",
    "# On peut connaitre le vocabulaire par english_vectorizer.get_vocabulary()\n",
    "\n",
    "# Do the same for spanish\n",
    "spanish_vectorizer = layers.TextVectorization(standardize=None, output_mode='int',\n",
    "                                              vocabulary=vocab_spanish,\n",
    "                                              name=\"Spanish_vect\")"
   ]
  },
  {
   "cell_type": "code",
   "execution_count": 16,
   "id": "e8591147-9cb3-4f70-a716-910c18e6566c",
   "metadata": {
    "tags": []
   },
   "outputs": [],
   "source": [
    "BATCH_SIZE = 32\n",
    "embedding_dim = 100\n",
    "latent_dim = 64\n",
    "dropout=0.2\n"
   ]
  },
  {
   "cell_type": "markdown",
   "id": "85ddf046-c940-46fc-9b45-aa09a216a0c2",
   "metadata": {
    "tags": []
   },
   "source": [
    "## basic model"
   ]
  },
  {
   "cell_type": "markdown",
   "id": "2a68b18b-d53b-488d-8417-2102e426b20a",
   "metadata": {},
   "source": [
    "**Encoder part**"
   ]
  },
  {
   "cell_type": "code",
   "execution_count": 17,
   "id": "a59b448e-fb5a-4162-a301-6d1a82b32c14",
   "metadata": {
    "tags": []
   },
   "outputs": [],
   "source": [
    "from keras.models import Model\n",
    "from keras.layers import Input, LSTM, Dense\n",
    "\n",
    "# Define an input sequence and process it.\n",
    "encoder_inputs = Input(shape=(None,),name=\"spanish_input\")\n",
    "# encoder_inputs = Input(shape=(None,),dtype=tf.string, name=\"spanish_input\")\n",
    "\n",
    "# encoder_vectorizer = spanish_vectorizer(encoder_inputs)\n",
    "# layer_embedding = layers.Embedding(vocab_size_spanish, embedding_dim, name=\"sp_embedding\")\n",
    "\n",
    "layer_embedding = layers.Embedding(vocab_size_spanish, embedding_dim, name=\"sp_embedding\")\n",
    "embedding_layer_final = layer_embedding(encoder_inputs)\n",
    "layer_lstm = LSTM(latent_dim, return_sequences=False, return_state=True)\n",
    "# _, enc_state_h, enc_state_c = LSTM(latent_dim,  return_sequences=False,return_state=True,\n",
    "#                                    dropout=dropout, recurrent_dropout=dropout, name=\"encoder\")(embedding_layer_final)\n",
    "\n",
    "enc_state_output, enc_state_h, enc_state_c = layer_lstm(embedding_layer_final)\n",
    "# We discard `encoder_outputs` and only keep the states.\n",
    "encoder_states = [enc_state_h, enc_state_c]\n",
    "\n"
   ]
  },
  {
   "cell_type": "code",
   "execution_count": null,
   "id": "ed3cfc0b",
   "metadata": {},
   "outputs": [],
   "source": []
  },
  {
   "cell_type": "markdown",
   "id": "e78d04d1-134c-48dc-92ff-b0b01aeab542",
   "metadata": {},
   "source": [
    "**Decoder part**"
   ]
  },
  {
   "cell_type": "code",
   "execution_count": 18,
   "id": "a45efe08-54b3-4058-9c21-1d313d68b116",
   "metadata": {
    "tags": []
   },
   "outputs": [],
   "source": [
    "# decoder_inputs = Input(shape=(None,), dtype=tf.int32, name=\"english_teacher\")\n",
    "decoder_inputs = Input(shape=(None,), name=\"english_teacher\")\n",
    "\n",
    "layer_embedding_decoder = layers.Embedding(vocab_size_english, embedding_dim\n",
    "                     ,name=\"english_embedding\")\n",
    "x =layer_embedding_decoder(decoder_inputs)\n",
    "decoder_lstm = layers.LSTM(latent_dim, return_sequences=True, return_state=True,\n",
    "#                            dropout=dropout, recurrent_dropout=dropout, name=\"decoder1\")\n",
    "                          )\n",
    "                           \n",
    "decoder_outputs, _, _ = decoder_lstm(x, initial_state=encoder_states)\n",
    "decoder_dense = layers.Dense(vocab_size_english, activation='softmax')\n",
    "decoder_outputs_final = decoder_dense(decoder_outputs)\n"
   ]
  },
  {
   "cell_type": "code",
   "execution_count": 19,
   "id": "373cee15",
   "metadata": {},
   "outputs": [
    {
     "data": {
      "text/plain": [
       "[(None, None, 64), (None, 64), (None, 64)]"
      ]
     },
     "execution_count": 19,
     "metadata": {},
     "output_type": "execute_result"
    }
   ],
   "source": [
    "decoder_lstm.output_shape\n"
   ]
  },
  {
   "cell_type": "code",
   "execution_count": 20,
   "id": "29e81454-7b06-4237-ba2c-2cce45df9587",
   "metadata": {
    "tags": []
   },
   "outputs": [],
   "source": [
    "# Define the model\n",
    "model1 = Model([encoder_inputs, decoder_inputs], decoder_outputs_final)"
   ]
  },
  {
   "cell_type": "code",
   "execution_count": 21,
   "id": "e2b16487-c92a-4827-b353-f1160ce0fac5",
   "metadata": {
    "tags": []
   },
   "outputs": [
    {
     "name": "stdout",
     "output_type": "stream",
     "text": [
      "Model: \"model\"\n",
      "__________________________________________________________________________________________________\n",
      " Layer (type)                Output Shape                 Param #   Connected to                  \n",
      "==================================================================================================\n",
      " spanish_input (InputLayer)  [(None, None)]               0         []                            \n",
      "                                                                                                  \n",
      " english_teacher (InputLaye  [(None, None)]               0         []                            \n",
      " r)                                                                                               \n",
      "                                                                                                  \n",
      " sp_embedding (Embedding)    (None, None, 100)            278200    ['spanish_input[0][0]']       \n",
      "                                                                                                  \n",
      " english_embedding (Embeddi  (None, None, 100)            125100    ['english_teacher[0][0]']     \n",
      " ng)                                                                                              \n",
      "                                                                                                  \n",
      " lstm (LSTM)                 [(None, 64),                 42240     ['sp_embedding[0][0]']        \n",
      "                              (None, 64),                                                         \n",
      "                              (None, 64)]                                                         \n",
      "                                                                                                  \n",
      " lstm_1 (LSTM)               [(None, None, 64),           42240     ['english_embedding[0][0]',   \n",
      "                              (None, 64),                            'lstm[0][1]',                \n",
      "                              (None, 64)]                            'lstm[0][2]']                \n",
      "                                                                                                  \n",
      " dense (Dense)               (None, None, 1251)           81315     ['lstm_1[0][0]']              \n",
      "                                                                                                  \n",
      "==================================================================================================\n",
      "Total params: 569095 (2.17 MB)\n",
      "Trainable params: 569095 (2.17 MB)\n",
      "Non-trainable params: 0 (0.00 Byte)\n",
      "__________________________________________________________________________________________________\n"
     ]
    }
   ],
   "source": [
    "model1.summary()"
   ]
  },
  {
   "cell_type": "code",
   "execution_count": 22,
   "id": "e45c5fba",
   "metadata": {},
   "outputs": [],
   "source": [
    "import unicodedata\n",
    "import re\n",
    "import numpy as np\n",
    "import pandas as pd\n",
    "import os\n",
    "import io\n",
    "import time\n",
    "\n",
    "import tensorflow as tf\n",
    "\n",
    "from tensorflow.keras.models import Model\n",
    "from tensorflow.keras import optimizers\n",
    "from tensorflow.keras import layers\n",
    "from tensorflow.keras.callbacks import EarlyStopping\n",
    "from tensorflow.keras.utils import plot_model\n",
    "\n",
    "import matplotlib.pyplot as plt\n",
    "import matplotlib.ticker as ticker"
   ]
  },
  {
   "cell_type": "code",
   "execution_count": 23,
   "id": "44149039-a504-4817-81c1-b922db5f786c",
   "metadata": {
    "tags": []
   },
   "outputs": [
    {
     "name": "stdout",
     "output_type": "stream",
     "text": [
      "WARNING:tensorflow:From C:\\Users\\praba\\anaconda3\\Lib\\site-packages\\keras\\src\\optimizers\\__init__.py:309: The name tf.train.Optimizer is deprecated. Please use tf.compat.v1.train.Optimizer instead.\n",
      "\n"
     ]
    }
   ],
   "source": [
    "model1.compile(loss='sparse_categorical_crossentropy', optimizer='rmsprop', metrics=['accuracy'])\n"
   ]
  },
  {
   "cell_type": "code",
   "execution_count": 24,
   "id": "c92eac56",
   "metadata": {},
   "outputs": [
    {
     "data": {
      "image/png": "[encoded data removed]",
      "text/plain": [
       "<IPython.core.display.Image object>"
      ]
     },
     "execution_count": 24,
     "metadata": {},
     "output_type": "execute_result"
    }
   ],
   "source": [
    "from tensorflow.keras.utils import plot_model\n",
    "\n",
    "plot_model(model1, to_file='model_plot.png', show_shapes=True, show_layer_names=True)"
   ]
  },
  {
   "cell_type": "code",
   "execution_count": 25,
   "id": "a7dc07fd",
   "metadata": {},
   "outputs": [
    {
     "name": "stdout",
     "output_type": "stream",
     "text": [
      "WARNING:tensorflow:From C:\\Users\\praba\\anaconda3\\Lib\\site-packages\\keras\\src\\utils\\tf_utils.py:492: The name tf.ragged.RaggedTensorValue is deprecated. Please use tf.compat.v1.ragged.RaggedTensorValue instead.\n",
      "\n"
     ]
    }
   ],
   "source": [
    "spanish_embedded_data = spanish_vectorizer(y_processed_array)\n"
   ]
  },
  {
   "cell_type": "code",
   "execution_count": 26,
   "id": "4ff96a94-7e7a-410b-a1dc-9ef3bd14ebe6",
   "metadata": {
    "tags": []
   },
   "outputs": [
    {
     "data": {
      "text/plain": [
       "(5000, 8)"
      ]
     },
     "execution_count": 26,
     "metadata": {},
     "output_type": "execute_result"
    }
   ],
   "source": [
    "# Prepare training data with teacher forcing\n",
    "# decoder_input_data is a 2D array of shape (None, None) containing a tokenization of the English sentences.\n",
    "# decoder_target_data is the same as decoder_input_data but offset by one timestep. decoder_target_data[:, t] will be the same as decoder_input_data[:, t-1].\n",
    "\n",
    "english_teacher_enc = english_vectorizer(X_processed_array) #.numpy() # Teacher\n",
    "english_target_enc = np.zeros_like(english_teacher_enc)\n",
    "english_target_enc[:,:-1] = english_teacher_enc[:,1:] # To predict\n",
    "english_target_enc.shape"
   ]
  },
  {
   "cell_type": "code",
   "execution_count": 27,
   "id": "6d6d0e71-4fcb-4eae-8ffb-1ad7b713e695",
   "metadata": {},
   "outputs": [],
   "source": [
    "# english_teacher_enc"
   ]
  },
  {
   "cell_type": "code",
   "execution_count": 28,
   "id": "62a576e5-b341-424c-b0b9-7ef5632515d2",
   "metadata": {
    "tags": []
   },
   "outputs": [
    {
     "name": "stdout",
     "output_type": "stream",
     "text": [
      "Epoch 1/50\n",
      "WARNING:tensorflow:From C:\\Users\\praba\\anaconda3\\Lib\\site-packages\\keras\\src\\engine\\base_layer_utils.py:384: The name tf.executing_eagerly_outside_functions is deprecated. Please use tf.compat.v1.executing_eagerly_outside_functions instead.\n",
      "\n",
      "141/141 [==============================] - 7s 22ms/step - loss: 3.5239 - accuracy: 0.4221 - val_loss: 2.8274 - val_accuracy: 0.4512\n",
      "Epoch 2/50\n",
      "141/141 [==============================] - 2s 14ms/step - loss: 2.2566 - accuracy: 0.6254 - val_loss: 2.4530 - val_accuracy: 0.5890\n",
      "Epoch 3/50\n",
      "141/141 [==============================] - 2s 16ms/step - loss: 1.9664 - accuracy: 0.6795 - val_loss: 2.2998 - val_accuracy: 0.5838\n",
      "Epoch 4/50\n",
      "141/141 [==============================] - 3s 18ms/step - loss: 1.8555 - accuracy: 0.6864 - val_loss: 2.2203 - val_accuracy: 0.5855\n",
      "Epoch 5/50\n",
      "141/141 [==============================] - 2s 16ms/step - loss: 1.7783 - accuracy: 0.6904 - val_loss: 2.1647 - val_accuracy: 0.5882\n",
      "Epoch 6/50\n",
      "141/141 [==============================] - 2s 16ms/step - loss: 1.7102 - accuracy: 0.6929 - val_loss: 2.0873 - val_accuracy: 0.6115\n",
      "Epoch 7/50\n",
      "141/141 [==============================] - 2s 16ms/step - loss: 1.6545 - accuracy: 0.7022 - val_loss: 2.0645 - val_accuracy: 0.6170\n",
      "Epoch 8/50\n",
      "141/141 [==============================] - 2s 15ms/step - loss: 1.6057 - accuracy: 0.7070 - val_loss: 2.0321 - val_accuracy: 0.6192\n",
      "Epoch 9/50\n",
      "141/141 [==============================] - 2s 16ms/step - loss: 1.5639 - accuracy: 0.7118 - val_loss: 1.9855 - val_accuracy: 0.6453\n",
      "Epoch 10/50\n",
      "141/141 [==============================] - 2s 15ms/step - loss: 1.5274 - accuracy: 0.7176 - val_loss: 1.9476 - val_accuracy: 0.6553\n",
      "Epoch 11/50\n",
      "141/141 [==============================] - 3s 18ms/step - loss: 1.4921 - accuracy: 0.7212 - val_loss: 1.9399 - val_accuracy: 0.6605\n",
      "Epoch 12/50\n",
      "141/141 [==============================] - 2s 15ms/step - loss: 1.4591 - accuracy: 0.7259 - val_loss: 1.9040 - val_accuracy: 0.6582\n",
      "Epoch 13/50\n",
      "141/141 [==============================] - 2s 16ms/step - loss: 1.4250 - accuracy: 0.7336 - val_loss: 1.9044 - val_accuracy: 0.6640\n",
      "Epoch 14/50\n",
      "141/141 [==============================] - 2s 15ms/step - loss: 1.3903 - accuracy: 0.7378 - val_loss: 1.8682 - val_accuracy: 0.6665\n",
      "Epoch 15/50\n",
      "141/141 [==============================] - 2s 15ms/step - loss: 1.3592 - accuracy: 0.7447 - val_loss: 1.8395 - val_accuracy: 0.6675\n",
      "Epoch 16/50\n",
      "141/141 [==============================] - 2s 15ms/step - loss: 1.3300 - accuracy: 0.7513 - val_loss: 1.8272 - val_accuracy: 0.6725\n",
      "Epoch 17/50\n",
      "141/141 [==============================] - 2s 16ms/step - loss: 1.3057 - accuracy: 0.7564 - val_loss: 1.8039 - val_accuracy: 0.6802\n",
      "Epoch 18/50\n",
      "141/141 [==============================] - 2s 14ms/step - loss: 1.2824 - accuracy: 0.7600 - val_loss: 1.8122 - val_accuracy: 0.6787\n",
      "Epoch 19/50\n",
      "141/141 [==============================] - 2s 14ms/step - loss: 1.2615 - accuracy: 0.7617 - val_loss: 1.7826 - val_accuracy: 0.6783\n",
      "Epoch 20/50\n",
      "141/141 [==============================] - 2s 14ms/step - loss: 1.2402 - accuracy: 0.7642 - val_loss: 1.7677 - val_accuracy: 0.6817\n",
      "Epoch 21/50\n",
      "141/141 [==============================] - 2s 14ms/step - loss: 1.2197 - accuracy: 0.7678 - val_loss: 1.7852 - val_accuracy: 0.6783\n",
      "Epoch 22/50\n",
      "141/141 [==============================] - 2s 15ms/step - loss: 1.2001 - accuracy: 0.7708 - val_loss: 1.7667 - val_accuracy: 0.6820\n",
      "Epoch 23/50\n",
      "141/141 [==============================] - 2s 17ms/step - loss: 1.1832 - accuracy: 0.7732 - val_loss: 1.7381 - val_accuracy: 0.6915\n",
      "Epoch 24/50\n",
      "141/141 [==============================] - 3s 20ms/step - loss: 1.1662 - accuracy: 0.7759 - val_loss: 1.7351 - val_accuracy: 0.6898\n",
      "Epoch 25/50\n",
      "141/141 [==============================] - 3s 20ms/step - loss: 1.1494 - accuracy: 0.7785 - val_loss: 1.7149 - val_accuracy: 0.6920\n",
      "Epoch 26/50\n",
      "141/141 [==============================] - 3s 20ms/step - loss: 1.1325 - accuracy: 0.7817 - val_loss: 1.6993 - val_accuracy: 0.6960\n",
      "Epoch 27/50\n",
      "141/141 [==============================] - 2s 17ms/step - loss: 1.1143 - accuracy: 0.7856 - val_loss: 1.6996 - val_accuracy: 0.6980\n",
      "Epoch 28/50\n",
      "141/141 [==============================] - 3s 18ms/step - loss: 1.0991 - accuracy: 0.7874 - val_loss: 1.6901 - val_accuracy: 0.7120\n",
      "Epoch 29/50\n",
      "141/141 [==============================] - 2s 16ms/step - loss: 1.0853 - accuracy: 0.7899 - val_loss: 1.7107 - val_accuracy: 0.7130\n",
      "Epoch 30/50\n",
      "141/141 [==============================] - 2s 15ms/step - loss: 1.0705 - accuracy: 0.7930 - val_loss: 1.6706 - val_accuracy: 0.7240\n",
      "Epoch 31/50\n",
      "141/141 [==============================] - 2s 15ms/step - loss: 1.0565 - accuracy: 0.7959 - val_loss: 1.6744 - val_accuracy: 0.7120\n",
      "Epoch 32/50\n",
      "141/141 [==============================] - 2s 15ms/step - loss: 1.0440 - accuracy: 0.7980 - val_loss: 1.6940 - val_accuracy: 0.7155\n",
      "Epoch 33/50\n",
      "141/141 [==============================] - 2s 15ms/step - loss: 1.0317 - accuracy: 0.8006 - val_loss: 1.6852 - val_accuracy: 0.7122\n",
      "Epoch 34/50\n",
      "141/141 [==============================] - 2s 14ms/step - loss: 1.0192 - accuracy: 0.8019 - val_loss: 1.6543 - val_accuracy: 0.7153\n",
      "Epoch 35/50\n",
      "141/141 [==============================] - 2s 14ms/step - loss: 1.0067 - accuracy: 0.8030 - val_loss: 1.6609 - val_accuracy: 0.7147\n",
      "Epoch 36/50\n",
      "141/141 [==============================] - 2s 14ms/step - loss: 0.9959 - accuracy: 0.8057 - val_loss: 1.6600 - val_accuracy: 0.7172\n",
      "Epoch 37/50\n",
      "141/141 [==============================] - 2s 14ms/step - loss: 0.9851 - accuracy: 0.8074 - val_loss: 1.6585 - val_accuracy: 0.7232\n",
      "Epoch 38/50\n",
      "141/141 [==============================] - 2s 14ms/step - loss: 0.9737 - accuracy: 0.8089 - val_loss: 1.6770 - val_accuracy: 0.7168\n",
      "Epoch 39/50\n",
      "141/141 [==============================] - 2s 15ms/step - loss: 0.9628 - accuracy: 0.8102 - val_loss: 1.6507 - val_accuracy: 0.7188\n",
      "Epoch 40/50\n",
      "141/141 [==============================] - 2s 15ms/step - loss: 0.9525 - accuracy: 0.8133 - val_loss: 1.6556 - val_accuracy: 0.7215\n",
      "Epoch 41/50\n",
      "141/141 [==============================] - 2s 15ms/step - loss: 0.9422 - accuracy: 0.8137 - val_loss: 1.6466 - val_accuracy: 0.7255\n",
      "Epoch 42/50\n",
      "141/141 [==============================] - 2s 16ms/step - loss: 0.9329 - accuracy: 0.8164 - val_loss: 1.6485 - val_accuracy: 0.7247\n",
      "Epoch 43/50\n",
      "141/141 [==============================] - 2s 15ms/step - loss: 0.9216 - accuracy: 0.8187 - val_loss: 1.6507 - val_accuracy: 0.7262\n",
      "Epoch 44/50\n",
      "141/141 [==============================] - 2s 16ms/step - loss: 0.9130 - accuracy: 0.8193 - val_loss: 1.6689 - val_accuracy: 0.7203\n",
      "Epoch 45/50\n",
      "141/141 [==============================] - 2s 15ms/step - loss: 0.9016 - accuracy: 0.8222 - val_loss: 1.6415 - val_accuracy: 0.7278\n",
      "Epoch 46/50\n",
      "141/141 [==============================] - 2s 14ms/step - loss: 0.8929 - accuracy: 0.8225 - val_loss: 1.6653 - val_accuracy: 0.7253\n",
      "Epoch 47/50\n",
      "141/141 [==============================] - 2s 14ms/step - loss: 0.8840 - accuracy: 0.8245 - val_loss: 1.6531 - val_accuracy: 0.7222\n",
      "Epoch 48/50\n",
      "141/141 [==============================] - 2s 14ms/step - loss: 0.8742 - accuracy: 0.8258 - val_loss: 1.6643 - val_accuracy: 0.7247\n",
      "Epoch 49/50\n",
      "141/141 [==============================] - 2s 14ms/step - loss: 0.8656 - accuracy: 0.8256 - val_loss: 1.6623 - val_accuracy: 0.7278\n",
      "Epoch 50/50\n",
      "141/141 [==============================] - 2s 15ms/step - loss: 0.8556 - accuracy: 0.8292 - val_loss: 1.6767 - val_accuracy: 0.7203\n"
     ]
    }
   ],
   "source": [
    "# Configure the model and start training\n",
    "# Stop training with early stopping with patience of 20\n",
    "callbacks_list = [EarlyStopping(monitor='loss', mode='min', min_delta=0.000001,\n",
    "                                patience=3, restore_best_weights=True, verbose=1,\n",
    "                                )]\n",
    "\n",
    "\n",
    "# history = model1.fit([y_processed_array, english_teacher_enc], english_target_enc,\n",
    "#                     validation_split=0.1,\n",
    "#                     epochs=5, batch_size=BATCH_SIZE,\n",
    "#                     callbacks=callbacks_list,\n",
    "#                     verbose=1)\n",
    "\n",
    "\n",
    "\n",
    "history = model1.fit([spanish_embedded_data, english_teacher_enc], english_target_enc,\n",
    "                    validation_split=0.1,\n",
    "                    epochs=50, batch_size=BATCH_SIZE,\n",
    "                    callbacks=callbacks_list,\n",
    "                    verbose=1)\n"
   ]
  },
  {
   "cell_type": "code",
   "execution_count": 29,
   "id": "3f06c77d-6189-4c5b-bbaf-eaee6f02ff3e",
   "metadata": {},
   "outputs": [
    {
     "data": {
      "image/png": "[encoded data removed]",
      "text/plain": [
       "<Figure size 2000x600 with 2 Axes>"
      ]
     },
     "metadata": {},
     "output_type": "display_data"
    }
   ],
   "source": [
    "import matplotlib.pyplot as plt\n",
    "\n",
    "plt.figure(figsize=(20, 6))\n",
    "# Plot the first subplot  loss)\n",
    "plt.subplot(1, 2, 1)  # 1 row, 2 columns, first subplot\n",
    "plt.plot(history.history[\"loss\"])\n",
    "plt.plot(history.history[\"val_loss\"])\n",
    "plt.title(\"validation loss & training loss\")\n",
    "plt.xlabel(\"epochs\")\n",
    "plt.ylabel(\"loss\")\n",
    "leg = plt.legend([\"training loss\", \"validation loss\"],loc =\"upper right\"); \n",
    "\n",
    "# Plot the second subplot ( accuracy)\n",
    "plt.subplot(1, 2, 2)  # 1 row, 2 columns, second subplot\n",
    "plt.plot(history.history[\"accuracy\"])\n",
    "plt.plot(history.history[\"val_accuracy\"])\n",
    "plt.title(\"validation accuracy & training loaccuracyss\")\n",
    "plt.xlabel(\"epochs\")\n",
    "plt.ylabel(\"accuracy\")\n",
    "leg = plt.legend([\"training accuracy\", \"validation accuracy\"],loc =\"upper left\"); \n",
    "\n",
    "plt.show()\n"
   ]
  },
  {
   "cell_type": "code",
   "execution_count": null,
   "id": "7b4b9de8",
   "metadata": {},
   "outputs": [],
   "source": []
  },
  {
   "cell_type": "markdown",
   "id": "22805726",
   "metadata": {},
   "source": [
    "### prediction "
   ]
  },
  {
   "cell_type": "code",
   "execution_count": 30,
   "id": "21eba011",
   "metadata": {},
   "outputs": [
    {
     "name": "stdout",
     "output_type": "stream",
     "text": [
      "157/157 [==============================] - 2s 6ms/step\n"
     ]
    }
   ],
   "source": [
    "y_pred=model1.predict([spanish_embedded_data, english_teacher_enc])"
   ]
  },
  {
   "cell_type": "code",
   "execution_count": 31,
   "id": "3bba9da8",
   "metadata": {},
   "outputs": [
    {
     "data": {
      "text/plain": [
       "(5000, 8, 1251)"
      ]
     },
     "execution_count": 31,
     "metadata": {},
     "output_type": "execute_result"
    }
   ],
   "source": [
    "y_pred.shape"
   ]
  },
  {
   "cell_type": "code",
   "execution_count": 32,
   "id": "5b343543",
   "metadata": {},
   "outputs": [],
   "source": [
    "# y_pred[1]"
   ]
  },
  {
   "cell_type": "code",
   "execution_count": 33,
   "id": "133f10b8",
   "metadata": {},
   "outputs": [],
   "source": [
    "# Pour décoder, il faut transformer un entier en mot.\n",
    "def get_word(n, tokenizer):\n",
    "    for word, index in tokenizer.word_index.items():\n",
    "        if index == n :\n",
    "            return word\n",
    "    return None\n",
    "    "
   ]
  },
  {
   "cell_type": "code",
   "execution_count": 34,
   "id": "c5ee4601",
   "metadata": {},
   "outputs": [],
   "source": [
    "from tensorflow.keras.preprocessing.text import Tokenizer\n",
    "\n",
    "# Now you can use the Tokenizer class\n",
    "# tokenizer = Tokenizer()\n",
    "\n",
    "def tokenization(lines):\n",
    "    tokenizer = Tokenizer()\n",
    "    tokenizer.fit_on_texts(lines)\n",
    "    return tokenizer\n",
    "\n"
   ]
  },
  {
   "cell_type": "code",
   "execution_count": 35,
   "id": "39912ade",
   "metadata": {},
   "outputs": [],
   "source": [
    "import pandas as pd\n",
    "import numpy as np\n",
    "\n",
    "# Assuming df is your DataFrame\n",
    "\n",
    "# Selecting data from the first two columns\n",
    "first_two_columns_data = data.iloc[:, :2]\n",
    "\n",
    "# Convert the selected data into a NumPy array\n",
    "fra_eng = np.array(first_two_columns_data.values)\n",
    "\n",
    "# print(\"Array Data:\")\n",
    "# print(array_data)\n"
   ]
  },
  {
   "cell_type": "code",
   "execution_count": 36,
   "id": "fb943fa7",
   "metadata": {},
   "outputs": [],
   "source": [
    "eng_tokenizer = tokenization(fra_eng[:,0])"
   ]
  },
  {
   "cell_type": "code",
   "execution_count": 37,
   "id": "45cb4cd3",
   "metadata": {},
   "outputs": [],
   "source": [
    "def get_word(index, tokenizer):\n",
    "    word = None\n",
    "    for word, idx in tokenizer.word_index.items():\n",
    "        if idx == index:\n",
    "            return word\n",
    "    return word\n"
   ]
  },
  {
   "cell_type": "code",
   "execution_count": 38,
   "id": "5ef38f05",
   "metadata": {},
   "outputs": [],
   "source": [
    "# preds_text = []\n",
    "\n",
    "# for i in y_pred:\n",
    "#     temp = []\n",
    "#     for j in range(len(i)):\n",
    "#         t = get_word(i[j], eng_tokenizer)\n",
    "#         if j>0:\n",
    "#             if (t ==get_word(i[j-1],eng_tokenizer ) or (t ==  None)):\n",
    "#                 temp.append(\"\")\n",
    "#             else:\n",
    "#                 temp.append(t)\n",
    "#         else:\n",
    "#             if(t == None):\n",
    "#                 temp.append(\"\")\n",
    "#             else:\n",
    "#                 temp.append(t)\n",
    "#     preds_text.append(\"\".join(temp))\n",
    "                "
   ]
  },
  {
   "cell_type": "code",
   "execution_count": null,
   "id": "33e7c917",
   "metadata": {},
   "outputs": [],
   "source": []
  },
  {
   "cell_type": "code",
   "execution_count": 39,
   "id": "5c06f122",
   "metadata": {},
   "outputs": [],
   "source": [
    "# pred_df = pd.DataFrame({\"actual\":data.iloc[:1000, 0], \"predicted\": preds_text})"
   ]
  },
  {
   "cell_type": "code",
   "execution_count": null,
   "id": "75fa8145",
   "metadata": {},
   "outputs": [],
   "source": []
  },
  {
   "cell_type": "code",
   "execution_count": null,
   "id": "b4e54cef",
   "metadata": {},
   "outputs": [],
   "source": []
  },
  {
   "cell_type": "markdown",
   "id": "3d2a1362",
   "metadata": {},
   "source": [
    "##  basic model -2"
   ]
  },
  {
   "cell_type": "markdown",
   "id": "06d14f2e",
   "metadata": {},
   "source": [
    "**ENCODER**"
   ]
  },
  {
   "cell_type": "code",
   "execution_count": 40,
   "id": "a297058c",
   "metadata": {},
   "outputs": [],
   "source": [
    "from keras.models import Model\n",
    "from keras.layers import Input, LSTM, Dense\n",
    "\n",
    "# Define an input sequence and process it.\n",
    "encoder_inputs = Input(shape=(None,))\n",
    "layer_embedding = layers.Embedding(vocab_size_spanish, embedding_dim)\n",
    "embedding_layer_final = layer_embedding(encoder_inputs)\n",
    "\n",
    "encoder = LSTM(latent_dim, return_state=True)\n",
    "encoder_outputs, state_h, state_c = encoder(embedding_layer_final)\n",
    "# We discard `encoder_outputs` and only keep the states.\n",
    "encoder_states = [state_h, state_c]\n",
    "\n"
   ]
  },
  {
   "cell_type": "markdown",
   "id": "94b0b915",
   "metadata": {},
   "source": [
    "**DECODER**"
   ]
  },
  {
   "cell_type": "code",
   "execution_count": 41,
   "id": "7651fa4f",
   "metadata": {},
   "outputs": [],
   "source": [
    "# Set up the decoder, using `encoder_states` as initial state.\n",
    "decoder_inputs = Input(shape=(None,))\n",
    "# We set up our decoder to return full output sequences,\n",
    "# and to return internal states as well. We don't use the \n",
    "# return states in the training model, but we will use them in inference.\n",
    "\n",
    "layer_embedding_decoder = layers.Embedding(vocab_size_english, embedding_dim)\n",
    "x =layer_embedding_decoder(decoder_inputs)\n",
    "\n",
    "decoder_lstm = LSTM(latent_dim, return_sequences=True, return_state=True)\n",
    "decoder_outputs, _, _ = decoder_lstm(x,\n",
    "                                     initial_state=encoder_states)\n",
    "decoder_dense = Dense(vocab_size_english, activation='softmax')\n",
    "decoder_outputs = decoder_dense(decoder_outputs)\n",
    "\n",
    "# Define the model that will turn\n",
    "# `encoder_input_data` & `decoder_input_data` into `decoder_target_data`\n",
    "model_encoder_training = Model([encoder_inputs, decoder_inputs], decoder_outputs, name=\"model_encoder_training\")"
   ]
  },
  {
   "cell_type": "code",
   "execution_count": null,
   "id": "ea4023b3",
   "metadata": {},
   "outputs": [],
   "source": []
  },
  {
   "cell_type": "code",
   "execution_count": 42,
   "id": "bbc7762f",
   "metadata": {},
   "outputs": [
    {
     "name": "stdout",
     "output_type": "stream",
     "text": [
      "Model: \"model_encoder_training\"\n",
      "__________________________________________________________________________________________________\n",
      " Layer (type)                Output Shape                 Param #   Connected to                  \n",
      "==================================================================================================\n",
      " input_1 (InputLayer)        [(None, None)]               0         []                            \n",
      "                                                                                                  \n",
      " input_2 (InputLayer)        [(None, None)]               0         []                            \n",
      "                                                                                                  \n",
      " embedding (Embedding)       (None, None, 100)            278200    ['input_1[0][0]']             \n",
      "                                                                                                  \n",
      " embedding_1 (Embedding)     (None, None, 100)            125100    ['input_2[0][0]']             \n",
      "                                                                                                  \n",
      " lstm_2 (LSTM)               [(None, 64),                 42240     ['embedding[0][0]']           \n",
      "                              (None, 64),                                                         \n",
      "                              (None, 64)]                                                         \n",
      "                                                                                                  \n",
      " lstm_3 (LSTM)               [(None, None, 64),           42240     ['embedding_1[0][0]',         \n",
      "                              (None, 64),                            'lstm_2[0][1]',              \n",
      "                              (None, 64)]                            'lstm_2[0][2]']              \n",
      "                                                                                                  \n",
      " dense_1 (Dense)             (None, None, 1251)           81315     ['lstm_3[0][0]']              \n",
      "                                                                                                  \n",
      "==================================================================================================\n",
      "Total params: 569095 (2.17 MB)\n",
      "Trainable params: 569095 (2.17 MB)\n",
      "Non-trainable params: 0 (0.00 Byte)\n",
      "__________________________________________________________________________________________________\n"
     ]
    }
   ],
   "source": [
    "model_encoder_training.summary()"
   ]
  },
  {
   "cell_type": "code",
   "execution_count": 43,
   "id": "af6f04dd",
   "metadata": {},
   "outputs": [
    {
     "data": {
      "image/png": "[encoded data removed]",
      "text/plain": [
       "<IPython.core.display.Image object>"
      ]
     },
     "execution_count": 43,
     "metadata": {},
     "output_type": "execute_result"
    }
   ],
   "source": [
    "from tensorflow.keras.utils import plot_model\n",
    "\n",
    "plot_model(model_encoder_training, to_file='model_plot2.png', show_shapes=True, show_layer_names=True)"
   ]
  },
  {
   "cell_type": "code",
   "execution_count": 44,
   "id": "92768dee",
   "metadata": {},
   "outputs": [],
   "source": [
    "# Run training\n",
    "# model.compile(optimizer='rmsprop', loss='categorical_crossentropy')\n",
    "\n",
    "\n",
    "model_encoder_training.compile(loss='sparse_categorical_crossentropy', optimizer='rmsprop', metrics=['accuracy'])\n",
    "\n"
   ]
  },
  {
   "cell_type": "code",
   "execution_count": 45,
   "id": "e044e621",
   "metadata": {},
   "outputs": [],
   "source": [
    "# spanish_embedded_data_test = spanish_vectorizer(y_test)\n",
    "# english_teacher_enc_test = english_vectorizer(X_test)"
   ]
  },
  {
   "cell_type": "code",
   "execution_count": null,
   "id": "2a0e87a6",
   "metadata": {},
   "outputs": [],
   "source": []
  },
  {
   "cell_type": "code",
   "execution_count": 46,
   "id": "748a0f4d",
   "metadata": {},
   "outputs": [
    {
     "name": "stdout",
     "output_type": "stream",
     "text": [
      "Epoch 1/50\n",
      "141/141 [==============================] - 11s 24ms/step - loss: 3.5872 - accuracy: 0.4167 - val_loss: 2.8518 - val_accuracy: 0.3862\n",
      "Epoch 2/50\n",
      "141/141 [==============================] - 3s 19ms/step - loss: 2.2823 - accuracy: 0.6077 - val_loss: 2.4695 - val_accuracy: 0.5860\n",
      "Epoch 3/50\n",
      "141/141 [==============================] - 3s 20ms/step - loss: 1.9656 - accuracy: 0.6792 - val_loss: 2.3310 - val_accuracy: 0.5847\n",
      "Epoch 4/50\n",
      "141/141 [==============================] - 3s 20ms/step - loss: 1.8525 - accuracy: 0.6870 - val_loss: 2.2511 - val_accuracy: 0.5860\n",
      "Epoch 5/50\n",
      "141/141 [==============================] - 5s 38ms/step - loss: 1.7711 - accuracy: 0.6907 - val_loss: 2.1590 - val_accuracy: 0.5882\n",
      "Epoch 6/50\n",
      "141/141 [==============================] - 5s 38ms/step - loss: 1.7029 - accuracy: 0.6941 - val_loss: 2.0958 - val_accuracy: 0.6140\n",
      "Epoch 7/50\n",
      "141/141 [==============================] - 3s 21ms/step - loss: 1.6500 - accuracy: 0.7032 - val_loss: 2.0590 - val_accuracy: 0.6175\n",
      "Epoch 8/50\n",
      "141/141 [==============================] - 3s 24ms/step - loss: 1.6046 - accuracy: 0.7066 - val_loss: 2.0175 - val_accuracy: 0.6335\n",
      "Epoch 9/50\n",
      "141/141 [==============================] - 3s 19ms/step - loss: 1.5628 - accuracy: 0.7096 - val_loss: 1.9809 - val_accuracy: 0.6438\n",
      "Epoch 10/50\n",
      "141/141 [==============================] - 3s 19ms/step - loss: 1.5256 - accuracy: 0.7122 - val_loss: 1.9718 - val_accuracy: 0.6472\n",
      "Epoch 11/50\n",
      "141/141 [==============================] - 3s 19ms/step - loss: 1.4905 - accuracy: 0.7159 - val_loss: 1.9298 - val_accuracy: 0.6597\n",
      "Epoch 12/50\n",
      "141/141 [==============================] - 2s 16ms/step - loss: 1.4591 - accuracy: 0.7232 - val_loss: 1.9221 - val_accuracy: 0.6582\n",
      "Epoch 13/50\n",
      "141/141 [==============================] - 2s 15ms/step - loss: 1.4313 - accuracy: 0.7274 - val_loss: 1.9010 - val_accuracy: 0.6585\n",
      "Epoch 14/50\n",
      "141/141 [==============================] - 3s 18ms/step - loss: 1.4061 - accuracy: 0.7333 - val_loss: 1.8950 - val_accuracy: 0.6607\n",
      "Epoch 15/50\n",
      "141/141 [==============================] - 2s 17ms/step - loss: 1.3846 - accuracy: 0.7358 - val_loss: 1.8586 - val_accuracy: 0.6643\n",
      "Epoch 16/50\n",
      "141/141 [==============================] - 3s 20ms/step - loss: 1.3595 - accuracy: 0.7430 - val_loss: 1.8746 - val_accuracy: 0.6650\n",
      "Epoch 17/50\n",
      "141/141 [==============================] - 3s 22ms/step - loss: 1.3333 - accuracy: 0.7489 - val_loss: 1.8323 - val_accuracy: 0.6743\n",
      "Epoch 18/50\n",
      "141/141 [==============================] - 2s 18ms/step - loss: 1.3069 - accuracy: 0.7531 - val_loss: 1.8239 - val_accuracy: 0.6658\n",
      "Epoch 19/50\n",
      "141/141 [==============================] - 2s 17ms/step - loss: 1.2822 - accuracy: 0.7572 - val_loss: 1.8093 - val_accuracy: 0.6705\n",
      "Epoch 20/50\n",
      "141/141 [==============================] - 2s 16ms/step - loss: 1.2580 - accuracy: 0.7621 - val_loss: 1.8174 - val_accuracy: 0.6765\n",
      "Epoch 21/50\n",
      "141/141 [==============================] - 3s 18ms/step - loss: 1.2368 - accuracy: 0.7644 - val_loss: 1.7915 - val_accuracy: 0.6775\n",
      "Epoch 22/50\n",
      "141/141 [==============================] - 3s 20ms/step - loss: 1.2167 - accuracy: 0.7686 - val_loss: 1.7714 - val_accuracy: 0.6775\n",
      "Epoch 23/50\n",
      "141/141 [==============================] - 2s 17ms/step - loss: 1.1960 - accuracy: 0.7722 - val_loss: 1.7805 - val_accuracy: 0.6725\n",
      "Epoch 24/50\n",
      "141/141 [==============================] - 2s 16ms/step - loss: 1.1778 - accuracy: 0.7741 - val_loss: 1.7436 - val_accuracy: 0.6810\n",
      "Epoch 25/50\n",
      "141/141 [==============================] - 2s 15ms/step - loss: 1.1588 - accuracy: 0.7776 - val_loss: 1.7305 - val_accuracy: 0.6845\n",
      "Epoch 26/50\n",
      "141/141 [==============================] - 2s 17ms/step - loss: 1.1404 - accuracy: 0.7799 - val_loss: 1.7134 - val_accuracy: 0.6920\n",
      "Epoch 27/50\n",
      "141/141 [==============================] - 2s 17ms/step - loss: 1.1238 - accuracy: 0.7825 - val_loss: 1.7361 - val_accuracy: 0.6923\n",
      "Epoch 28/50\n",
      "141/141 [==============================] - 3s 21ms/step - loss: 1.1076 - accuracy: 0.7864 - val_loss: 1.7343 - val_accuracy: 0.6933\n",
      "Epoch 29/50\n",
      "141/141 [==============================] - 3s 22ms/step - loss: 1.0923 - accuracy: 0.7894 - val_loss: 1.7086 - val_accuracy: 0.7017\n",
      "Epoch 30/50\n",
      "141/141 [==============================] - 3s 20ms/step - loss: 1.0764 - accuracy: 0.7925 - val_loss: 1.7082 - val_accuracy: 0.7132\n",
      "Epoch 31/50\n",
      "141/141 [==============================] - 3s 23ms/step - loss: 1.0604 - accuracy: 0.7968 - val_loss: 1.7165 - val_accuracy: 0.7143\n",
      "Epoch 32/50\n",
      "141/141 [==============================] - 3s 23ms/step - loss: 1.0465 - accuracy: 0.7986 - val_loss: 1.6828 - val_accuracy: 0.7175\n",
      "Epoch 33/50\n",
      "141/141 [==============================] - 3s 21ms/step - loss: 1.0324 - accuracy: 0.8018 - val_loss: 1.6752 - val_accuracy: 0.7205\n",
      "Epoch 34/50\n",
      "141/141 [==============================] - 2s 18ms/step - loss: 1.0186 - accuracy: 0.8037 - val_loss: 1.6835 - val_accuracy: 0.7172\n",
      "Epoch 35/50\n",
      "141/141 [==============================] - 3s 20ms/step - loss: 1.0061 - accuracy: 0.8061 - val_loss: 1.7275 - val_accuracy: 0.7100\n",
      "Epoch 36/50\n",
      "141/141 [==============================] - 2s 16ms/step - loss: 0.9935 - accuracy: 0.8077 - val_loss: 1.6993 - val_accuracy: 0.7175\n",
      "Epoch 37/50\n",
      "141/141 [==============================] - 2s 16ms/step - loss: 0.9800 - accuracy: 0.8108 - val_loss: 1.6655 - val_accuracy: 0.7228\n",
      "Epoch 38/50\n",
      "141/141 [==============================] - 3s 18ms/step - loss: 0.9685 - accuracy: 0.8110 - val_loss: 1.6922 - val_accuracy: 0.7178\n",
      "Epoch 39/50\n",
      "141/141 [==============================] - 3s 18ms/step - loss: 0.9560 - accuracy: 0.8141 - val_loss: 1.6722 - val_accuracy: 0.7218\n",
      "Epoch 40/50\n",
      "141/141 [==============================] - 2s 16ms/step - loss: 0.9458 - accuracy: 0.8152 - val_loss: 1.6555 - val_accuracy: 0.7290\n",
      "Epoch 41/50\n",
      "141/141 [==============================] - 3s 18ms/step - loss: 0.9347 - accuracy: 0.8176 - val_loss: 1.6500 - val_accuracy: 0.7290\n",
      "Epoch 42/50\n",
      "141/141 [==============================] - 3s 21ms/step - loss: 0.9229 - accuracy: 0.8192 - val_loss: 1.6546 - val_accuracy: 0.7303\n",
      "Epoch 43/50\n",
      "141/141 [==============================] - 2s 16ms/step - loss: 0.9134 - accuracy: 0.8202 - val_loss: 1.6528 - val_accuracy: 0.7278\n",
      "Epoch 44/50\n",
      "141/141 [==============================] - 2s 16ms/step - loss: 0.9021 - accuracy: 0.8223 - val_loss: 1.6514 - val_accuracy: 0.7245\n",
      "Epoch 45/50\n",
      "141/141 [==============================] - 2s 16ms/step - loss: 0.8918 - accuracy: 0.8237 - val_loss: 1.6680 - val_accuracy: 0.7240\n",
      "Epoch 46/50\n",
      "141/141 [==============================] - 2s 15ms/step - loss: 0.8812 - accuracy: 0.8251 - val_loss: 1.6490 - val_accuracy: 0.7295\n",
      "Epoch 47/50\n",
      "141/141 [==============================] - 2s 15ms/step - loss: 0.8727 - accuracy: 0.8264 - val_loss: 1.6400 - val_accuracy: 0.7310\n",
      "Epoch 48/50\n",
      "141/141 [==============================] - 2s 15ms/step - loss: 0.8628 - accuracy: 0.8282 - val_loss: 1.6545 - val_accuracy: 0.7303\n",
      "Epoch 49/50\n",
      "141/141 [==============================] - 2s 15ms/step - loss: 0.8536 - accuracy: 0.8300 - val_loss: 1.6520 - val_accuracy: 0.7320\n",
      "Epoch 50/50\n",
      "141/141 [==============================] - 2s 15ms/step - loss: 0.8428 - accuracy: 0.8325 - val_loss: 1.6483 - val_accuracy: 0.7318\n"
     ]
    }
   ],
   "source": [
    "# Configure the model and start training\n",
    "# Stop training with early stopping with patience of 20\n",
    "callbacks_list = [EarlyStopping(monitor='loss', mode='min', min_delta=0.000001,\n",
    "                                patience=3, restore_best_weights=True, verbose=1,\n",
    "                                )]\n",
    "\n",
    "\n",
    "# history = model1.fit([y_processed_array, english_teacher_enc], english_target_enc,\n",
    "#                     validation_split=0.1,\n",
    "#                     epochs=5, batch_size=BATCH_SIZE,\n",
    "#                     callbacks=callbacks_list,\n",
    "#                     verbose=1)\n",
    "\n",
    "\n",
    "\n",
    "history = model_encoder_training.fit([spanish_embedded_data, english_teacher_enc], english_target_enc,\n",
    "                    validation_split=0.1,\n",
    "                    epochs=50, batch_size=BATCH_SIZE,\n",
    "                    callbacks=callbacks_list,\n",
    "                    verbose=1)"
   ]
  },
  {
   "cell_type": "code",
   "execution_count": null,
   "id": "53b9336e",
   "metadata": {},
   "outputs": [],
   "source": []
  },
  {
   "cell_type": "markdown",
   "id": "b463b4cc-9ebe-4c39-a893-f7ff5902e652",
   "metadata": {
    "tags": []
   },
   "source": [
    "## Inference"
   ]
  },
  {
   "cell_type": "code",
   "execution_count": null,
   "id": "b0447e14",
   "metadata": {},
   "outputs": [],
   "source": []
  },
  {
   "cell_type": "code",
   "execution_count": 47,
   "id": "cd4f5706",
   "metadata": {},
   "outputs": [],
   "source": [
    "encoder_model = Model(encoder_inputs, encoder_states)\n",
    "\n",
    "decoder_state_input_h = Input(shape=(latent_dim,))\n",
    "decoder_state_input_c = Input(shape=(latent_dim,))\n",
    "decoder_states_inputs = [decoder_state_input_h, decoder_state_input_c]\n",
    "\n",
    "layer_embedding_decoder_inf = layer_embedding_decoder(decoder_inputs)\n",
    "decoder_outputs, state_h, state_c = decoder_lstm(\n",
    "    layer_embedding_decoder_inf , initial_state=decoder_states_inputs)\n",
    "\n",
    "\n",
    "decoder_states = [state_h, state_c]\n",
    "decoder_outputs = decoder_dense(decoder_outputs)\n",
    "decoder_model = Model(\n",
    "    [decoder_inputs] + decoder_states_inputs,\n",
    "    [decoder_outputs] + decoder_states)"
   ]
  },
  {
   "cell_type": "code",
   "execution_count": 48,
   "id": "4c0dc677",
   "metadata": {},
   "outputs": [],
   "source": [
    "# def decode_sequence(input_seq):\n",
    "#     # Encode the input as state vectors.\n",
    "#     states_value = encoder_model.predict(input_seq)\n",
    "#     # Iterate over decoded sentence. Target_seq is the input of the decoder\n",
    "#     target_seq = np.zeros((len(input_seq), 1))\n",
    "#     target_seq[:, 0] = word2token[\"<start>\"]\n",
    "#     print(target_seq.shape)\n",
    "#     output_sequence = [] # Output_sequence is the output of the decoder\n",
    "#     for _ in range(vocab_size_english):   # vocab_size_english = max_output_length\n",
    "#         output_value, h, c = decoder_model.predict( [target_seq] + states_value)\n",
    "#         # Update the target sequence (of length 1) and state\n",
    "#         target_seq[:, 0] = decode(output_value)\n",
    "#         states_value = [h, c]\n",
    "#         # extend output sequence\n",
    "#         output_sequence += [target_seq]\n",
    "#     return output_sequence # eventually format i"
   ]
  },
  {
   "cell_type": "code",
   "execution_count": 49,
   "id": "14dd8407",
   "metadata": {},
   "outputs": [],
   "source": [
    "def decode_sequence(input_seq):\n",
    "    # Encode the input as state vectors.\n",
    "    states_value = encoder_model.predict(input_seq)\n",
    "    \n",
    "    # Initialize target sequence\n",
    "    target_seq = np.zeros((input_seq.shape[0], 1))  # Assuming input_seq is a NumPy array\n",
    "    \n",
    "    # Initialize output sequence\n",
    "    output_sequence = []\n",
    "    \n",
    "    for _ in range(vocab_size_english):  # Assuming max_output_length is defined somewhere\n",
    "        output_value, h, c = decoder_model.predict([target_seq] + states_value)\n",
    "        \n",
    "        # Update the target sequence\n",
    "        sampled_token_index = np.argmax(output_value, axis=-1)\n",
    "        target_seq = sampled_token_index.reshape(-1, 1)\n",
    "        \n",
    "        # Update states\n",
    "        states_value = [h, c]\n",
    "        \n",
    "        # Append the predicted token to the output sequence\n",
    "        output_sequence.append(sampled_token_index)\n",
    "        \n",
    "    return np.array(output_sequence)  # Convert the output sequence to a NumPy array\n",
    "\n",
    "\n"
   ]
  },
  {
   "cell_type": "code",
   "execution_count": null,
   "id": "6df61f65-c5c9-413f-aa00-33d03b81b46e",
   "metadata": {},
   "outputs": [
    {
     "name": "stdout",
     "output_type": "stream",
     "text": [
      "157/157 [==============================] - 1s 4ms/step\n",
      "157/157 [==============================] - 1s 2ms/step\n",
      "157/157 [==============================] - 1s 2ms/step\n",
      "157/157 [==============================] - 0s 3ms/step\n",
      "157/157 [==============================] - 0s 2ms/step\n",
      "157/157 [==============================] - 0s 2ms/step\n",
      "157/157 [==============================] - 0s 2ms/step\n",
      "157/157 [==============================] - 0s 3ms/step\n",
      "157/157 [==============================] - 0s 2ms/step\n",
      "157/157 [==============================] - 0s 3ms/step\n",
      "157/157 [==============================] - 0s 3ms/step\n",
      "157/157 [==============================] - 0s 2ms/step\n",
      "157/157 [==============================] - 0s 2ms/step\n",
      "157/157 [==============================] - 0s 2ms/step\n",
      "157/157 [==============================] - 0s 2ms/step\n",
      "157/157 [==============================] - 0s 2ms/step\n",
      "157/157 [==============================] - 0s 3ms/step\n",
      "157/157 [==============================] - 0s 3ms/step\n",
      "157/157 [==============================] - 0s 3ms/step\n",
      "157/157 [==============================] - 0s 3ms/step\n",
      "157/157 [==============================] - 0s 2ms/step\n",
      "157/157 [==============================] - 0s 3ms/step\n",
      "157/157 [==============================] - 0s 3ms/step\n",
      "157/157 [==============================] - 0s 3ms/step\n",
      "157/157 [==============================] - 0s 3ms/step\n",
      "157/157 [==============================] - 0s 2ms/step\n",
      "157/157 [==============================] - 0s 2ms/step\n",
      "157/157 [==============================] - 0s 2ms/step\n",
      "157/157 [==============================] - 0s 2ms/step\n",
      "157/157 [==============================] - 0s 2ms/step\n",
      "157/157 [==============================] - 0s 2ms/step\n",
      "157/157 [==============================] - 0s 2ms/step\n",
      "157/157 [==============================] - 0s 3ms/step\n",
      "157/157 [==============================] - 0s 2ms/step\n",
      "157/157 [==============================] - 1s 3ms/step\n",
      "157/157 [==============================] - 0s 3ms/step\n",
      "157/157 [==============================] - 0s 2ms/step\n",
      "157/157 [==============================] - 0s 3ms/step\n",
      "157/157 [==============================] - 1s 3ms/step\n",
      "157/157 [==============================] - 0s 3ms/step\n",
      "157/157 [==============================] - 0s 2ms/step\n",
      "157/157 [==============================] - 0s 2ms/step\n",
      "157/157 [==============================] - 0s 3ms/step\n",
      "157/157 [==============================] - 0s 2ms/step\n",
      "157/157 [==============================] - 0s 3ms/step\n",
      "157/157 [==============================] - 1s 3ms/step\n",
      "157/157 [==============================] - 1s 3ms/step\n",
      "157/157 [==============================] - 0s 3ms/step\n",
      "157/157 [==============================] - 1s 3ms/step\n",
      "157/157 [==============================] - 0s 3ms/step\n",
      "157/157 [==============================] - 0s 3ms/step\n",
      "157/157 [==============================] - 0s 3ms/step\n",
      "157/157 [==============================] - 0s 2ms/step\n",
      "157/157 [==============================] - 0s 3ms/step\n",
      "157/157 [==============================] - 0s 2ms/step\n",
      "157/157 [==============================] - 0s 2ms/step\n",
      "157/157 [==============================] - 0s 2ms/step\n",
      "157/157 [==============================] - 0s 2ms/step\n",
      "157/157 [==============================] - 0s 2ms/step\n",
      "157/157 [==============================] - 0s 2ms/step\n",
      "157/157 [==============================] - 0s 2ms/step\n",
      "157/157 [==============================] - 0s 3ms/step\n",
      "157/157 [==============================] - 0s 2ms/step\n",
      "157/157 [==============================] - 0s 2ms/step\n",
      "157/157 [==============================] - 0s 2ms/step\n",
      "157/157 [==============================] - 0s 2ms/step\n",
      "157/157 [==============================] - 0s 2ms/step\n",
      "157/157 [==============================] - 0s 2ms/step\n",
      "157/157 [==============================] - 0s 2ms/step\n",
      "157/157 [==============================] - 0s 2ms/step\n",
      "157/157 [==============================] - 0s 2ms/step\n",
      "157/157 [==============================] - 0s 2ms/step\n",
      "157/157 [==============================] - 0s 3ms/step\n",
      "157/157 [==============================] - 0s 2ms/step\n",
      "157/157 [==============================] - 0s 2ms/step\n",
      "157/157 [==============================] - 0s 3ms/step\n",
      "157/157 [==============================] - 0s 2ms/step\n",
      "157/157 [==============================] - 0s 3ms/step\n",
      "157/157 [==============================] - 0s 2ms/step\n",
      "157/157 [==============================] - 0s 3ms/step\n",
      "157/157 [==============================] - 0s 2ms/step\n",
      "157/157 [==============================] - 0s 3ms/step\n",
      "157/157 [==============================] - 0s 2ms/step\n",
      "157/157 [==============================] - 1s 4ms/step\n",
      "157/157 [==============================] - 1s 3ms/step\n",
      "157/157 [==============================] - 1s 3ms/step\n",
      "157/157 [==============================] - 1s 3ms/step\n",
      "157/157 [==============================] - 0s 3ms/step\n",
      "157/157 [==============================] - 1s 3ms/step\n",
      "157/157 [==============================] - 0s 2ms/step\n",
      "157/157 [==============================] - 0s 3ms/step\n",
      "157/157 [==============================] - 0s 2ms/step\n",
      "157/157 [==============================] - 0s 3ms/step\n",
      "157/157 [==============================] - 0s 3ms/step\n",
      "157/157 [==============================] - 0s 3ms/step\n",
      "157/157 [==============================] - 0s 2ms/step\n",
      "157/157 [==============================] - 0s 3ms/step\n",
      "157/157 [==============================] - 0s 3ms/step\n",
      "157/157 [==============================] - 0s 2ms/step\n",
      "157/157 [==============================] - 0s 2ms/step\n",
      "157/157 [==============================] - 0s 3ms/step\n",
      "157/157 [==============================] - 0s 2ms/step\n",
      "157/157 [==============================] - 0s 3ms/step\n",
      "157/157 [==============================] - 0s 2ms/step\n",
      "157/157 [==============================] - 0s 2ms/step\n",
      "157/157 [==============================] - 0s 3ms/step\n",
      "157/157 [==============================] - 0s 2ms/step\n",
      "157/157 [==============================] - 0s 2ms/step\n",
      "157/157 [==============================] - 0s 2ms/step\n",
      "157/157 [==============================] - 0s 2ms/step\n",
      "157/157 [==============================] - 0s 2ms/step\n",
      "157/157 [==============================] - 0s 2ms/step\n",
      "157/157 [==============================] - 0s 3ms/step\n",
      "157/157 [==============================] - 0s 2ms/step\n",
      "157/157 [==============================] - 0s 2ms/step\n",
      "157/157 [==============================] - 0s 2ms/step\n",
      "157/157 [==============================] - 0s 2ms/step\n",
      "157/157 [==============================] - 0s 2ms/step\n",
      "157/157 [==============================] - 0s 2ms/step\n",
      "157/157 [==============================] - 0s 2ms/step\n",
      "157/157 [==============================] - 0s 2ms/step\n",
      "157/157 [==============================] - 0s 2ms/step\n",
      "157/157 [==============================] - 0s 2ms/step\n",
      "157/157 [==============================] - 0s 2ms/step\n",
      "157/157 [==============================] - 0s 2ms/step\n",
      "157/157 [==============================] - 0s 2ms/step\n",
      "157/157 [==============================] - 0s 2ms/step\n",
      "157/157 [==============================] - 0s 2ms/step\n",
      "157/157 [==============================] - 0s 2ms/step\n",
      "157/157 [==============================] - 0s 2ms/step\n",
      "157/157 [==============================] - 0s 2ms/step\n",
      "157/157 [==============================] - 0s 2ms/step\n",
      "157/157 [==============================] - 0s 2ms/step\n",
      "157/157 [==============================] - 0s 3ms/step\n",
      "157/157 [==============================] - 1s 3ms/step\n",
      "157/157 [==============================] - 0s 3ms/step\n",
      "157/157 [==============================] - 0s 3ms/step\n",
      "157/157 [==============================] - 0s 2ms/step\n",
      "157/157 [==============================] - 0s 2ms/step\n",
      "157/157 [==============================] - 1s 3ms/step\n",
      "157/157 [==============================] - 0s 2ms/step\n",
      "157/157 [==============================] - 0s 2ms/step\n",
      "157/157 [==============================] - 0s 2ms/step\n",
      "157/157 [==============================] - 0s 3ms/step\n",
      "157/157 [==============================] - 1s 3ms/step\n",
      "157/157 [==============================] - 0s 2ms/step\n",
      "157/157 [==============================] - 0s 2ms/step\n",
      "157/157 [==============================] - 0s 3ms/step\n",
      "157/157 [==============================] - 1s 3ms/step\n"
     ]
    },
    {
     "name": "stdout",
     "output_type": "stream",
     "text": [
      "157/157 [==============================] - 0s 2ms/step\n",
      "157/157 [==============================] - 0s 3ms/step\n",
      "157/157 [==============================] - 0s 2ms/step\n",
      "157/157 [==============================] - 0s 2ms/step\n",
      "157/157 [==============================] - 0s 3ms/step\n",
      "157/157 [==============================] - 0s 3ms/step\n",
      "157/157 [==============================] - 0s 2ms/step\n",
      "157/157 [==============================] - 0s 2ms/step\n",
      "157/157 [==============================] - 0s 2ms/step\n",
      "157/157 [==============================] - 0s 2ms/step\n",
      "157/157 [==============================] - 0s 2ms/step\n",
      "157/157 [==============================] - 0s 2ms/step\n",
      "157/157 [==============================] - 0s 2ms/step\n",
      "157/157 [==============================] - 0s 2ms/step\n",
      "157/157 [==============================] - 0s 3ms/step\n",
      "157/157 [==============================] - 0s 2ms/step\n",
      "157/157 [==============================] - 0s 2ms/step\n",
      "157/157 [==============================] - 0s 2ms/step\n",
      "157/157 [==============================] - 0s 2ms/step\n",
      "157/157 [==============================] - 0s 2ms/step\n",
      "157/157 [==============================] - 0s 2ms/step\n",
      "157/157 [==============================] - 0s 2ms/step\n",
      "157/157 [==============================] - 0s 2ms/step\n",
      "157/157 [==============================] - 0s 2ms/step\n",
      "157/157 [==============================] - 0s 2ms/step\n",
      "157/157 [==============================] - 0s 2ms/step\n",
      "157/157 [==============================] - 0s 2ms/step\n",
      "157/157 [==============================] - 0s 2ms/step\n",
      "157/157 [==============================] - 0s 2ms/step\n",
      "157/157 [==============================] - 0s 2ms/step\n",
      "157/157 [==============================] - 0s 2ms/step\n",
      "157/157 [==============================] - 0s 2ms/step\n",
      "157/157 [==============================] - 0s 3ms/step\n",
      "157/157 [==============================] - 0s 3ms/step\n",
      "157/157 [==============================] - 0s 3ms/step\n",
      "157/157 [==============================] - 0s 2ms/step\n",
      "157/157 [==============================] - 0s 2ms/step\n",
      "157/157 [==============================] - 0s 2ms/step\n",
      "157/157 [==============================] - 0s 2ms/step\n",
      "157/157 [==============================] - 0s 2ms/step\n",
      "157/157 [==============================] - 0s 3ms/step\n",
      "157/157 [==============================] - 0s 2ms/step\n",
      "157/157 [==============================] - 0s 3ms/step\n",
      "157/157 [==============================] - 0s 2ms/step\n",
      "157/157 [==============================] - 0s 3ms/step\n",
      "157/157 [==============================] - 0s 2ms/step\n",
      "157/157 [==============================] - 0s 2ms/step\n",
      "157/157 [==============================] - 0s 2ms/step\n",
      "157/157 [==============================] - 0s 3ms/step\n",
      "157/157 [==============================] - 0s 2ms/step\n",
      "157/157 [==============================] - 0s 3ms/step\n",
      "157/157 [==============================] - 0s 2ms/step\n",
      "157/157 [==============================] - 0s 2ms/step\n",
      "157/157 [==============================] - 0s 2ms/step\n",
      "157/157 [==============================] - 0s 2ms/step\n",
      "157/157 [==============================] - 0s 2ms/step\n",
      "157/157 [==============================] - 0s 2ms/step\n",
      "157/157 [==============================] - 0s 2ms/step\n",
      "157/157 [==============================] - 0s 2ms/step\n",
      "157/157 [==============================] - 0s 3ms/step\n",
      "157/157 [==============================] - 0s 2ms/step\n",
      "157/157 [==============================] - 0s 2ms/step\n",
      "157/157 [==============================] - 0s 2ms/step\n",
      "157/157 [==============================] - 0s 2ms/step\n",
      "157/157 [==============================] - 0s 2ms/step\n",
      "157/157 [==============================] - 0s 2ms/step\n",
      "157/157 [==============================] - 0s 2ms/step\n",
      "157/157 [==============================] - 0s 2ms/step\n",
      "157/157 [==============================] - 0s 2ms/step\n",
      "157/157 [==============================] - 0s 2ms/step\n",
      "157/157 [==============================] - 0s 2ms/step\n",
      "157/157 [==============================] - 0s 2ms/step\n",
      "157/157 [==============================] - 0s 2ms/step\n",
      "157/157 [==============================] - 0s 2ms/step\n",
      "157/157 [==============================] - 0s 2ms/step\n",
      "157/157 [==============================] - 0s 2ms/step\n",
      "157/157 [==============================] - 0s 2ms/step\n",
      "157/157 [==============================] - 0s 2ms/step\n",
      "157/157 [==============================] - 0s 2ms/step\n",
      "157/157 [==============================] - 0s 2ms/step\n",
      "157/157 [==============================] - 0s 2ms/step\n",
      "157/157 [==============================] - 0s 3ms/step\n",
      "157/157 [==============================] - 0s 2ms/step\n",
      "157/157 [==============================] - 0s 2ms/step\n",
      "157/157 [==============================] - 0s 2ms/step\n",
      "157/157 [==============================] - 0s 2ms/step\n",
      "157/157 [==============================] - 0s 3ms/step\n",
      "157/157 [==============================] - 0s 2ms/step\n",
      "157/157 [==============================] - 0s 2ms/step\n",
      "157/157 [==============================] - 0s 2ms/step\n",
      "157/157 [==============================] - 0s 2ms/step\n",
      "157/157 [==============================] - 0s 2ms/step\n",
      "157/157 [==============================] - 0s 2ms/step\n",
      "157/157 [==============================] - 0s 2ms/step\n",
      "157/157 [==============================] - 0s 2ms/step\n",
      "157/157 [==============================] - 0s 2ms/step\n",
      "157/157 [==============================] - 0s 2ms/step\n",
      "157/157 [==============================] - 0s 2ms/step\n",
      "157/157 [==============================] - 0s 2ms/step\n",
      "157/157 [==============================] - 0s 3ms/step\n",
      "157/157 [==============================] - 0s 2ms/step\n",
      "157/157 [==============================] - 0s 2ms/step\n",
      "157/157 [==============================] - 0s 2ms/step\n",
      "157/157 [==============================] - 0s 2ms/step\n",
      "157/157 [==============================] - 0s 2ms/step\n",
      "157/157 [==============================] - 0s 2ms/step\n",
      "157/157 [==============================] - 0s 2ms/step\n",
      "157/157 [==============================] - 0s 2ms/step\n",
      "157/157 [==============================] - 0s 2ms/step\n",
      "157/157 [==============================] - 0s 2ms/step\n",
      "157/157 [==============================] - 0s 2ms/step\n",
      "157/157 [==============================] - 0s 3ms/step\n",
      "157/157 [==============================] - 0s 2ms/step\n",
      "157/157 [==============================] - 0s 2ms/step\n",
      "157/157 [==============================] - 0s 2ms/step\n",
      "157/157 [==============================] - 0s 2ms/step\n",
      "157/157 [==============================] - 0s 2ms/step\n",
      "157/157 [==============================] - 1s 3ms/step\n",
      "157/157 [==============================] - 0s 2ms/step\n",
      "157/157 [==============================] - 0s 2ms/step\n",
      "157/157 [==============================] - 0s 2ms/step\n",
      "157/157 [==============================] - 0s 2ms/step\n",
      "157/157 [==============================] - 0s 2ms/step\n",
      "157/157 [==============================] - 0s 2ms/step\n",
      "157/157 [==============================] - 0s 2ms/step\n",
      "157/157 [==============================] - 0s 3ms/step\n",
      "157/157 [==============================] - 0s 3ms/step\n",
      "157/157 [==============================] - 0s 3ms/step\n",
      "157/157 [==============================] - 0s 3ms/step\n",
      "157/157 [==============================] - 0s 2ms/step\n",
      "157/157 [==============================] - 0s 2ms/step\n",
      "157/157 [==============================] - 0s 3ms/step\n",
      "157/157 [==============================] - 0s 2ms/step\n",
      "157/157 [==============================] - 0s 3ms/step\n",
      "157/157 [==============================] - 0s 3ms/step\n",
      "157/157 [==============================] - 1s 3ms/step\n",
      "157/157 [==============================] - 1s 4ms/step\n",
      "157/157 [==============================] - 1s 3ms/step\n",
      "157/157 [==============================] - 0s 3ms/step\n",
      "157/157 [==============================] - 1s 4ms/step\n",
      "157/157 [==============================] - 1s 4ms/step\n",
      "157/157 [==============================] - 0s 3ms/step\n",
      "157/157 [==============================] - 1s 3ms/step\n",
      "157/157 [==============================] - 1s 3ms/step\n",
      "157/157 [==============================] - 1s 3ms/step\n",
      "157/157 [==============================] - 0s 3ms/step\n",
      "157/157 [==============================] - 0s 2ms/step\n",
      "157/157 [==============================] - 0s 2ms/step\n",
      "157/157 [==============================] - 0s 2ms/step\n"
     ]
    },
    {
     "name": "stdout",
     "output_type": "stream",
     "text": [
      "157/157 [==============================] - 0s 2ms/step\n",
      "157/157 [==============================] - 0s 2ms/step\n",
      "157/157 [==============================] - 0s 2ms/step\n",
      "157/157 [==============================] - 0s 2ms/step\n",
      "157/157 [==============================] - 0s 2ms/step\n",
      "157/157 [==============================] - 0s 2ms/step\n",
      "157/157 [==============================] - 0s 3ms/step\n",
      "157/157 [==============================] - 0s 2ms/step\n",
      "157/157 [==============================] - 0s 2ms/step\n",
      "157/157 [==============================] - 0s 2ms/step\n",
      "157/157 [==============================] - 0s 2ms/step\n",
      "157/157 [==============================] - 0s 2ms/step\n",
      "157/157 [==============================] - 1s 3ms/step\n",
      "157/157 [==============================] - 1s 3ms/step\n",
      "157/157 [==============================] - 0s 3ms/step\n",
      "157/157 [==============================] - 1s 3ms/step\n",
      "157/157 [==============================] - 1s 3ms/step\n",
      "157/157 [==============================] - 0s 2ms/step\n",
      "157/157 [==============================] - 0s 2ms/step\n",
      "157/157 [==============================] - 0s 2ms/step\n",
      "157/157 [==============================] - 0s 2ms/step\n",
      "157/157 [==============================] - 0s 2ms/step\n",
      "157/157 [==============================] - 0s 2ms/step\n",
      "157/157 [==============================] - 0s 2ms/step\n",
      "157/157 [==============================] - 0s 2ms/step\n",
      "157/157 [==============================] - 0s 2ms/step\n",
      "157/157 [==============================] - 0s 2ms/step\n",
      "157/157 [==============================] - 0s 2ms/step\n",
      "157/157 [==============================] - 0s 3ms/step\n",
      "157/157 [==============================] - 1s 3ms/step\n",
      "157/157 [==============================] - 1s 5ms/step\n",
      "157/157 [==============================] - 1s 6ms/step\n",
      "157/157 [==============================] - 0s 3ms/step\n",
      "157/157 [==============================] - 1s 3ms/step\n",
      "157/157 [==============================] - 1s 3ms/step\n",
      "157/157 [==============================] - 1s 3ms/step\n",
      "157/157 [==============================] - 1s 3ms/step\n",
      "157/157 [==============================] - 0s 3ms/step\n",
      "157/157 [==============================] - 0s 3ms/step\n",
      "157/157 [==============================] - 0s 3ms/step\n",
      "157/157 [==============================] - 1s 3ms/step\n",
      "157/157 [==============================] - 0s 2ms/step\n",
      "157/157 [==============================] - 1s 3ms/step\n",
      "157/157 [==============================] - 0s 3ms/step\n",
      "157/157 [==============================] - 1s 3ms/step\n",
      "157/157 [==============================] - 1s 3ms/step\n",
      "157/157 [==============================] - 1s 3ms/step\n",
      "157/157 [==============================] - 0s 2ms/step\n",
      "157/157 [==============================] - 1s 3ms/step\n",
      "157/157 [==============================] - 0s 2ms/step\n",
      "157/157 [==============================] - 0s 2ms/step\n",
      "157/157 [==============================] - 0s 2ms/step\n",
      "157/157 [==============================] - 0s 2ms/step\n",
      "157/157 [==============================] - 0s 3ms/step\n",
      "157/157 [==============================] - 0s 2ms/step\n",
      "157/157 [==============================] - 0s 2ms/step\n",
      "157/157 [==============================] - 0s 2ms/step\n",
      "157/157 [==============================] - 0s 3ms/step\n",
      "157/157 [==============================] - 0s 2ms/step\n",
      "157/157 [==============================] - 0s 2ms/step\n",
      "157/157 [==============================] - 1s 4ms/step\n",
      "157/157 [==============================] - 1s 4ms/step\n",
      "157/157 [==============================] - 1s 3ms/step\n",
      "157/157 [==============================] - 0s 2ms/step\n",
      "157/157 [==============================] - 1s 3ms/step\n",
      "157/157 [==============================] - 0s 3ms/step\n",
      "157/157 [==============================] - 0s 2ms/step\n",
      "157/157 [==============================] - 0s 3ms/step\n",
      "157/157 [==============================] - 0s 2ms/step\n",
      "157/157 [==============================] - 1s 3ms/step\n",
      "157/157 [==============================] - 0s 3ms/step\n",
      "157/157 [==============================] - 0s 2ms/step\n",
      "157/157 [==============================] - 0s 3ms/step\n",
      "157/157 [==============================] - 1s 3ms/step\n",
      "157/157 [==============================] - 0s 3ms/step\n",
      "157/157 [==============================] - 1s 3ms/step\n",
      "157/157 [==============================] - 0s 2ms/step\n",
      "157/157 [==============================] - 0s 2ms/step\n",
      "157/157 [==============================] - 0s 3ms/step\n",
      "157/157 [==============================] - 0s 3ms/step\n",
      "157/157 [==============================] - 1s 3ms/step\n",
      "157/157 [==============================] - 0s 3ms/step\n",
      "157/157 [==============================] - 1s 3ms/step\n",
      "157/157 [==============================] - 1s 3ms/step\n",
      "157/157 [==============================] - 0s 3ms/step\n",
      "157/157 [==============================] - 1s 3ms/step\n",
      "157/157 [==============================] - 1s 3ms/step\n",
      "157/157 [==============================] - 0s 2ms/step\n",
      "157/157 [==============================] - 0s 2ms/step\n",
      "157/157 [==============================] - 0s 2ms/step\n",
      "157/157 [==============================] - 0s 3ms/step\n",
      "157/157 [==============================] - 0s 2ms/step\n",
      "157/157 [==============================] - 0s 2ms/step\n",
      "157/157 [==============================] - 0s 3ms/step\n",
      "157/157 [==============================] - 0s 2ms/step\n",
      "157/157 [==============================] - 0s 2ms/step\n",
      "157/157 [==============================] - 0s 3ms/step\n",
      "157/157 [==============================] - 0s 2ms/step\n",
      "157/157 [==============================] - 0s 2ms/step\n",
      "157/157 [==============================] - 0s 3ms/step\n",
      "157/157 [==============================] - 0s 3ms/step\n",
      "157/157 [==============================] - 1s 4ms/step\n",
      "157/157 [==============================] - 0s 3ms/step\n",
      "157/157 [==============================] - 0s 2ms/step\n",
      "157/157 [==============================] - 1s 3ms/step\n",
      "157/157 [==============================] - 0s 3ms/step\n",
      "157/157 [==============================] - 0s 2ms/step\n",
      "157/157 [==============================] - 0s 2ms/step\n",
      "157/157 [==============================] - 0s 2ms/step\n",
      "157/157 [==============================] - 0s 2ms/step\n",
      "157/157 [==============================] - 0s 2ms/step\n",
      "157/157 [==============================] - 0s 2ms/step\n",
      "157/157 [==============================] - 0s 2ms/step\n",
      "157/157 [==============================] - 0s 2ms/step\n",
      "157/157 [==============================] - 0s 2ms/step\n",
      "157/157 [==============================] - 0s 2ms/step\n",
      "157/157 [==============================] - 0s 2ms/step\n",
      "157/157 [==============================] - 0s 3ms/step\n",
      "157/157 [==============================] - 0s 2ms/step\n",
      "157/157 [==============================] - 1s 3ms/step\n",
      "157/157 [==============================] - 0s 2ms/step\n",
      "157/157 [==============================] - 0s 3ms/step\n",
      "157/157 [==============================] - 1s 3ms/step\n",
      "157/157 [==============================] - 0s 2ms/step\n",
      "157/157 [==============================] - 0s 3ms/step\n",
      "157/157 [==============================] - 0s 2ms/step\n",
      "157/157 [==============================] - 0s 2ms/step\n",
      "157/157 [==============================] - 0s 2ms/step\n",
      "157/157 [==============================] - 0s 2ms/step\n",
      "157/157 [==============================] - 1s 3ms/step\n",
      "157/157 [==============================] - 0s 2ms/step\n",
      "157/157 [==============================] - 0s 3ms/step\n",
      "157/157 [==============================] - 0s 2ms/step\n",
      "157/157 [==============================] - 0s 2ms/step\n",
      "157/157 [==============================] - 0s 2ms/step\n",
      "157/157 [==============================] - 0s 2ms/step\n",
      "157/157 [==============================] - 0s 3ms/step\n",
      "157/157 [==============================] - 0s 2ms/step\n",
      "157/157 [==============================] - 0s 2ms/step\n",
      "157/157 [==============================] - 0s 3ms/step\n",
      "157/157 [==============================] - 0s 2ms/step\n",
      "157/157 [==============================] - 0s 2ms/step\n",
      "157/157 [==============================] - 0s 2ms/step\n",
      "157/157 [==============================] - 0s 2ms/step\n",
      "157/157 [==============================] - 0s 3ms/step\n",
      "157/157 [==============================] - 1s 3ms/step\n",
      "157/157 [==============================] - 1s 3ms/step\n",
      "157/157 [==============================] - 1s 3ms/step\n",
      "157/157 [==============================] - 0s 2ms/step\n"
     ]
    },
    {
     "name": "stdout",
     "output_type": "stream",
     "text": [
      "157/157 [==============================] - 0s 2ms/step\n",
      "157/157 [==============================] - 0s 2ms/step\n",
      "157/157 [==============================] - 0s 2ms/step\n",
      "157/157 [==============================] - 0s 2ms/step\n",
      "157/157 [==============================] - 0s 3ms/step\n",
      "157/157 [==============================] - 0s 3ms/step\n",
      "157/157 [==============================] - 0s 3ms/step\n",
      "157/157 [==============================] - 0s 3ms/step\n",
      "157/157 [==============================] - 0s 3ms/step\n",
      "157/157 [==============================] - 0s 2ms/step\n",
      "157/157 [==============================] - 0s 2ms/step\n",
      "157/157 [==============================] - 0s 3ms/step\n",
      "157/157 [==============================] - 0s 2ms/step\n",
      "157/157 [==============================] - 0s 3ms/step\n",
      "157/157 [==============================] - 0s 2ms/step\n",
      "157/157 [==============================] - 1s 3ms/step\n",
      "157/157 [==============================] - 1s 3ms/step\n",
      "157/157 [==============================] - 0s 3ms/step\n",
      "157/157 [==============================] - 0s 2ms/step\n",
      "157/157 [==============================] - 0s 2ms/step\n",
      "157/157 [==============================] - 0s 3ms/step\n",
      "157/157 [==============================] - 0s 2ms/step\n",
      "157/157 [==============================] - 0s 3ms/step\n",
      "157/157 [==============================] - 0s 2ms/step\n",
      "157/157 [==============================] - 0s 2ms/step\n",
      "157/157 [==============================] - 0s 2ms/step\n",
      "157/157 [==============================] - 1s 3ms/step\n",
      "157/157 [==============================] - 0s 3ms/step\n",
      "157/157 [==============================] - 0s 3ms/step\n",
      "157/157 [==============================] - 1s 3ms/step\n",
      "157/157 [==============================] - 0s 2ms/step\n",
      "157/157 [==============================] - 1s 4ms/step\n",
      "157/157 [==============================] - 0s 3ms/step\n",
      "157/157 [==============================] - 1s 3ms/step\n",
      "157/157 [==============================] - 1s 3ms/step\n",
      "157/157 [==============================] - 0s 3ms/step\n",
      "157/157 [==============================] - 0s 3ms/step\n",
      "157/157 [==============================] - 0s 3ms/step\n",
      "157/157 [==============================] - 0s 3ms/step\n",
      "157/157 [==============================] - 1s 3ms/step\n",
      "157/157 [==============================] - 0s 2ms/step\n",
      "157/157 [==============================] - 1s 4ms/step\n",
      "157/157 [==============================] - 0s 3ms/step\n",
      "157/157 [==============================] - 0s 3ms/step\n",
      "157/157 [==============================] - 0s 3ms/step\n",
      "157/157 [==============================] - 0s 3ms/step\n",
      "157/157 [==============================] - 0s 3ms/step\n",
      "157/157 [==============================] - 1s 3ms/step\n",
      "157/157 [==============================] - 0s 3ms/step\n",
      "157/157 [==============================] - 0s 3ms/step\n",
      "157/157 [==============================] - 0s 3ms/step\n",
      "157/157 [==============================] - 1s 3ms/step\n",
      "157/157 [==============================] - 0s 3ms/step\n",
      "157/157 [==============================] - 0s 2ms/step\n",
      "157/157 [==============================] - 0s 3ms/step\n",
      "157/157 [==============================] - 0s 3ms/step\n",
      "157/157 [==============================] - 0s 3ms/step\n",
      "157/157 [==============================] - 0s 3ms/step\n",
      "157/157 [==============================] - 0s 2ms/step\n",
      "157/157 [==============================] - 0s 2ms/step\n",
      "157/157 [==============================] - 0s 2ms/step\n",
      "157/157 [==============================] - 0s 2ms/step\n",
      "157/157 [==============================] - 0s 2ms/step\n",
      "157/157 [==============================] - 0s 2ms/step\n",
      "157/157 [==============================] - 0s 2ms/step\n",
      "157/157 [==============================] - 0s 2ms/step\n",
      "157/157 [==============================] - 0s 2ms/step\n",
      "157/157 [==============================] - 0s 2ms/step\n",
      "157/157 [==============================] - 0s 2ms/step\n",
      "157/157 [==============================] - 0s 2ms/step\n",
      "157/157 [==============================] - 0s 2ms/step\n",
      "157/157 [==============================] - 0s 2ms/step\n",
      "157/157 [==============================] - 0s 2ms/step\n",
      "157/157 [==============================] - 0s 2ms/step\n",
      "157/157 [==============================] - 0s 2ms/step\n",
      "157/157 [==============================] - 0s 2ms/step\n",
      "157/157 [==============================] - 1s 4ms/step\n",
      "157/157 [==============================] - 0s 3ms/step\n",
      "157/157 [==============================] - 0s 3ms/step\n",
      "157/157 [==============================] - 0s 2ms/step\n",
      "157/157 [==============================] - 0s 3ms/step\n",
      "157/157 [==============================] - 0s 2ms/step\n",
      "157/157 [==============================] - 0s 2ms/step\n",
      "157/157 [==============================] - 0s 3ms/step\n",
      "157/157 [==============================] - 0s 2ms/step\n",
      "157/157 [==============================] - 1s 3ms/step\n",
      "157/157 [==============================] - 0s 3ms/step\n",
      "157/157 [==============================] - 0s 3ms/step\n",
      "157/157 [==============================] - 0s 2ms/step\n",
      "157/157 [==============================] - 0s 2ms/step\n",
      "157/157 [==============================] - 0s 2ms/step\n",
      "157/157 [==============================] - 0s 3ms/step\n",
      "157/157 [==============================] - 0s 2ms/step\n",
      "157/157 [==============================] - 0s 2ms/step\n",
      "157/157 [==============================] - 0s 2ms/step\n",
      "157/157 [==============================] - 0s 3ms/step\n",
      "157/157 [==============================] - 0s 2ms/step\n",
      "157/157 [==============================] - 0s 2ms/step\n",
      "157/157 [==============================] - 0s 3ms/step\n",
      "157/157 [==============================] - 0s 2ms/step\n",
      "157/157 [==============================] - 0s 2ms/step\n",
      "157/157 [==============================] - 0s 2ms/step\n",
      "157/157 [==============================] - 0s 2ms/step\n",
      "157/157 [==============================] - 0s 2ms/step\n",
      "157/157 [==============================] - 1s 3ms/step\n",
      "157/157 [==============================] - 0s 2ms/step\n",
      "157/157 [==============================] - 0s 2ms/step\n",
      "157/157 [==============================] - 0s 3ms/step\n",
      "157/157 [==============================] - 0s 2ms/step\n",
      "157/157 [==============================] - 1s 3ms/step\n",
      "157/157 [==============================] - 0s 2ms/step\n",
      "157/157 [==============================] - 0s 2ms/step\n",
      "157/157 [==============================] - 0s 3ms/step\n",
      "157/157 [==============================] - 0s 3ms/step\n",
      "157/157 [==============================] - 0s 3ms/step\n",
      "157/157 [==============================] - 0s 3ms/step\n",
      "157/157 [==============================] - 0s 2ms/step\n",
      "157/157 [==============================] - 0s 3ms/step\n",
      "157/157 [==============================] - 0s 2ms/step\n",
      "157/157 [==============================] - 0s 3ms/step\n",
      "157/157 [==============================] - 0s 2ms/step\n",
      "157/157 [==============================] - 0s 2ms/step\n",
      "157/157 [==============================] - 0s 2ms/step\n",
      "157/157 [==============================] - 0s 3ms/step\n",
      "157/157 [==============================] - 0s 2ms/step\n",
      "157/157 [==============================] - 0s 2ms/step\n",
      "157/157 [==============================] - 0s 2ms/step\n",
      "157/157 [==============================] - 1s 3ms/step\n",
      "157/157 [==============================] - 0s 3ms/step\n",
      "157/157 [==============================] - 0s 3ms/step\n",
      "157/157 [==============================] - 0s 2ms/step\n",
      "157/157 [==============================] - 0s 3ms/step\n",
      "157/157 [==============================] - 0s 2ms/step\n",
      "157/157 [==============================] - 0s 2ms/step\n",
      "157/157 [==============================] - 0s 2ms/step\n",
      "157/157 [==============================] - 0s 3ms/step\n",
      "157/157 [==============================] - 1s 3ms/step\n",
      "157/157 [==============================] - 0s 2ms/step\n",
      "157/157 [==============================] - 0s 2ms/step\n",
      "157/157 [==============================] - 0s 3ms/step\n",
      "157/157 [==============================] - 1s 3ms/step\n",
      "157/157 [==============================] - 0s 3ms/step\n",
      "157/157 [==============================] - 1s 3ms/step\n",
      "157/157 [==============================] - 1s 3ms/step\n",
      "157/157 [==============================] - 0s 3ms/step\n",
      "157/157 [==============================] - 0s 2ms/step\n",
      "157/157 [==============================] - 0s 2ms/step\n",
      "157/157 [==============================] - 1s 3ms/step\n",
      "157/157 [==============================] - 0s 3ms/step\n"
     ]
    },
    {
     "name": "stdout",
     "output_type": "stream",
     "text": [
      "157/157 [==============================] - 0s 3ms/step\n",
      "157/157 [==============================] - 0s 2ms/step\n",
      "157/157 [==============================] - 0s 2ms/step\n",
      "157/157 [==============================] - 0s 3ms/step\n",
      "157/157 [==============================] - 0s 3ms/step\n",
      "157/157 [==============================] - 0s 2ms/step\n",
      "157/157 [==============================] - 0s 3ms/step\n",
      "157/157 [==============================] - 0s 2ms/step\n",
      "157/157 [==============================] - 0s 2ms/step\n",
      "157/157 [==============================] - 0s 3ms/step\n",
      "157/157 [==============================] - 0s 3ms/step\n",
      "157/157 [==============================] - 0s 3ms/step\n",
      "157/157 [==============================] - 0s 2ms/step\n",
      "157/157 [==============================] - 0s 2ms/step\n",
      "157/157 [==============================] - 0s 2ms/step\n",
      "157/157 [==============================] - 0s 2ms/step\n",
      "157/157 [==============================] - 0s 2ms/step\n",
      "157/157 [==============================] - 0s 2ms/step\n",
      "157/157 [==============================] - 1s 3ms/step\n",
      "157/157 [==============================] - 1s 3ms/step\n",
      "157/157 [==============================] - 1s 4ms/step\n",
      "157/157 [==============================] - 0s 2ms/step\n",
      "157/157 [==============================] - 0s 3ms/step\n",
      "157/157 [==============================] - 0s 2ms/step\n",
      "157/157 [==============================] - 0s 3ms/step\n",
      "157/157 [==============================] - 0s 2ms/step\n",
      "157/157 [==============================] - 0s 2ms/step\n",
      "157/157 [==============================] - 0s 3ms/step\n",
      "157/157 [==============================] - 0s 3ms/step\n",
      "157/157 [==============================] - 0s 3ms/step\n",
      "157/157 [==============================] - 1s 3ms/step\n",
      "157/157 [==============================] - 0s 2ms/step\n",
      "157/157 [==============================] - 0s 2ms/step\n",
      "157/157 [==============================] - 0s 2ms/step\n",
      "157/157 [==============================] - 0s 2ms/step\n",
      "157/157 [==============================] - 0s 3ms/step\n",
      "157/157 [==============================] - 1s 3ms/step\n",
      "157/157 [==============================] - 0s 3ms/step\n",
      "157/157 [==============================] - 0s 2ms/step\n",
      "157/157 [==============================] - 0s 2ms/step\n",
      "157/157 [==============================] - 0s 2ms/step\n",
      "157/157 [==============================] - 0s 3ms/step\n",
      "157/157 [==============================] - 0s 2ms/step\n",
      "157/157 [==============================] - 0s 3ms/step\n",
      "157/157 [==============================] - 0s 3ms/step\n",
      "157/157 [==============================] - 0s 2ms/step\n",
      "157/157 [==============================] - 0s 2ms/step\n",
      "157/157 [==============================] - 0s 2ms/step\n",
      "157/157 [==============================] - 0s 3ms/step\n",
      "157/157 [==============================] - 0s 2ms/step\n",
      "157/157 [==============================] - 0s 3ms/step\n",
      "157/157 [==============================] - 0s 2ms/step\n",
      "157/157 [==============================] - 0s 2ms/step\n",
      "157/157 [==============================] - 0s 2ms/step\n",
      "157/157 [==============================] - 0s 2ms/step\n",
      "157/157 [==============================] - 0s 2ms/step\n",
      "157/157 [==============================] - 0s 2ms/step\n",
      "157/157 [==============================] - 0s 2ms/step\n",
      "157/157 [==============================] - 0s 2ms/step\n",
      "157/157 [==============================] - 0s 3ms/step\n",
      "157/157 [==============================] - 0s 2ms/step\n",
      " 38/157 [======>.......................] - ETA: 0s"
     ]
    }
   ],
   "source": [
    "# spanish_embedded_data is input sequence\n",
    "decoded_sequence = decode_sequence(spanish_embedded_data)"
   ]
  },
  {
   "cell_type": "code",
   "execution_count": null,
   "id": "8d00b1d3-673e-4ba5-b890-4a4854a9b5a8",
   "metadata": {},
   "outputs": [],
   "source": [
    "decoded_sequence.shape"
   ]
  },
  {
   "cell_type": "code",
   "execution_count": null,
   "id": "1f284f64",
   "metadata": {},
   "outputs": [],
   "source": []
  },
  {
   "cell_type": "code",
   "execution_count": null,
   "id": "e09e58b6",
   "metadata": {},
   "outputs": [],
   "source": []
  },
  {
   "cell_type": "code",
   "execution_count": null,
   "id": "6fc5d2a9-8863-4b51-97ce-262e333d7ad2",
   "metadata": {
    "tags": []
   },
   "outputs": [],
   "source": [
    "# from keras.models import Model\n",
    "# from keras.layers import Input, LSTM, Dense, Embedding\n",
    "\n",
    "# # Define input shape and parameters\n",
    "# # vocab_size_spanish = ...\n",
    "# BATCH_SIZE = 32\n",
    "# embedding_dim = 100\n",
    "# latent_dim = 64\n",
    "# dropout=0.2\n",
    "\n",
    "\n",
    "# # Encoder\n",
    "# encoder_inputs = Input(shape=(None,), dtype=tf.int32, name=\"spanish_input\")\n",
    "# encoder_embedding = Embedding(vocab_size_spanish, embedding_dim, name=\"sp_embedding\")(encoder_inputs)\n",
    "# encoder_lstm = LSTM(latent_dim, return_sequences=False, return_state=True, dropout=dropout, recurrent_dropout=dropout, name=\"encoder\")\n",
    "# _, enc_state_h, enc_state_c = encoder_lstm(encoder_embedding)\n",
    "# encoder_states = [enc_state_h, enc_state_c]\n",
    "\n",
    "# # Define encoder model\n",
    "# encoder_model = Model(encoder_inputs, encoder_states)\n",
    "\n",
    "# # Decoder\n",
    "# decoder_inputs = Input(shape=(None,), dtype=tf.int32, name=\"english_teacher\")\n",
    "# decoder_embedding = Embedding(vocab_size_english, embedding_dim, name=\"english_embedding\")(decoder_inputs)\n",
    "# decoder_lstm = LSTM(latent_dim, return_sequences=True, return_state=True, dropout=dropout, recurrent_dropout=dropout, name=\"decoder\")\n",
    "# decoder_outputs, _, _ = decoder_lstm(decoder_embedding, initial_state=encoder_states)\n",
    "# decoder_dense = Dense(vocab_size_english, activation='softmax')\n",
    "# decoder_outputs_final = decoder_dense(decoder_outputs)\n",
    "\n",
    "# # Define the model\n",
    "# model = Model([encoder_inputs, decoder_inputs], decoder_outputs_final)\n"
   ]
  },
  {
   "cell_type": "code",
   "execution_count": null,
   "id": "5eea2f2a-1366-499f-9098-349609c7aca4",
   "metadata": {},
   "outputs": [],
   "source": []
  },
  {
   "cell_type": "code",
   "execution_count": null,
   "id": "0cadc824-141b-459f-b71c-dc690ab243ae",
   "metadata": {},
   "outputs": [],
   "source": []
  },
  {
   "cell_type": "markdown",
   "id": "d6284782-bc67-4e3d-91f2-b07172f06b23",
   "metadata": {
    "tags": []
   },
   "source": [
    "# Sequence to Sequence Attention"
   ]
  },
  {
   "cell_type": "code",
   "execution_count": null,
   "id": "07370a6b-412f-46ae-b9e7-9e3b09abf6a2",
   "metadata": {},
   "outputs": [],
   "source": []
  },
  {
   "cell_type": "markdown",
   "id": "4f0a473c-6780-41f9-b6e6-5201fdf7e89d",
   "metadata": {},
   "source": [
    "<img  src=\"https://lena-voita.github.io/resources/lectures/seq2seq/attention/general_scheme-min.png\" />\n"
   ]
  },
  {
   "cell_type": "code",
   "execution_count": null,
   "id": "a71aa2df-6697-48e0-aae1-2b418a128c94",
   "metadata": {
    "tags": []
   },
   "outputs": [],
   "source": [
    "from keras.models import Model\n",
    "from keras.layers import Input, LSTM, Dense\n",
    "import tensorflow as tf\n",
    "\n",
    "# Define an input sequence and process it.\n",
    "# encoder_inputs = Input(shape=(1,), dtype=tf.string, name=\"spanish_input\")\n",
    "encoder_inputs = Input(shape=(None,), name=\"spanish_input\")\n",
    "\n",
    "# encoder_vectorizer = spanish_vectorizer(encoder_inputs)\n",
    "\n",
    "# enc = layers.Embedding(vocab_size_spanish, embedding_dim, name=\"sp_embedding\")(encoder_vectorizer)\n",
    "\n",
    "layer_embedding = layers.Embedding(vocab_size_spanish, embedding_dim)\n",
    "embedding_layer_final = layer_embedding(encoder_inputs)\n",
    "\n",
    "enc_state_ouput, enc_state_h, enc_state_c = LSTM(latent_dim,  return_sequences=True, return_state=True,\n",
    "                                   dropout=dropout, recurrent_dropout=dropout, name=\"encoder\")(embedding_layer_final)\n",
    "# We discard `encoder_outputs` and only keep the states.\n",
    "encoder_states = [enc_state_h, enc_state_c]\n",
    "\n",
    "\n",
    "\n",
    "\n",
    "\n",
    "decoder_inputs = Input(shape=(None,), name=\"english_teacher\")\n",
    "# decoder_inputs = Input(shape=(None,), dtype=tf.int32, name=\"english_teacher\")\n",
    "x = layers.Embedding(vocab_size_english, embedding_dim, name=\"english_embedding\")(decoder_inputs)\n",
    "\n",
    "\n",
    "\n",
    "# Adding the Attention mechanism\n",
    "\n",
    "decoder_lstm = layers.LSTM(latent_dim, return_sequences=True, return_state=True,\n",
    "                           dropout=dropout, recurrent_dropout=dropout, name=\"Decoder\")\n",
    "decoder_outputs,decoder_state_h, decoder_state_c = decoder_lstm(x, initial_state=encoder_states)\n",
    "\n",
    "attention = tf.keras.layers.Attention()([decoder_outputs, enc_state_ouput])  # Using the decoder input and encoder output for attention\n",
    "decoder_combined_context = layers.concatenate([attention, decoder_outputs], name=\"Luong_Attention\")\n",
    "\n",
    "decoder_dense = layers.Dense(vocab_size_english, activation='softmax')\n",
    "decoder_outputs_final = decoder_dense(attention)\n",
    "\n",
    "# Define the model\n",
    "model2 = Model([encoder_inputs, decoder_inputs], decoder_outputs_final)\n"
   ]
  },
  {
   "cell_type": "code",
   "execution_count": null,
   "id": "939945b5-606c-4b2f-acd9-258303ef159d",
   "metadata": {
    "tags": []
   },
   "outputs": [],
   "source": [
    "# x"
   ]
  },
  {
   "cell_type": "code",
   "execution_count": null,
   "id": "038329b9-3d1c-4ec2-bbe1-6aa2192c79c4",
   "metadata": {
    "tags": []
   },
   "outputs": [],
   "source": [
    "model2.summary()"
   ]
  },
  {
   "cell_type": "code",
   "execution_count": null,
   "id": "aa19a45a",
   "metadata": {},
   "outputs": [],
   "source": [
    "from tensorflow.keras.utils import plot_model\n",
    "\n",
    "plot_model(model2, to_file='model_plot3.png', show_shapes=True, show_layer_names=True)"
   ]
  },
  {
   "cell_type": "code",
   "execution_count": null,
   "id": "f89266a5-8e81-44d2-a13d-84f86d820633",
   "metadata": {
    "tags": []
   },
   "outputs": [],
   "source": [
    "model2.compile(loss='sparse_categorical_crossentropy', optimizer='rmsprop', metrics=['accuracy'])\n"
   ]
  },
  {
   "cell_type": "code",
   "execution_count": null,
   "id": "9fc254b8-57af-493c-a994-db2c1cdfbe8a",
   "metadata": {
    "tags": []
   },
   "outputs": [],
   "source": [
    "# Prepare training data with teacher forcing\n",
    "# decoder_input_data is a 2D array of shape (None, None) containing a tokenization of the English sentences.\n",
    "# decoder_target_data is the same as decoder_input_data but offset by one timestep. decoder_target_data[:, t] will be the same as decoder_input_data[:, t-1].\n",
    "\n",
    "english_teacher_enc = english_vectorizer(X_processed_array) #.numpy() # Teacher\n",
    "english_target_enc = np.zeros_like(english_teacher_enc)\n",
    "english_target_enc[:,:-1] = english_teacher_enc[:,1:] # To predict\n",
    "english_target_enc.shape"
   ]
  },
  {
   "cell_type": "code",
   "execution_count": null,
   "id": "17bdd726-e341-44dc-a978-8f54fb6c3c48",
   "metadata": {
    "tags": []
   },
   "outputs": [],
   "source": [
    "# Configure the model and start training\n",
    "# Stop training with early stopping with patience of 20\n",
    "callbacks_list = [EarlyStopping(monitor='loss', mode='min', min_delta=0.000001,\n",
    "                                patience=5, restore_best_weights=True, verbose=1,\n",
    "                                )]\n",
    "\n",
    "\n",
    "# history = model2.fit([y_processed_array, english_teacher_enc], english_target_enc,\n",
    "#                     validation_split=0.1,\n",
    "#                     epochs=10, batch_size=BATCH_SIZE,\n",
    "#                     callbacks=callbacks_list,\n",
    "#                     verbose=1)\n",
    "\n",
    "\n",
    "\n",
    "\n",
    "history = model2.fit([spanish_embedded_data, english_teacher_enc], english_target_enc,\n",
    "                    validation_split=0.1,\n",
    "                    epochs=50, batch_size=BATCH_SIZE,\n",
    "                    callbacks=callbacks_list,\n",
    "                    verbose=1)\n"
   ]
  },
  {
   "cell_type": "code",
   "execution_count": null,
   "id": "d96e0bc2-c185-4fa5-84f4-c1bc29555f8d",
   "metadata": {
    "tags": []
   },
   "outputs": [],
   "source": [
    "import matplotlib.pyplot as plt\n",
    "\n",
    "plt.figure(figsize=(20, 6))\n",
    "# Plot the first subplot  loss)\n",
    "plt.subplot(1, 2, 1)  # 1 row, 2 columns, first subplot\n",
    "plt.plot(history.history[\"loss\"])\n",
    "plt.plot(history.history[\"val_loss\"])\n",
    "plt.title(\"validation loss & training loss\")\n",
    "plt.xlabel(\"epochs\")\n",
    "plt.ylabel(\"loss\")\n",
    "leg = plt.legend([\"training loss\", \"validation loss\"],loc =\"upper right\"); \n",
    "\n",
    "# Plot the second subplot ( accuracy)\n",
    "plt.subplot(1, 2, 2)  # 1 row, 2 columns, second subplot\n",
    "plt.plot(history.history[\"accuracy\"])\n",
    "plt.plot(history.history[\"val_accuracy\"])\n",
    "plt.title(\"validation accuracy & training loaccuracyss\")\n",
    "plt.xlabel(\"epochs\")\n",
    "plt.ylabel(\"accuracy\")\n",
    "leg = plt.legend([\"training accuracy\", \"validation accuracy\"],loc =\"upper left\"); \n",
    "\n",
    "plt.show()\n"
   ]
  },
  {
   "cell_type": "code",
   "execution_count": null,
   "id": "db575092-484b-40cf-9dd3-1958366480c5",
   "metadata": {},
   "outputs": [],
   "source": [
    "# y_pred=model2.predict([spanish_embedded_data, english_teacher_enc])"
   ]
  },
  {
   "cell_type": "code",
   "execution_count": null,
   "id": "139a7ebd-50bd-43b3-a70e-5266acaf9d84",
   "metadata": {},
   "outputs": [],
   "source": [
    "# y_pred.shape"
   ]
  },
  {
   "cell_type": "code",
   "execution_count": null,
   "id": "e925190d-5389-48f8-b9dc-317874507654",
   "metadata": {},
   "outputs": [],
   "source": []
  },
  {
   "cell_type": "code",
   "execution_count": null,
   "id": "33d544b2-017f-43c2-842d-9d53c68007f4",
   "metadata": {},
   "outputs": [],
   "source": []
  },
  {
   "cell_type": "code",
   "execution_count": null,
   "id": "d4e6479d-a73d-4ce4-84bd-d904dbff55bc",
   "metadata": {
    "tags": []
   },
   "outputs": [],
   "source": [
    "from keras.models import Model\n",
    "from keras.layers import Input, LSTM, Dense\n",
    "\n",
    "# Define an input sequence and process it.\n",
    "# encoder_inputs = Input(shape=(None, num_encoder_tokens))\n",
    "A_encoder_inputs = Input(shape=(1,),dtype=tf.string, name=\"spanish_input\")\n",
    "A_encoder_vectorizer = spanish_vectorizer(A_encoder_inputs)\n",
    "\n",
    "A_enc = layers.Embedding(vocab_size_spanish, embedding_dim, name=\"sp_embedding\")(A_encoder_vectorizer)\n",
    "encoder_outputs, A_enc_state_h, A_enc_state_c = LSTM(latent_dim,  return_sequences=True,return_state=True,\n",
    "                                   dropout=dropout, recurrent_dropout=dropout, name=\"encoder\")(A_enc)\n",
    "# We discard `encoder_outputs` and only keep the states.\n",
    "A_encoder_states = [A_enc_state_h, A_enc_state_c]\n",
    "\n"
   ]
  },
  {
   "cell_type": "code",
   "execution_count": null,
   "id": "4d26239c-addd-4305-83e8-75d3fd554c5f",
   "metadata": {
    "tags": []
   },
   "outputs": [],
   "source": [
    "decoder_inputs = Input(shape=(None,), dtype=tf.int32, name=\"english_teacher\")\n",
    "x = layers.Embedding(vocab_size_english, embedding_dim\n",
    "                     ,name=\"english_embedding\")(decoder_inputs)\n",
    "decoder_lstm = layers.LSTM(latent_dim, return_sequences=True, return_state=True,\n",
    "                           dropout=dropout, recurrent_dropout=dropout, name=\"Decoder\")\n",
    "decoder_outputs, _, _ = decoder_lstm(x, initial_state=A_encoder_states)\n"
   ]
  },
  {
   "cell_type": "code",
   "execution_count": null,
   "id": "1d56d463-34e8-4c23-bb0f-bffe9bb77a21",
   "metadata": {
    "tags": []
   },
   "outputs": [],
   "source": [
    "\"\"\" Attentional part \"\"\"\n",
    "attention = layers.dot([decoder_outputs, encoder_outputs], axes=[2,2], name=\"Attention_score\")"
   ]
  },
  {
   "cell_type": "code",
   "execution_count": null,
   "id": "82dc226b-b37d-41c0-98f0-3c735c00e28c",
   "metadata": {
    "tags": []
   },
   "outputs": [],
   "source": [
    "\"\"\" Context vector \"\"\"\n",
    "context = layers.dot([attention, encoder_outputs], axes=[2,1], name=\"Attention_output\")\n",
    "print(context.shape)"
   ]
  },
  {
   "cell_type": "code",
   "execution_count": null,
   "id": "23efd670-8f7e-4aed-ad50-e561465c35f0",
   "metadata": {
    "tags": []
   },
   "outputs": [],
   "source": [
    "\"\"\" Combine attention with decoder ouput \"\"\"\n",
    "decoder_combined_context = layers.concatenate([context, decoder_outputs], name=\"Luong_Attention\")\n",
    "print(decoder_combined_context.shape)"
   ]
  },
  {
   "cell_type": "code",
   "execution_count": null,
   "id": "a378bb66-2756-4257-96f5-951d64b329ad",
   "metadata": {
    "tags": []
   },
   "outputs": [],
   "source": [
    "\"\"\" Ouput of the model \"\"\"\n",
    "ouputs = layers.Dense(vocab_size_english, activation='softmax', name=\"Output\")(decoder_combined_context)\n",
    "print(decoder_outputs.shape)"
   ]
  },
  {
   "cell_type": "code",
   "execution_count": null,
   "id": "d3a707f1-d7bb-4ce5-be34-3acd7456b659",
   "metadata": {
    "tags": []
   },
   "outputs": [],
   "source": [
    "model3 = Model([A_encoder_inputs, decoder_inputs], ouputs)"
   ]
  },
  {
   "cell_type": "code",
   "execution_count": null,
   "id": "3d5e062f-0a6b-46ab-90f9-bb5ecd600609",
   "metadata": {
    "tags": []
   },
   "outputs": [],
   "source": [
    "model3.summary()"
   ]
  },
  {
   "cell_type": "code",
   "execution_count": null,
   "id": "45160607",
   "metadata": {},
   "outputs": [],
   "source": [
    "from tensorflow.keras.utils import plot_model\n",
    "\n",
    "plot_model(model3, to_file='model_plot4.png', show_shapes=True, show_layer_names=True)"
   ]
  },
  {
   "cell_type": "code",
   "execution_count": null,
   "id": "a2f654ad-b502-4f50-a17a-821ffda7df94",
   "metadata": {
    "tags": []
   },
   "outputs": [],
   "source": [
    "model3.compile(loss='sparse_categorical_crossentropy', optimizer='rmsprop', metrics=['accuracy'])\n"
   ]
  },
  {
   "cell_type": "code",
   "execution_count": null,
   "id": "d9f81c8e-ac8d-4e58-bed2-09327700448d",
   "metadata": {
    "tags": []
   },
   "outputs": [],
   "source": [
    "# Prepare training data with teacher forcing\n",
    "# decoder_input_data is a 2D array of shape (None, None) containing a tokenization of the English sentences.\n",
    "# decoder_target_data is the same as decoder_input_data but offset by one timestep. decoder_target_data[:, t] will be the same as decoder_input_data[:, t-1].\n",
    "\n",
    "english_teacher_enc = english_vectorizer(X_processed_array) #.numpy() # Teacher\n",
    "english_target_enc = np.zeros_like(english_teacher_enc)\n",
    "english_target_enc[:,:-1] = english_teacher_enc[:,1:] # To predict\n",
    "english_target_enc.shape"
   ]
  },
  {
   "cell_type": "code",
   "execution_count": null,
   "id": "6e90c6ab-194b-43f8-98f0-59b26b7c98fe",
   "metadata": {
    "tags": []
   },
   "outputs": [],
   "source": [
    "# Configure the model and start training\n",
    "# Stop training with early stopping with patience of 20\n",
    "callbacks_list = [EarlyStopping(monitor='loss', mode='min', min_delta=0.000001,\n",
    "                                patience=5, restore_best_weights=True, verbose=1,\n",
    "                                )]\n",
    "\n",
    "\n",
    "history = model3.fit([y_processed_array, english_teacher_enc], english_target_enc,\n",
    "                    validation_split=0.1,\n",
    "                    epochs=50, batch_size=BATCH_SIZE,\n",
    "                    callbacks=callbacks_list,\n",
    "                    verbose=1)\n",
    "\n",
    "\n",
    "\n"
   ]
  },
  {
   "cell_type": "code",
   "execution_count": null,
   "id": "54279d7e-37c1-47c0-b20e-4c6c995a223b",
   "metadata": {
    "tags": []
   },
   "outputs": [],
   "source": [
    "import matplotlib.pyplot as plt\n",
    "\n",
    "plt.figure(figsize=(20, 6))\n",
    "# Plot the first subplot  loss)\n",
    "plt.subplot(1, 2, 1)  # 1 row, 2 columns, first subplot\n",
    "plt.plot(history.history[\"loss\"])\n",
    "plt.plot(history.history[\"val_loss\"])\n",
    "plt.title(\"validation loss & training loss\")\n",
    "plt.xlabel(\"epochs\")\n",
    "plt.ylabel(\"loss\")\n",
    "leg = plt.legend([\"training loss\", \"validation loss\"],loc =\"upper right\"); \n",
    "\n",
    "# Plot the second subplot ( accuracy)\n",
    "plt.subplot(1, 2, 2)  # 1 row, 2 columns, second subplot\n",
    "plt.plot(history.history[\"accuracy\"])\n",
    "plt.plot(history.history[\"val_accuracy\"])\n",
    "plt.title(\"validation accuracy & training loaccuracyss\")\n",
    "plt.xlabel(\"epochs\")\n",
    "plt.ylabel(\"accuracy\")\n",
    "leg = plt.legend([\"training accuracy\", \"validation accuracy\"],loc =\"upper left\"); \n",
    "\n",
    "plt.show()\n"
   ]
  },
  {
   "cell_type": "code",
   "execution_count": null,
   "id": "33d56052-fffd-4270-8e8a-c292f331e1b8",
   "metadata": {},
   "outputs": [],
   "source": []
  }
 ],
 "metadata": {
  "kernelspec": {
   "display_name": "Python 3 (ipykernel)",
   "language": "python",
   "name": "python3"
  },
  "language_info": {
   "codemirror_mode": {
    "name": "ipython",
    "version": 3
   },
   "file_extension": ".py",
   "mimetype": "text/x-python",
   "name": "python",
   "nbconvert_exporter": "python",
   "pygments_lexer": "ipython3",
   "version": "3.11.5"
  }
 },
 "nbformat": 4,
 "nbformat_minor": 5
}
